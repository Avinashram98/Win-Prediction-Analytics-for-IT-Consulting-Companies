{
 "cells": [
  {
   "cell_type": "code",
   "execution_count": 1,
   "id": "3f487277",
   "metadata": {},
   "outputs": [],
   "source": [
    "# Import the basic packages\n",
    "import pandas as pd\n",
    "import chardet\n",
    "import matplotlib.pyplot as plt\n",
    "import seaborn as sns\n",
    "import sklearn\n",
    "import warnings\n",
    "warnings.filterwarnings('ignore')\n",
    "import os\n",
    "import numpy as np"
   ]
  },
  {
   "cell_type": "code",
   "execution_count": 2,
   "id": "8077df24",
   "metadata": {},
   "outputs": [
    {
     "data": {
      "text/html": [
       "<div>\n",
       "<style scoped>\n",
       "    .dataframe tbody tr th:only-of-type {\n",
       "        vertical-align: middle;\n",
       "    }\n",
       "\n",
       "    .dataframe tbody tr th {\n",
       "        vertical-align: top;\n",
       "    }\n",
       "\n",
       "    .dataframe thead th {\n",
       "        text-align: right;\n",
       "    }\n",
       "</style>\n",
       "<table border=\"1\" class=\"dataframe\">\n",
       "  <thead>\n",
       "    <tr style=\"text-align: right;\">\n",
       "      <th></th>\n",
       "      <th>Client Category</th>\n",
       "      <th>Solution Type</th>\n",
       "      <th>Deal Date</th>\n",
       "      <th>Sector</th>\n",
       "      <th>Location</th>\n",
       "      <th>VP Name</th>\n",
       "      <th>Manager Name</th>\n",
       "      <th>Deal Cost</th>\n",
       "      <th>Deal Status Code</th>\n",
       "    </tr>\n",
       "  </thead>\n",
       "  <tbody>\n",
       "    <tr>\n",
       "      <th>0</th>\n",
       "      <td>Telecom</td>\n",
       "      <td>Solution 7</td>\n",
       "      <td>27-Mar-12</td>\n",
       "      <td>Sector 24</td>\n",
       "      <td>L5</td>\n",
       "      <td>Ekta Zutshi</td>\n",
       "      <td>Gopa Trilochana</td>\n",
       "      <td>150000.00</td>\n",
       "      <td>Won</td>\n",
       "    </tr>\n",
       "    <tr>\n",
       "      <th>1</th>\n",
       "      <td>Telecom</td>\n",
       "      <td>Solution 7</td>\n",
       "      <td>25-Sep-12</td>\n",
       "      <td>Sector 24</td>\n",
       "      <td>L5</td>\n",
       "      <td>Ekta Zutshi</td>\n",
       "      <td>Gopa Trilochana</td>\n",
       "      <td>744705.88</td>\n",
       "      <td>Won</td>\n",
       "    </tr>\n",
       "    <tr>\n",
       "      <th>2</th>\n",
       "      <td>Internal</td>\n",
       "      <td>Solution 59</td>\n",
       "      <td>01-Aug-11</td>\n",
       "      <td>Sector 20</td>\n",
       "      <td>Others</td>\n",
       "      <td>Ekta Zutshi</td>\n",
       "      <td>Russell Dahlen</td>\n",
       "      <td>60000.00</td>\n",
       "      <td>Lost</td>\n",
       "    </tr>\n",
       "    <tr>\n",
       "      <th>3</th>\n",
       "      <td>Internal</td>\n",
       "      <td>Solution 59</td>\n",
       "      <td>28-Apr-11</td>\n",
       "      <td>Sector 20</td>\n",
       "      <td>Others</td>\n",
       "      <td>Ekta Zutshi</td>\n",
       "      <td>Russell Dahlen</td>\n",
       "      <td>60000.00</td>\n",
       "      <td>Lost</td>\n",
       "    </tr>\n",
       "    <tr>\n",
       "      <th>4</th>\n",
       "      <td>Internal</td>\n",
       "      <td>Solution 32</td>\n",
       "      <td>03-Jun-11</td>\n",
       "      <td>Sector 20</td>\n",
       "      <td>Others</td>\n",
       "      <td>Ekta Zutshi</td>\n",
       "      <td>Russell Dahlen</td>\n",
       "      <td>80882.35</td>\n",
       "      <td>Lost</td>\n",
       "    </tr>\n",
       "    <tr>\n",
       "      <th>5</th>\n",
       "      <td>Internal</td>\n",
       "      <td>Solution 32</td>\n",
       "      <td>24-May-11</td>\n",
       "      <td>Sector 20</td>\n",
       "      <td>Others</td>\n",
       "      <td>Ekta Zutshi</td>\n",
       "      <td>Russell Dahlen</td>\n",
       "      <td>80882.35</td>\n",
       "      <td>Lost</td>\n",
       "    </tr>\n",
       "    <tr>\n",
       "      <th>6</th>\n",
       "      <td>Internal</td>\n",
       "      <td>Solution 59</td>\n",
       "      <td>03-Nov-11</td>\n",
       "      <td>Sector 2</td>\n",
       "      <td>L10</td>\n",
       "      <td>Mervin Harwood</td>\n",
       "      <td>rahul sharma</td>\n",
       "      <td>526176.47</td>\n",
       "      <td>Won</td>\n",
       "    </tr>\n",
       "    <tr>\n",
       "      <th>7</th>\n",
       "      <td>Govt</td>\n",
       "      <td>Solution 7</td>\n",
       "      <td>17-Sep-12</td>\n",
       "      <td>Sector 13</td>\n",
       "      <td>L5</td>\n",
       "      <td>Sargar Deep Rao</td>\n",
       "      <td>Vidur Hukle</td>\n",
       "      <td>409705.88</td>\n",
       "      <td>Lost</td>\n",
       "    </tr>\n",
       "    <tr>\n",
       "      <th>8</th>\n",
       "      <td>Consumer Good</td>\n",
       "      <td>Solution 42</td>\n",
       "      <td>11-Apr-12</td>\n",
       "      <td>Sector 12</td>\n",
       "      <td>L10</td>\n",
       "      <td>Lilli Storrs</td>\n",
       "      <td>Md. Daud</td>\n",
       "      <td>1032352.94</td>\n",
       "      <td>Won</td>\n",
       "    </tr>\n",
       "    <tr>\n",
       "      <th>9</th>\n",
       "      <td>Internal</td>\n",
       "      <td>Solution 59</td>\n",
       "      <td>17-Nov-11</td>\n",
       "      <td>Sector 20</td>\n",
       "      <td>Others</td>\n",
       "      <td>Sargar Deep Rao</td>\n",
       "      <td>Hardeep Suksma</td>\n",
       "      <td>558823.53</td>\n",
       "      <td>Lost</td>\n",
       "    </tr>\n",
       "  </tbody>\n",
       "</table>\n",
       "</div>"
      ],
      "text/plain": [
       "  Client Category Solution Type  Deal Date     Sector Location  \\\n",
       "0         Telecom    Solution 7  27-Mar-12  Sector 24       L5   \n",
       "1         Telecom    Solution 7  25-Sep-12  Sector 24       L5   \n",
       "2        Internal   Solution 59  01-Aug-11  Sector 20   Others   \n",
       "3        Internal   Solution 59  28-Apr-11  Sector 20   Others   \n",
       "4        Internal   Solution 32  03-Jun-11  Sector 20   Others   \n",
       "5        Internal   Solution 32  24-May-11  Sector 20   Others   \n",
       "6        Internal   Solution 59  03-Nov-11   Sector 2      L10   \n",
       "7            Govt    Solution 7  17-Sep-12  Sector 13       L5   \n",
       "8   Consumer Good   Solution 42  11-Apr-12  Sector 12      L10   \n",
       "9        Internal   Solution 59  17-Nov-11  Sector 20   Others   \n",
       "\n",
       "           VP Name     Manager Name   Deal Cost Deal Status Code  \n",
       "0      Ekta Zutshi  Gopa Trilochana   150000.00              Won  \n",
       "1      Ekta Zutshi  Gopa Trilochana   744705.88              Won  \n",
       "2      Ekta Zutshi   Russell Dahlen    60000.00             Lost  \n",
       "3      Ekta Zutshi   Russell Dahlen    60000.00             Lost  \n",
       "4      Ekta Zutshi   Russell Dahlen    80882.35             Lost  \n",
       "5      Ekta Zutshi   Russell Dahlen    80882.35             Lost  \n",
       "6   Mervin Harwood     rahul sharma   526176.47              Won  \n",
       "7  Sargar Deep Rao      Vidur Hukle   409705.88             Lost  \n",
       "8     Lilli Storrs         Md. Daud  1032352.94              Won  \n",
       "9  Sargar Deep Rao   Hardeep Suksma   558823.53             Lost  "
      ]
     },
     "execution_count": 2,
     "metadata": {},
     "output_type": "execute_result"
    }
   ],
   "source": [
    "# import the dataset\n",
    "with open('Winp.csv', 'rb') as f:\n",
    "    enc = chardet.detect(f.read())  \n",
    "mydata = pd.read_csv('Winp.csv', encoding = enc['encoding'])\n",
    "mydata.head(10)"
   ]
  },
  {
   "cell_type": "code",
   "execution_count": 3,
   "id": "125dd70a",
   "metadata": {},
   "outputs": [
    {
     "data": {
      "text/html": [
       "<div>\n",
       "<style scoped>\n",
       "    .dataframe tbody tr th:only-of-type {\n",
       "        vertical-align: middle;\n",
       "    }\n",
       "\n",
       "    .dataframe tbody tr th {\n",
       "        vertical-align: top;\n",
       "    }\n",
       "\n",
       "    .dataframe thead th {\n",
       "        text-align: right;\n",
       "    }\n",
       "</style>\n",
       "<table border=\"1\" class=\"dataframe\">\n",
       "  <thead>\n",
       "    <tr style=\"text-align: right;\">\n",
       "      <th></th>\n",
       "      <th>Client Category</th>\n",
       "      <th>Solution Type</th>\n",
       "      <th>Deal Date</th>\n",
       "      <th>Sector</th>\n",
       "      <th>Location</th>\n",
       "      <th>VP Name</th>\n",
       "      <th>Manager Name</th>\n",
       "      <th>Deal Cost</th>\n",
       "      <th>Deal Status Code</th>\n",
       "    </tr>\n",
       "  </thead>\n",
       "  <tbody>\n",
       "    <tr>\n",
       "      <th>0</th>\n",
       "      <td>Telecom</td>\n",
       "      <td>Solution 7</td>\n",
       "      <td>27-Mar-12</td>\n",
       "      <td>Sector 24</td>\n",
       "      <td>L5</td>\n",
       "      <td>Ekta Zutshi</td>\n",
       "      <td>Gopa Trilochana</td>\n",
       "      <td>150000.00</td>\n",
       "      <td>Won</td>\n",
       "    </tr>\n",
       "    <tr>\n",
       "      <th>1</th>\n",
       "      <td>Telecom</td>\n",
       "      <td>Solution 7</td>\n",
       "      <td>25-Sep-12</td>\n",
       "      <td>Sector 24</td>\n",
       "      <td>L5</td>\n",
       "      <td>Ekta Zutshi</td>\n",
       "      <td>Gopa Trilochana</td>\n",
       "      <td>744705.88</td>\n",
       "      <td>Won</td>\n",
       "    </tr>\n",
       "    <tr>\n",
       "      <th>2</th>\n",
       "      <td>Internal</td>\n",
       "      <td>Solution 59</td>\n",
       "      <td>01-Aug-11</td>\n",
       "      <td>Sector 20</td>\n",
       "      <td>Others</td>\n",
       "      <td>Ekta Zutshi</td>\n",
       "      <td>Russell Dahlen</td>\n",
       "      <td>60000.00</td>\n",
       "      <td>Lost</td>\n",
       "    </tr>\n",
       "    <tr>\n",
       "      <th>3</th>\n",
       "      <td>Internal</td>\n",
       "      <td>Solution 59</td>\n",
       "      <td>28-Apr-11</td>\n",
       "      <td>Sector 20</td>\n",
       "      <td>Others</td>\n",
       "      <td>Ekta Zutshi</td>\n",
       "      <td>Russell Dahlen</td>\n",
       "      <td>60000.00</td>\n",
       "      <td>Lost</td>\n",
       "    </tr>\n",
       "    <tr>\n",
       "      <th>4</th>\n",
       "      <td>Internal</td>\n",
       "      <td>Solution 32</td>\n",
       "      <td>03-Jun-11</td>\n",
       "      <td>Sector 20</td>\n",
       "      <td>Others</td>\n",
       "      <td>Ekta Zutshi</td>\n",
       "      <td>Russell Dahlen</td>\n",
       "      <td>80882.35</td>\n",
       "      <td>Lost</td>\n",
       "    </tr>\n",
       "  </tbody>\n",
       "</table>\n",
       "</div>"
      ],
      "text/plain": [
       "  Client Category Solution Type  Deal Date     Sector Location      VP Name  \\\n",
       "0         Telecom    Solution 7  27-Mar-12  Sector 24       L5  Ekta Zutshi   \n",
       "1         Telecom    Solution 7  25-Sep-12  Sector 24       L5  Ekta Zutshi   \n",
       "2        Internal   Solution 59  01-Aug-11  Sector 20   Others  Ekta Zutshi   \n",
       "3        Internal   Solution 59  28-Apr-11  Sector 20   Others  Ekta Zutshi   \n",
       "4        Internal   Solution 32  03-Jun-11  Sector 20   Others  Ekta Zutshi   \n",
       "\n",
       "      Manager Name  Deal Cost Deal Status Code  \n",
       "0  Gopa Trilochana  150000.00              Won  \n",
       "1  Gopa Trilochana  744705.88              Won  \n",
       "2   Russell Dahlen   60000.00             Lost  \n",
       "3   Russell Dahlen   60000.00             Lost  \n",
       "4   Russell Dahlen   80882.35             Lost  "
      ]
     },
     "execution_count": 3,
     "metadata": {},
     "output_type": "execute_result"
    }
   ],
   "source": [
    "#making a copy of the data to avoid playing with the new data:\n",
    "df = mydata.copy()\n",
    "df.head()"
   ]
  },
  {
   "cell_type": "code",
   "execution_count": 4,
   "id": "bfe7aeeb",
   "metadata": {},
   "outputs": [],
   "source": [
    "#Data Preprocessing \n",
    "# 1. Missing Value\n",
    "# 2. Outier\n",
    "# 3. Encoding"
   ]
  },
  {
   "cell_type": "code",
   "execution_count": 5,
   "id": "ce011f9e",
   "metadata": {},
   "outputs": [],
   "source": [
    "df['Deal Date'] = pd.to_datetime(df['Deal Date'])"
   ]
  },
  {
   "cell_type": "code",
   "execution_count": 6,
   "id": "33fc753b",
   "metadata": {},
   "outputs": [
    {
     "name": "stdout",
     "output_type": "stream",
     "text": [
      "<class 'pandas.core.frame.DataFrame'>\n",
      "RangeIndex: 10061 entries, 0 to 10060\n",
      "Data columns (total 9 columns):\n",
      " #   Column            Non-Null Count  Dtype         \n",
      "---  ------            --------------  -----         \n",
      " 0   Client Category   9982 non-null   object        \n",
      " 1   Solution Type     10061 non-null  object        \n",
      " 2   Deal Date         10061 non-null  datetime64[ns]\n",
      " 3   Sector            10061 non-null  object        \n",
      " 4   Location          10061 non-null  object        \n",
      " 5   VP Name           10061 non-null  object        \n",
      " 6   Manager Name      10061 non-null  object        \n",
      " 7   Deal Cost         10061 non-null  float64       \n",
      " 8   Deal Status Code  10061 non-null  object        \n",
      "dtypes: datetime64[ns](1), float64(1), object(7)\n",
      "memory usage: 707.5+ KB\n"
     ]
    }
   ],
   "source": [
    "#Checking the type of data with Dependent and Independet variables\n",
    "df.info()\n",
    "#Most of the data is object except for the Deal Cost everything else is a character\n",
    "#There is missing data with 'Client Category', since less than 25% of the values are missing we cannot delete the data."
   ]
  },
  {
   "cell_type": "code",
   "execution_count": 7,
   "id": "971eebf0",
   "metadata": {},
   "outputs": [
    {
     "data": {
      "text/plain": [
       "Client Category      True\n",
       "Solution Type       False\n",
       "Deal Date           False\n",
       "Sector              False\n",
       "Location            False\n",
       "VP Name             False\n",
       "Manager Name        False\n",
       "Deal Cost           False\n",
       "Deal Status Code    False\n",
       "dtype: bool"
      ]
     },
     "execution_count": 7,
     "metadata": {},
     "output_type": "execute_result"
    }
   ],
   "source": [
    "#Verifying the missing value\n",
    "df.isnull().any()\n",
    "#Client category is the only missing data"
   ]
  },
  {
   "cell_type": "code",
   "execution_count": 8,
   "id": "6d7c8e11",
   "metadata": {},
   "outputs": [
    {
     "data": {
      "text/plain": [
       "Client Category     79\n",
       "Solution Type        0\n",
       "Deal Date            0\n",
       "Sector               0\n",
       "Location             0\n",
       "VP Name              0\n",
       "Manager Name         0\n",
       "Deal Cost            0\n",
       "Deal Status Code     0\n",
       "dtype: int64"
      ]
     },
     "execution_count": 8,
     "metadata": {},
     "output_type": "execute_result"
    }
   ],
   "source": [
    "#Calculating the number of missing values\n",
    "df.isnull().sum()\n",
    "#79 missing values is extremely less"
   ]
  },
  {
   "cell_type": "code",
   "execution_count": 9,
   "id": "7696d72b",
   "metadata": {},
   "outputs": [
    {
     "data": {
      "image/png": "[encoded data removed]",
      "text/plain": [
       "<Figure size 432x288 with 1 Axes>"
      ]
     },
     "metadata": {
      "needs_background": "light"
     },
     "output_type": "display_data"
    }
   ],
   "source": [
    "#Visualization of the missing values using a Heat Map\n",
    "sns.heatmap(df.isnull(), yticklabels = False, cbar=False, cmap='rainbow')\n",
    "plt.show()\n",
    "#Missing data is with 'Client Category' as showing in the graph."
   ]
  },
  {
   "cell_type": "code",
   "execution_count": 10,
   "id": "4834064f",
   "metadata": {},
   "outputs": [
    {
     "data": {
      "text/plain": [
       "Client Category     0.78521\n",
       "Solution Type       0.00000\n",
       "Deal Date           0.00000\n",
       "Sector              0.00000\n",
       "Location            0.00000\n",
       "VP Name             0.00000\n",
       "Manager Name        0.00000\n",
       "Deal Cost           0.00000\n",
       "Deal Status Code    0.00000\n",
       "dtype: float64"
      ]
     },
     "execution_count": 10,
     "metadata": {},
     "output_type": "execute_result"
    }
   ],
   "source": [
    "#Percentage of missing value\n",
    "(df.isnull().sum() / len(df))*100"
   ]
  },
  {
   "cell_type": "code",
   "execution_count": 11,
   "id": "d8f02af6",
   "metadata": {},
   "outputs": [
    {
     "data": {
      "text/plain": [
       "Others                   1763\n",
       "Internal                 1454\n",
       "Services_based           1202\n",
       "Tech                      913\n",
       "Domestic Public Bank      419\n",
       "International Bank        376\n",
       "Consulting                352\n",
       "Finance                   339\n",
       "Telecom                   327\n",
       "Power ind                 264\n",
       "Domestic Private Bank     262\n",
       "Insurance                 247\n",
       "Consumer Good             185\n",
       "Automobiles               178\n",
       "Infrastructure            152\n",
       "Domestic Bank             134\n",
       "Retail_market             126\n",
       "Govt                      121\n",
       "Hospitality               119\n",
       "Manufacturing             117\n",
       "Pharma                    110\n",
       "Healthcare                 99\n",
       "Electronics                81\n",
       "Media_Journal              71\n",
       "Industries                 66\n",
       "Research Development       63\n",
       "Energy                     57\n",
       "Knowledge                  50\n",
       "Management                 43\n",
       "Govt Bank Special          41\n",
       "Payment                    40\n",
       "Energy                     37\n",
       "e-commerce                 32\n",
       "Airpline                   27\n",
       "Holding                    25\n",
       "International Org          25\n",
       "Logistics                  20\n",
       "Real Estate                19\n",
       "Share_market               14\n",
       "Tax_audit                   7\n",
       "Medical                     5\n",
       "Name: Client Category, dtype: int64"
      ]
     },
     "execution_count": 11,
     "metadata": {},
     "output_type": "execute_result"
    }
   ],
   "source": [
    "#Handling the missing data\n",
    "Client_Category=df['Client Category'].value_counts()\n",
    "Client_Category"
   ]
  },
  {
   "cell_type": "code",
   "execution_count": 12,
   "id": "14581f37",
   "metadata": {},
   "outputs": [],
   "source": [
    "#Since the missing value is 79 and 'others' have the most number of values, we can add 'Others' to the missing values\n",
    "df['Client Category'] = df['Client Category'].fillna('Others')\n",
    "# We use a function called 'Mode' because it gives us the maximum frequency orccurance. If we dont handle the missing data\n",
    "# The algorithm wont work."
   ]
  },
  {
   "cell_type": "code",
   "execution_count": 13,
   "id": "629e504f",
   "metadata": {},
   "outputs": [
    {
     "data": {
      "image/png": "[encoded data removed]",
      "text/plain": [
       "<Figure size 432x288 with 1 Axes>"
      ]
     },
     "metadata": {
      "needs_background": "light"
     },
     "output_type": "display_data"
    }
   ],
   "source": [
    "#Confirming if there are any missing values\n",
    "sns.heatmap(df.isnull(), yticklabels = False, cbar=False, cmap='rainbow')\n",
    "plt.show()"
   ]
  },
  {
   "cell_type": "code",
   "execution_count": 14,
   "id": "46184dcb",
   "metadata": {},
   "outputs": [],
   "source": [
    "# Summary Of Categorical Variable"
   ]
  },
  {
   "cell_type": "code",
   "execution_count": 15,
   "id": "e11d2948",
   "metadata": {},
   "outputs": [],
   "source": [
    "sumcat = df.describe(include='O')\n",
    "# 'O' because Object Catgegory"
   ]
  },
  {
   "cell_type": "code",
   "execution_count": 16,
   "id": "2852c45f",
   "metadata": {},
   "outputs": [
    {
     "data": {
      "text/html": [
       "<div>\n",
       "<style scoped>\n",
       "    .dataframe tbody tr th:only-of-type {\n",
       "        vertical-align: middle;\n",
       "    }\n",
       "\n",
       "    .dataframe tbody tr th {\n",
       "        vertical-align: top;\n",
       "    }\n",
       "\n",
       "    .dataframe thead th {\n",
       "        text-align: right;\n",
       "    }\n",
       "</style>\n",
       "<table border=\"1\" class=\"dataframe\">\n",
       "  <thead>\n",
       "    <tr style=\"text-align: right;\">\n",
       "      <th></th>\n",
       "      <th>Client Category</th>\n",
       "      <th>Solution Type</th>\n",
       "      <th>Sector</th>\n",
       "      <th>Location</th>\n",
       "      <th>VP Name</th>\n",
       "      <th>Manager Name</th>\n",
       "      <th>Deal Status Code</th>\n",
       "    </tr>\n",
       "  </thead>\n",
       "  <tbody>\n",
       "    <tr>\n",
       "      <th>count</th>\n",
       "      <td>10061</td>\n",
       "      <td>10061</td>\n",
       "      <td>10061</td>\n",
       "      <td>10061</td>\n",
       "      <td>10061</td>\n",
       "      <td>10061</td>\n",
       "      <td>10061</td>\n",
       "    </tr>\n",
       "    <tr>\n",
       "      <th>unique</th>\n",
       "      <td>41</td>\n",
       "      <td>67</td>\n",
       "      <td>25</td>\n",
       "      <td>13</td>\n",
       "      <td>43</td>\n",
       "      <td>278</td>\n",
       "      <td>2</td>\n",
       "    </tr>\n",
       "    <tr>\n",
       "      <th>top</th>\n",
       "      <td>Others</td>\n",
       "      <td>Solution 32</td>\n",
       "      <td>Sector 23</td>\n",
       "      <td>L10</td>\n",
       "      <td>Mervin Harwood</td>\n",
       "      <td>Molly Eakes</td>\n",
       "      <td>Lost</td>\n",
       "    </tr>\n",
       "    <tr>\n",
       "      <th>freq</th>\n",
       "      <td>1842</td>\n",
       "      <td>1439</td>\n",
       "      <td>2693</td>\n",
       "      <td>3360</td>\n",
       "      <td>1166</td>\n",
       "      <td>323</td>\n",
       "      <td>6306</td>\n",
       "    </tr>\n",
       "  </tbody>\n",
       "</table>\n",
       "</div>"
      ],
      "text/plain": [
       "       Client Category Solution Type     Sector Location         VP Name  \\\n",
       "count            10061         10061      10061    10061           10061   \n",
       "unique              41            67         25       13              43   \n",
       "top             Others   Solution 32  Sector 23      L10  Mervin Harwood   \n",
       "freq              1842          1439       2693     3360            1166   \n",
       "\n",
       "       Manager Name Deal Status Code  \n",
       "count         10061            10061  \n",
       "unique          278                2  \n",
       "top     Molly Eakes             Lost  \n",
       "freq            323             6306  "
      ]
     },
     "execution_count": 16,
     "metadata": {},
     "output_type": "execute_result"
    }
   ],
   "source": [
    "sumcat\n",
    "#Observe no missing data\n",
    "#This can help us with the analysing high frequency names"
   ]
  },
  {
   "cell_type": "code",
   "execution_count": 17,
   "id": "7ab0ba2d",
   "metadata": {},
   "outputs": [
    {
     "data": {
      "text/plain": [
       "Index(['Others', 'Internal', 'Services_based', 'Tech', 'Domestic Public Bank',\n",
       "       'International Bank', 'Consulting', 'Finance', 'Telecom', 'Power ind',\n",
       "       'Domestic Private Bank', 'Insurance', 'Consumer Good', 'Automobiles',\n",
       "       'Infrastructure', 'Domestic Bank', 'Retail_market', 'Govt',\n",
       "       'Hospitality', 'Manufacturing', 'Pharma', 'Healthcare', 'Electronics',\n",
       "       'Media_Journal', 'Industries', 'Research Development', 'Energy',\n",
       "       'Knowledge', 'Management', 'Govt Bank Special', 'Payment', 'Energy ',\n",
       "       'e-commerce', 'Airpline', 'Holding', 'International Org', 'Logistics',\n",
       "       'Real Estate', 'Share_market', 'Tax_audit', 'Medical '],\n",
       "      dtype='object')"
      ]
     },
     "execution_count": 17,
     "metadata": {},
     "output_type": "execute_result"
    }
   ],
   "source": [
    "Client_Category_index = df['Client Category'].value_counts().index\n",
    "Client_Category_index\n",
    "#This is done to see which has the highest values in accending order"
   ]
  },
  {
   "cell_type": "code",
   "execution_count": 18,
   "id": "6c56bb61",
   "metadata": {},
   "outputs": [
    {
     "data": {
      "image/png": "[encoded data removed]",
      "text/plain": [
       "<Figure size 432x288 with 1 Axes>"
      ]
     },
     "metadata": {},
     "output_type": "display_data"
    }
   ],
   "source": [
    "#Pie Chart of top 10 domains so that we can attribute more importance to them. Pie chart cant hold more than 10.\n",
    "plt.pie(Client_Category[:5], labels=Client_Category_index[:5], autopct = '%1.2f%%')\n",
    "plt.show()"
   ]
  },
  {
   "cell_type": "code",
   "execution_count": 19,
   "id": "1a38eea6",
   "metadata": {},
   "outputs": [
    {
     "data": {
      "text/plain": [
       "<AxesSubplot:>"
      ]
     },
     "execution_count": 19,
     "metadata": {},
     "output_type": "execute_result"
    },
    {
     "data": {
      "image/png": "[encoded data removed]",
      "text/plain": [
       "<Figure size 432x288 with 1 Axes>"
      ]
     },
     "metadata": {
      "needs_background": "light"
     },
     "output_type": "display_data"
    }
   ],
   "source": [
    "#Bar Graph of top 10\n",
    "Client_Category[:10].plot(kind='barh')"
   ]
  },
  {
   "cell_type": "code",
   "execution_count": 20,
   "id": "fdff24e0",
   "metadata": {},
   "outputs": [
    {
     "data": {
      "text/plain": [
       "Solution 32    1439\n",
       "Solution 9     1418\n",
       "Solution 10    1016\n",
       "Solution 39     585\n",
       "Solution 67     584\n",
       "               ... \n",
       "Solution 60       1\n",
       "Solution 57       1\n",
       "Solution 56       1\n",
       "Solution 18       1\n",
       "Solution 19       1\n",
       "Name: Solution Type, Length: 67, dtype: int64"
      ]
     },
     "execution_count": 20,
     "metadata": {},
     "output_type": "execute_result"
    }
   ],
   "source": [
    "#Analysing the solutions \n",
    "Solutions_Type = df['Solution Type'].value_counts()\n",
    "Solutions_Type"
   ]
  },
  {
   "cell_type": "code",
   "execution_count": 21,
   "id": "503249a1",
   "metadata": {},
   "outputs": [
    {
     "data": {
      "text/plain": [
       "Index(['Solution 32', 'Solution 9', 'Solution 10', 'Solution 39',\n",
       "       'Solution 67', 'Solution 37', 'Solution 59', 'Solution 12',\n",
       "       'Solution 8', 'Solution 29', 'Solution 6', 'Solution 13', 'Solution 31',\n",
       "       'Solution 4', 'Solution 28', 'Solution 38', 'Solution 7', 'Solution 11',\n",
       "       'Solution 20', 'Solution 52', 'Solution 40', 'Solution 30',\n",
       "       'Solution 14', 'Solution 36', 'Solution 58', 'Solution 47',\n",
       "       'Solution 35', 'Solution 55', 'Solution 33', 'Solution 48',\n",
       "       'Solution 16', 'Solution 26', 'Solution 49', 'Solution 2',\n",
       "       'Solution 34', 'Solution 42', 'Solution 61', 'Solution 41',\n",
       "       'Solution 65', 'Solution 44', 'Solution 17', 'Solution 15',\n",
       "       'Solution 50', 'Solution 25', 'Solution 1', 'Solution 43',\n",
       "       'Solution 24', 'Solution 62', 'Solution 5', 'Solution 27',\n",
       "       'Solution 46', 'Solution 3', 'Solution 22', 'Solution 53',\n",
       "       'Solution 51', 'Solution 45', 'Solution 63', 'Solution 23',\n",
       "       'Solution 54', 'Solution 21', 'Solution 66', 'Solution 64',\n",
       "       'Solution 60', 'Solution 57', 'Solution 56', 'Solution 18',\n",
       "       'Solution 19'],\n",
       "      dtype='object')"
      ]
     },
     "execution_count": 21,
     "metadata": {},
     "output_type": "execute_result"
    }
   ],
   "source": [
    "Solutions_Type_index = df['Solution Type'].value_counts().index\n",
    "Solutions_Type_index"
   ]
  },
  {
   "cell_type": "code",
   "execution_count": 22,
   "id": "9922b955",
   "metadata": {},
   "outputs": [
    {
     "data": {
      "image/png": "[encoded data removed]",
      "text/plain": [
       "<Figure size 432x288 with 1 Axes>"
      ]
     },
     "metadata": {},
     "output_type": "display_data"
    }
   ],
   "source": [
    "plt.pie(Solutions_Type[:5], labels=Solutions_Type_index[:5], autopct = '%1.2f%%')\n",
    "plt.show()"
   ]
  },
  {
   "cell_type": "code",
   "execution_count": 23,
   "id": "fd755251",
   "metadata": {},
   "outputs": [
    {
     "data": {
      "text/plain": [
       "<AxesSubplot:>"
      ]
     },
     "execution_count": 23,
     "metadata": {},
     "output_type": "execute_result"
    },
    {
     "data": {
      "image/png": "[encoded data removed]",
      "text/plain": [
       "<Figure size 432x288 with 1 Axes>"
      ]
     },
     "metadata": {
      "needs_background": "light"
     },
     "output_type": "display_data"
    }
   ],
   "source": [
    "#Bar Graph\n",
    "Solutions_Type[:10].plot(kind='barh')"
   ]
  },
  {
   "cell_type": "code",
   "execution_count": 24,
   "id": "60ef75c0",
   "metadata": {},
   "outputs": [
    {
     "data": {
      "text/plain": [
       "Sector 23    2693\n",
       "Sector 2     1748\n",
       "Sector 20     773\n",
       "Sector 12     607\n",
       "Sector 24     578\n",
       "Sector 17     474\n",
       "Sector 16     474\n",
       "Sector 15     387\n",
       "Sector 9      369\n",
       "Sector 25     273\n",
       "Sector 18     251\n",
       "Sector 1      231\n",
       "Sector 13     185\n",
       "Sector 22     144\n",
       "Sector 19     142\n",
       "Sector 3      135\n",
       "Sector 4      128\n",
       "Sector 11     114\n",
       "Sector 14     109\n",
       "Sector 6       96\n",
       "Sector 5       64\n",
       "Sector 8       39\n",
       "Sector 21      30\n",
       "Sector 7       14\n",
       "Sector 10       3\n",
       "Name: Sector, dtype: int64"
      ]
     },
     "execution_count": 24,
     "metadata": {},
     "output_type": "execute_result"
    }
   ],
   "source": [
    "#Sector count\n",
    "Sector = df['Sector'].value_counts()\n",
    "Sector"
   ]
  },
  {
   "cell_type": "code",
   "execution_count": 25,
   "id": "840329dc",
   "metadata": {},
   "outputs": [
    {
     "data": {
      "text/plain": [
       "Index(['Sector 23', 'Sector 2', 'Sector 20', 'Sector 12', 'Sector 24',\n",
       "       'Sector 17', 'Sector 16', 'Sector 15', 'Sector 9', 'Sector 25',\n",
       "       'Sector 18', 'Sector 1', 'Sector 13', 'Sector 22', 'Sector 19',\n",
       "       'Sector 3', 'Sector 4', 'Sector 11', 'Sector 14', 'Sector 6',\n",
       "       'Sector 5', 'Sector 8', 'Sector 21', 'Sector 7', 'Sector 10'],\n",
       "      dtype='object')"
      ]
     },
     "execution_count": 25,
     "metadata": {},
     "output_type": "execute_result"
    }
   ],
   "source": [
    "#Index Values\n",
    "Sector_Index = df['Sector'].value_counts().index\n",
    "Sector_Index"
   ]
  },
  {
   "cell_type": "code",
   "execution_count": 26,
   "id": "0de99286",
   "metadata": {},
   "outputs": [
    {
     "data": {
      "image/png": "[encoded data removed]",
      "text/plain": [
       "<Figure size 432x288 with 1 Axes>"
      ]
     },
     "metadata": {},
     "output_type": "display_data"
    }
   ],
   "source": [
    "#Pie chart\n",
    "plt.pie(Sector[:5], labels=Sector_Index[:5], autopct = '%1.2f%%')\n",
    "plt.show()"
   ]
  },
  {
   "cell_type": "code",
   "execution_count": 27,
   "id": "cb832ef4",
   "metadata": {},
   "outputs": [
    {
     "data": {
      "text/plain": [
       "<AxesSubplot:>"
      ]
     },
     "execution_count": 27,
     "metadata": {},
     "output_type": "execute_result"
    },
    {
     "data": {
      "image/png": "[encoded data removed]",
      "text/plain": [
       "<Figure size 432x288 with 1 Axes>"
      ]
     },
     "metadata": {
      "needs_background": "light"
     },
     "output_type": "display_data"
    }
   ],
   "source": [
    "#Bar Graph\n",
    "Sector[:10].plot(kind='barh')"
   ]
  },
  {
   "cell_type": "code",
   "execution_count": 28,
   "id": "b9bbf161",
   "metadata": {},
   "outputs": [
    {
     "data": {
      "text/plain": [
       "L10       3360\n",
       "L5        2328\n",
       "L1        1572\n",
       "Others     817\n",
       "L3         556\n",
       "L11        367\n",
       "L12        276\n",
       "L9         240\n",
       "L7         238\n",
       "L4         188\n",
       "L6         100\n",
       "L8          11\n",
       "L2           8\n",
       "Name: Location, dtype: int64"
      ]
     },
     "execution_count": 28,
     "metadata": {},
     "output_type": "execute_result"
    }
   ],
   "source": [
    "#Location\n",
    "Location = df['Location'].value_counts()\n",
    "Location"
   ]
  },
  {
   "cell_type": "code",
   "execution_count": 29,
   "id": "c937908d",
   "metadata": {},
   "outputs": [
    {
     "data": {
      "text/plain": [
       "Index(['L10', 'L5', 'L1', 'Others', 'L3', 'L11', 'L12', 'L9', 'L7', 'L4', 'L6',\n",
       "       'L8', 'L2'],\n",
       "      dtype='object')"
      ]
     },
     "execution_count": 29,
     "metadata": {},
     "output_type": "execute_result"
    }
   ],
   "source": [
    "#Index Values\n",
    "Location_Index = df['Location'].value_counts().index\n",
    "Location_Index"
   ]
  },
  {
   "cell_type": "code",
   "execution_count": 30,
   "id": "aef256a2",
   "metadata": {},
   "outputs": [
    {
     "data": {
      "image/png": "[encoded data removed]",
      "text/plain": [
       "<Figure size 432x288 with 1 Axes>"
      ]
     },
     "metadata": {},
     "output_type": "display_data"
    }
   ],
   "source": [
    "#Pie chart\n",
    "plt.pie(Location[:5], labels=Location_Index[:5], autopct = '%1.2f%%')\n",
    "plt.show()"
   ]
  },
  {
   "cell_type": "code",
   "execution_count": 31,
   "id": "02fed84d",
   "metadata": {},
   "outputs": [
    {
     "data": {
      "text/plain": [
       "<AxesSubplot:>"
      ]
     },
     "execution_count": 31,
     "metadata": {},
     "output_type": "execute_result"
    },
    {
     "data": {
      "image/png": "[encoded data removed]",
      "text/plain": [
       "<Figure size 432x288 with 1 Axes>"
      ]
     },
     "metadata": {
      "needs_background": "light"
     },
     "output_type": "display_data"
    }
   ],
   "source": [
    "#Bar Graph\n",
    "Location[:10].plot(kind='barh')"
   ]
  },
  {
   "cell_type": "code",
   "execution_count": 32,
   "id": "373dc7d0",
   "metadata": {},
   "outputs": [
    {
     "data": {
      "text/plain": [
       "Mervin Harwood         1166\n",
       "Ankita Aggarwal        1143\n",
       "Sargar Deep Rao         956\n",
       "Long Bergstrom          921\n",
       "Mangesh K. Singh        812\n",
       "Rosanna Maynez          662\n",
       "Ekta Zutshi             550\n",
       "Rahul Bajpai            523\n",
       "neeraj kumar            471\n",
       "Son Mcconnaughy         232\n",
       "som dutt                220\n",
       "Hardeep Suksma          208\n",
       "Brendon Wycoff          189\n",
       "Clinton Mani            184\n",
       "Saurabh Singh           176\n",
       "Jewell Tunstall         156\n",
       "Rudraksh Sharma         147\n",
       "Gopa Trilochana         136\n",
       "Russell Dahlen          133\n",
       "Molly Eakes             126\n",
       "Alam Syed               126\n",
       "Gaurav Sameria          114\n",
       "Varsha Arora            104\n",
       "Gayle Molter            104\n",
       "Vidur Hukle             100\n",
       "Earline Langton          82\n",
       "Manpreet Singh           46\n",
       "Mayank Mewar             41\n",
       "Marcella Mo              32\n",
       "Rahul Kocher             32\n",
       "Man Suddeth              29\n",
       "Jitendra Choudhary       28\n",
       "Prashant Rawat           27\n",
       "Lilli Storrs             26\n",
       "Vikram Rawat             17\n",
       "Kamelesh Srinivasan      15\n",
       "Dennis Faux              13\n",
       "Visvajeet Das             3\n",
       "Waylon Mulder             3\n",
       "P. Somya                  2\n",
       "Kirk Hofmeister           2\n",
       "Sarthak Batra             2\n",
       "md. afsar                 2\n",
       "Name: VP Name, dtype: int64"
      ]
     },
     "execution_count": 32,
     "metadata": {},
     "output_type": "execute_result"
    }
   ],
   "source": [
    "#Vice President\n",
    "VP_Name = df['VP Name'].value_counts()\n",
    "VP_Name"
   ]
  },
  {
   "cell_type": "code",
   "execution_count": 33,
   "id": "6ea13474",
   "metadata": {},
   "outputs": [
    {
     "data": {
      "text/plain": [
       "Index(['Mervin Harwood', 'Ankita Aggarwal', 'Sargar Deep Rao',\n",
       "       'Long Bergstrom', 'Mangesh K. Singh', 'Rosanna Maynez', 'Ekta Zutshi',\n",
       "       'Rahul Bajpai', 'neeraj kumar', 'Son Mcconnaughy', 'som dutt',\n",
       "       'Hardeep Suksma', 'Brendon Wycoff', 'Clinton Mani', 'Saurabh Singh',\n",
       "       'Jewell Tunstall', 'Rudraksh Sharma', 'Gopa Trilochana',\n",
       "       'Russell Dahlen', 'Molly Eakes', 'Alam Syed', 'Gaurav Sameria',\n",
       "       'Varsha Arora', 'Gayle Molter', 'Vidur Hukle', 'Earline Langton',\n",
       "       'Manpreet Singh', 'Mayank Mewar', 'Marcella Mo', 'Rahul Kocher',\n",
       "       'Man Suddeth', 'Jitendra Choudhary', 'Prashant Rawat', 'Lilli Storrs',\n",
       "       'Vikram Rawat', 'Kamelesh Srinivasan', 'Dennis Faux', 'Visvajeet Das',\n",
       "       'Waylon Mulder', 'P. Somya', 'Kirk Hofmeister', 'Sarthak Batra',\n",
       "       'md. afsar'],\n",
       "      dtype='object')"
      ]
     },
     "execution_count": 33,
     "metadata": {},
     "output_type": "execute_result"
    }
   ],
   "source": [
    "#Index Values\n",
    "VP_Name_Index = df['VP Name'].value_counts().index\n",
    "VP_Name_Index"
   ]
  },
  {
   "cell_type": "code",
   "execution_count": 34,
   "id": "5df02f8f",
   "metadata": {},
   "outputs": [
    {
     "data": {
      "image/png": "[encoded data removed]",
      "text/plain": [
       "<Figure size 432x288 with 1 Axes>"
      ]
     },
     "metadata": {},
     "output_type": "display_data"
    }
   ],
   "source": [
    "#Pie chart\n",
    "plt.pie(VP_Name[:5], labels=VP_Name_Index[:5], autopct = '%1.2f%%')\n",
    "plt.show()"
   ]
  },
  {
   "cell_type": "code",
   "execution_count": 35,
   "id": "4cb756c9",
   "metadata": {},
   "outputs": [
    {
     "data": {
      "text/plain": [
       "<AxesSubplot:>"
      ]
     },
     "execution_count": 35,
     "metadata": {},
     "output_type": "execute_result"
    },
    {
     "data": {
      "image/png": "[encoded data removed]",
      "text/plain": [
       "<Figure size 432x288 with 1 Axes>"
      ]
     },
     "metadata": {
      "needs_background": "light"
     },
     "output_type": "display_data"
    }
   ],
   "source": [
    "#Bar Graph\n",
    "VP_Name[:10].plot(kind='barh')"
   ]
  },
  {
   "cell_type": "code",
   "execution_count": 36,
   "id": "7e6f5924",
   "metadata": {},
   "outputs": [
    {
     "data": {
      "text/plain": [
       "Molly Eakes        323\n",
       "Rudraksh Sharma    270\n",
       "Desmond Krout      230\n",
       "Gayle Molter       186\n",
       "Manpreet Singh     181\n",
       "                  ... \n",
       "Anju Nanda           1\n",
       "Taran Singh          1\n",
       "pooran chand         1\n",
       "Rishab Bhatt         1\n",
       "Cleotilde Biron      1\n",
       "Name: Manager Name, Length: 278, dtype: int64"
      ]
     },
     "execution_count": 36,
     "metadata": {},
     "output_type": "execute_result"
    }
   ],
   "source": [
    "#Manager \n",
    "Manager_Type = df['Manager Name'].value_counts()\n",
    "Manager_Type"
   ]
  },
  {
   "cell_type": "code",
   "execution_count": 37,
   "id": "a4354f4f",
   "metadata": {},
   "outputs": [
    {
     "data": {
      "text/plain": [
       "Index(['Molly Eakes', 'Rudraksh Sharma', 'Desmond Krout', 'Gayle Molter',\n",
       "       'Manpreet Singh', 'Rosana Yokum', 'Rayford Durgan', 'Manish Saundriyal',\n",
       "       'Jewell Tunstall', 'Hardeep Suksma',\n",
       "       ...\n",
       "       'Palmer Holmberg', 'Heath Mullarkey', 'Sultan Khan', 'Aastha Gandhi',\n",
       "       'Anish Jonson', 'Anju Nanda', 'Taran Singh', 'pooran chand',\n",
       "       'Rishab Bhatt', 'Cleotilde Biron'],\n",
       "      dtype='object', length=278)"
      ]
     },
     "execution_count": 37,
     "metadata": {},
     "output_type": "execute_result"
    }
   ],
   "source": [
    "Manager_Index = df['Manager Name'].value_counts().index\n",
    "Manager_Index"
   ]
  },
  {
   "cell_type": "code",
   "execution_count": 38,
   "id": "f559ca6d",
   "metadata": {},
   "outputs": [
    {
     "data": {
      "image/png": "[encoded data removed]",
      "text/plain": [
       "<Figure size 432x288 with 1 Axes>"
      ]
     },
     "metadata": {},
     "output_type": "display_data"
    }
   ],
   "source": [
    "#Pie chart\n",
    "plt.pie(Manager_Type[:5], labels=Manager_Index[:5], autopct = '%1.2f%%')\n",
    "plt.show()"
   ]
  },
  {
   "cell_type": "code",
   "execution_count": 39,
   "id": "093b43dd",
   "metadata": {},
   "outputs": [
    {
     "data": {
      "text/plain": [
       "<AxesSubplot:>"
      ]
     },
     "execution_count": 39,
     "metadata": {},
     "output_type": "execute_result"
    },
    {
     "data": {
      "image/png": "[encoded data removed]",
      "text/plain": [
       "<Figure size 432x288 with 1 Axes>"
      ]
     },
     "metadata": {
      "needs_background": "light"
     },
     "output_type": "display_data"
    }
   ],
   "source": [
    "#Bar Graph\n",
    "Manager_Type[:10].plot(kind='barh')"
   ]
  },
  {
   "cell_type": "code",
   "execution_count": 40,
   "id": "c89f7040",
   "metadata": {},
   "outputs": [
    {
     "data": {
      "text/plain": [
       "Lost    6306\n",
       "Won     3755\n",
       "Name: Deal Status Code, dtype: int64"
      ]
     },
     "execution_count": 40,
     "metadata": {},
     "output_type": "execute_result"
    }
   ],
   "source": [
    "#Deal Status Codes\n",
    "Deal_Status_Code = df['Deal Status Code'].value_counts()\n",
    "Deal_Status_Code\n",
    "#Balanced set"
   ]
  },
  {
   "cell_type": "code",
   "execution_count": 41,
   "id": "fae914db",
   "metadata": {},
   "outputs": [
    {
     "data": {
      "text/plain": [
       "Index(['Lost', 'Won'], dtype='object')"
      ]
     },
     "execution_count": 41,
     "metadata": {},
     "output_type": "execute_result"
    }
   ],
   "source": [
    "#Index Values\n",
    "Deal_Index = df['Deal Status Code'].value_counts().index\n",
    "Deal_Index"
   ]
  },
  {
   "cell_type": "code",
   "execution_count": 42,
   "id": "04675c5a",
   "metadata": {},
   "outputs": [
    {
     "data": {
      "image/png": "[encoded data removed]",
      "text/plain": [
       "<Figure size 432x288 with 1 Axes>"
      ]
     },
     "metadata": {},
     "output_type": "display_data"
    }
   ],
   "source": [
    "#Pie chart\n",
    "plt.pie(Deal_Status_Code[:5], labels=Deal_Index[:5], autopct = '%1.2f%%')\n",
    "plt.show()"
   ]
  },
  {
   "cell_type": "code",
   "execution_count": 43,
   "id": "7f95d44f",
   "metadata": {},
   "outputs": [
    {
     "data": {
      "text/plain": [
       "<AxesSubplot:>"
      ]
     },
     "execution_count": 43,
     "metadata": {},
     "output_type": "execute_result"
    },
    {
     "data": {
      "image/png": "[encoded data removed]",
      "text/plain": [
       "<Figure size 432x288 with 1 Axes>"
      ]
     },
     "metadata": {
      "needs_background": "light"
     },
     "output_type": "display_data"
    }
   ],
   "source": [
    "#Bar Graph\n",
    "Deal_Status_Code[:10].plot(kind='barh')"
   ]
  },
  {
   "cell_type": "code",
   "execution_count": 44,
   "id": "fd83b17d",
   "metadata": {},
   "outputs": [],
   "source": [
    "#Checking the relation b/w different variables"
   ]
  },
  {
   "cell_type": "code",
   "execution_count": 45,
   "id": "452ebcd2",
   "metadata": {},
   "outputs": [],
   "source": [
    "#Relation b/w client category and Deal status code\n",
    "rel_client_cat = df[['Client Category',\n",
    "                     'Deal Status Code']].groupby(['Client Category',\n",
    "                                                   'Deal Status Code']).size().reset_index().rename(columns={0:'Deal Status Count'})"
   ]
  },
  {
   "cell_type": "code",
   "execution_count": 46,
   "id": "a335b8e1",
   "metadata": {},
   "outputs": [
    {
     "data": {
      "text/html": [
       "<div>\n",
       "<style scoped>\n",
       "    .dataframe tbody tr th:only-of-type {\n",
       "        vertical-align: middle;\n",
       "    }\n",
       "\n",
       "    .dataframe tbody tr th {\n",
       "        vertical-align: top;\n",
       "    }\n",
       "\n",
       "    .dataframe thead th {\n",
       "        text-align: right;\n",
       "    }\n",
       "</style>\n",
       "<table border=\"1\" class=\"dataframe\">\n",
       "  <thead>\n",
       "    <tr style=\"text-align: right;\">\n",
       "      <th></th>\n",
       "      <th>Client Category</th>\n",
       "      <th>Deal Status Code</th>\n",
       "      <th>Deal Status Count</th>\n",
       "    </tr>\n",
       "  </thead>\n",
       "  <tbody>\n",
       "    <tr>\n",
       "      <th>0</th>\n",
       "      <td>Airpline</td>\n",
       "      <td>Lost</td>\n",
       "      <td>22</td>\n",
       "    </tr>\n",
       "    <tr>\n",
       "      <th>1</th>\n",
       "      <td>Airpline</td>\n",
       "      <td>Won</td>\n",
       "      <td>5</td>\n",
       "    </tr>\n",
       "    <tr>\n",
       "      <th>2</th>\n",
       "      <td>Automobiles</td>\n",
       "      <td>Lost</td>\n",
       "      <td>112</td>\n",
       "    </tr>\n",
       "    <tr>\n",
       "      <th>3</th>\n",
       "      <td>Automobiles</td>\n",
       "      <td>Won</td>\n",
       "      <td>66</td>\n",
       "    </tr>\n",
       "    <tr>\n",
       "      <th>4</th>\n",
       "      <td>Consulting</td>\n",
       "      <td>Lost</td>\n",
       "      <td>182</td>\n",
       "    </tr>\n",
       "    <tr>\n",
       "      <th>...</th>\n",
       "      <td>...</td>\n",
       "      <td>...</td>\n",
       "      <td>...</td>\n",
       "    </tr>\n",
       "    <tr>\n",
       "      <th>77</th>\n",
       "      <td>Tech</td>\n",
       "      <td>Won</td>\n",
       "      <td>313</td>\n",
       "    </tr>\n",
       "    <tr>\n",
       "      <th>78</th>\n",
       "      <td>Telecom</td>\n",
       "      <td>Lost</td>\n",
       "      <td>192</td>\n",
       "    </tr>\n",
       "    <tr>\n",
       "      <th>79</th>\n",
       "      <td>Telecom</td>\n",
       "      <td>Won</td>\n",
       "      <td>135</td>\n",
       "    </tr>\n",
       "    <tr>\n",
       "      <th>80</th>\n",
       "      <td>e-commerce</td>\n",
       "      <td>Lost</td>\n",
       "      <td>20</td>\n",
       "    </tr>\n",
       "    <tr>\n",
       "      <th>81</th>\n",
       "      <td>e-commerce</td>\n",
       "      <td>Won</td>\n",
       "      <td>12</td>\n",
       "    </tr>\n",
       "  </tbody>\n",
       "</table>\n",
       "<p>82 rows × 3 columns</p>\n",
       "</div>"
      ],
      "text/plain": [
       "   Client Category Deal Status Code  Deal Status Count\n",
       "0         Airpline             Lost                 22\n",
       "1         Airpline              Won                  5\n",
       "2      Automobiles             Lost                112\n",
       "3      Automobiles              Won                 66\n",
       "4       Consulting             Lost                182\n",
       "..             ...              ...                ...\n",
       "77            Tech              Won                313\n",
       "78         Telecom             Lost                192\n",
       "79         Telecom              Won                135\n",
       "80      e-commerce             Lost                 20\n",
       "81      e-commerce              Won                 12\n",
       "\n",
       "[82 rows x 3 columns]"
      ]
     },
     "execution_count": 46,
     "metadata": {},
     "output_type": "execute_result"
    }
   ],
   "source": [
    "rel_client_cat"
   ]
  },
  {
   "cell_type": "code",
   "execution_count": 47,
   "id": "34f997a7",
   "metadata": {},
   "outputs": [],
   "source": [
    "#Relation b/w Solution type and Deal Status Code\n",
    "rel_Solution_type = df[['Solution Type',\n",
    "                     'Deal Status Code']].groupby(['Solution Type',\n",
    "                                                   'Deal Status Code']).size().reset_index().rename(columns={0:'Solution Type Count'})"
   ]
  },
  {
   "cell_type": "code",
   "execution_count": 48,
   "id": "6ff06468",
   "metadata": {},
   "outputs": [
    {
     "data": {
      "text/html": [
       "<div>\n",
       "<style scoped>\n",
       "    .dataframe tbody tr th:only-of-type {\n",
       "        vertical-align: middle;\n",
       "    }\n",
       "\n",
       "    .dataframe tbody tr th {\n",
       "        vertical-align: top;\n",
       "    }\n",
       "\n",
       "    .dataframe thead th {\n",
       "        text-align: right;\n",
       "    }\n",
       "</style>\n",
       "<table border=\"1\" class=\"dataframe\">\n",
       "  <thead>\n",
       "    <tr style=\"text-align: right;\">\n",
       "      <th></th>\n",
       "      <th>Solution Type</th>\n",
       "      <th>Deal Status Code</th>\n",
       "      <th>Solution Type Count</th>\n",
       "    </tr>\n",
       "  </thead>\n",
       "  <tbody>\n",
       "    <tr>\n",
       "      <th>0</th>\n",
       "      <td>Solution 1</td>\n",
       "      <td>Lost</td>\n",
       "      <td>2</td>\n",
       "    </tr>\n",
       "    <tr>\n",
       "      <th>1</th>\n",
       "      <td>Solution 1</td>\n",
       "      <td>Won</td>\n",
       "      <td>3</td>\n",
       "    </tr>\n",
       "    <tr>\n",
       "      <th>2</th>\n",
       "      <td>Solution 10</td>\n",
       "      <td>Lost</td>\n",
       "      <td>690</td>\n",
       "    </tr>\n",
       "    <tr>\n",
       "      <th>3</th>\n",
       "      <td>Solution 10</td>\n",
       "      <td>Won</td>\n",
       "      <td>326</td>\n",
       "    </tr>\n",
       "    <tr>\n",
       "      <th>4</th>\n",
       "      <td>Solution 11</td>\n",
       "      <td>Lost</td>\n",
       "      <td>88</td>\n",
       "    </tr>\n",
       "    <tr>\n",
       "      <th>...</th>\n",
       "      <td>...</td>\n",
       "      <td>...</td>\n",
       "      <td>...</td>\n",
       "    </tr>\n",
       "    <tr>\n",
       "      <th>111</th>\n",
       "      <td>Solution 7</td>\n",
       "      <td>Won</td>\n",
       "      <td>62</td>\n",
       "    </tr>\n",
       "    <tr>\n",
       "      <th>112</th>\n",
       "      <td>Solution 8</td>\n",
       "      <td>Lost</td>\n",
       "      <td>190</td>\n",
       "    </tr>\n",
       "    <tr>\n",
       "      <th>113</th>\n",
       "      <td>Solution 8</td>\n",
       "      <td>Won</td>\n",
       "      <td>184</td>\n",
       "    </tr>\n",
       "    <tr>\n",
       "      <th>114</th>\n",
       "      <td>Solution 9</td>\n",
       "      <td>Lost</td>\n",
       "      <td>1018</td>\n",
       "    </tr>\n",
       "    <tr>\n",
       "      <th>115</th>\n",
       "      <td>Solution 9</td>\n",
       "      <td>Won</td>\n",
       "      <td>400</td>\n",
       "    </tr>\n",
       "  </tbody>\n",
       "</table>\n",
       "<p>116 rows × 3 columns</p>\n",
       "</div>"
      ],
      "text/plain": [
       "    Solution Type Deal Status Code  Solution Type Count\n",
       "0      Solution 1             Lost                    2\n",
       "1      Solution 1              Won                    3\n",
       "2     Solution 10             Lost                  690\n",
       "3     Solution 10              Won                  326\n",
       "4     Solution 11             Lost                   88\n",
       "..            ...              ...                  ...\n",
       "111    Solution 7              Won                   62\n",
       "112    Solution 8             Lost                  190\n",
       "113    Solution 8              Won                  184\n",
       "114    Solution 9             Lost                 1018\n",
       "115    Solution 9              Won                  400\n",
       "\n",
       "[116 rows x 3 columns]"
      ]
     },
     "execution_count": 48,
     "metadata": {},
     "output_type": "execute_result"
    }
   ],
   "source": [
    "rel_Solution_type"
   ]
  },
  {
   "cell_type": "code",
   "execution_count": 49,
   "id": "3b7005a1",
   "metadata": {},
   "outputs": [],
   "source": [
    "#Relation b/w Sector and Deal Status Code\n",
    "rel_sector = df[['Sector',\n",
    "                     'Deal Status Code']].groupby(['Sector',\n",
    "                                                   'Deal Status Code']).size().reset_index().rename(columns={0:'Solution Type Count'})"
   ]
  },
  {
   "cell_type": "code",
   "execution_count": 50,
   "id": "fbdafbd4",
   "metadata": {},
   "outputs": [
    {
     "data": {
      "text/html": [
       "<div>\n",
       "<style scoped>\n",
       "    .dataframe tbody tr th:only-of-type {\n",
       "        vertical-align: middle;\n",
       "    }\n",
       "\n",
       "    .dataframe tbody tr th {\n",
       "        vertical-align: top;\n",
       "    }\n",
       "\n",
       "    .dataframe thead th {\n",
       "        text-align: right;\n",
       "    }\n",
       "</style>\n",
       "<table border=\"1\" class=\"dataframe\">\n",
       "  <thead>\n",
       "    <tr style=\"text-align: right;\">\n",
       "      <th></th>\n",
       "      <th>Sector</th>\n",
       "      <th>Deal Status Code</th>\n",
       "      <th>Solution Type Count</th>\n",
       "    </tr>\n",
       "  </thead>\n",
       "  <tbody>\n",
       "    <tr>\n",
       "      <th>0</th>\n",
       "      <td>Sector 1</td>\n",
       "      <td>Lost</td>\n",
       "      <td>158</td>\n",
       "    </tr>\n",
       "    <tr>\n",
       "      <th>1</th>\n",
       "      <td>Sector 1</td>\n",
       "      <td>Won</td>\n",
       "      <td>73</td>\n",
       "    </tr>\n",
       "    <tr>\n",
       "      <th>2</th>\n",
       "      <td>Sector 10</td>\n",
       "      <td>Lost</td>\n",
       "      <td>2</td>\n",
       "    </tr>\n",
       "    <tr>\n",
       "      <th>3</th>\n",
       "      <td>Sector 10</td>\n",
       "      <td>Won</td>\n",
       "      <td>1</td>\n",
       "    </tr>\n",
       "    <tr>\n",
       "      <th>4</th>\n",
       "      <td>Sector 11</td>\n",
       "      <td>Lost</td>\n",
       "      <td>86</td>\n",
       "    </tr>\n",
       "    <tr>\n",
       "      <th>5</th>\n",
       "      <td>Sector 11</td>\n",
       "      <td>Won</td>\n",
       "      <td>28</td>\n",
       "    </tr>\n",
       "    <tr>\n",
       "      <th>6</th>\n",
       "      <td>Sector 12</td>\n",
       "      <td>Lost</td>\n",
       "      <td>406</td>\n",
       "    </tr>\n",
       "    <tr>\n",
       "      <th>7</th>\n",
       "      <td>Sector 12</td>\n",
       "      <td>Won</td>\n",
       "      <td>201</td>\n",
       "    </tr>\n",
       "    <tr>\n",
       "      <th>8</th>\n",
       "      <td>Sector 13</td>\n",
       "      <td>Lost</td>\n",
       "      <td>148</td>\n",
       "    </tr>\n",
       "    <tr>\n",
       "      <th>9</th>\n",
       "      <td>Sector 13</td>\n",
       "      <td>Won</td>\n",
       "      <td>37</td>\n",
       "    </tr>\n",
       "    <tr>\n",
       "      <th>10</th>\n",
       "      <td>Sector 14</td>\n",
       "      <td>Lost</td>\n",
       "      <td>82</td>\n",
       "    </tr>\n",
       "    <tr>\n",
       "      <th>11</th>\n",
       "      <td>Sector 14</td>\n",
       "      <td>Won</td>\n",
       "      <td>27</td>\n",
       "    </tr>\n",
       "    <tr>\n",
       "      <th>12</th>\n",
       "      <td>Sector 15</td>\n",
       "      <td>Lost</td>\n",
       "      <td>234</td>\n",
       "    </tr>\n",
       "    <tr>\n",
       "      <th>13</th>\n",
       "      <td>Sector 15</td>\n",
       "      <td>Won</td>\n",
       "      <td>153</td>\n",
       "    </tr>\n",
       "    <tr>\n",
       "      <th>14</th>\n",
       "      <td>Sector 16</td>\n",
       "      <td>Lost</td>\n",
       "      <td>316</td>\n",
       "    </tr>\n",
       "    <tr>\n",
       "      <th>15</th>\n",
       "      <td>Sector 16</td>\n",
       "      <td>Won</td>\n",
       "      <td>158</td>\n",
       "    </tr>\n",
       "    <tr>\n",
       "      <th>16</th>\n",
       "      <td>Sector 17</td>\n",
       "      <td>Lost</td>\n",
       "      <td>274</td>\n",
       "    </tr>\n",
       "    <tr>\n",
       "      <th>17</th>\n",
       "      <td>Sector 17</td>\n",
       "      <td>Won</td>\n",
       "      <td>200</td>\n",
       "    </tr>\n",
       "    <tr>\n",
       "      <th>18</th>\n",
       "      <td>Sector 18</td>\n",
       "      <td>Lost</td>\n",
       "      <td>172</td>\n",
       "    </tr>\n",
       "    <tr>\n",
       "      <th>19</th>\n",
       "      <td>Sector 18</td>\n",
       "      <td>Won</td>\n",
       "      <td>79</td>\n",
       "    </tr>\n",
       "    <tr>\n",
       "      <th>20</th>\n",
       "      <td>Sector 19</td>\n",
       "      <td>Lost</td>\n",
       "      <td>84</td>\n",
       "    </tr>\n",
       "    <tr>\n",
       "      <th>21</th>\n",
       "      <td>Sector 19</td>\n",
       "      <td>Won</td>\n",
       "      <td>58</td>\n",
       "    </tr>\n",
       "    <tr>\n",
       "      <th>22</th>\n",
       "      <td>Sector 2</td>\n",
       "      <td>Lost</td>\n",
       "      <td>1152</td>\n",
       "    </tr>\n",
       "    <tr>\n",
       "      <th>23</th>\n",
       "      <td>Sector 2</td>\n",
       "      <td>Won</td>\n",
       "      <td>596</td>\n",
       "    </tr>\n",
       "    <tr>\n",
       "      <th>24</th>\n",
       "      <td>Sector 20</td>\n",
       "      <td>Lost</td>\n",
       "      <td>384</td>\n",
       "    </tr>\n",
       "    <tr>\n",
       "      <th>25</th>\n",
       "      <td>Sector 20</td>\n",
       "      <td>Won</td>\n",
       "      <td>389</td>\n",
       "    </tr>\n",
       "    <tr>\n",
       "      <th>26</th>\n",
       "      <td>Sector 21</td>\n",
       "      <td>Lost</td>\n",
       "      <td>10</td>\n",
       "    </tr>\n",
       "    <tr>\n",
       "      <th>27</th>\n",
       "      <td>Sector 21</td>\n",
       "      <td>Won</td>\n",
       "      <td>20</td>\n",
       "    </tr>\n",
       "    <tr>\n",
       "      <th>28</th>\n",
       "      <td>Sector 22</td>\n",
       "      <td>Lost</td>\n",
       "      <td>90</td>\n",
       "    </tr>\n",
       "    <tr>\n",
       "      <th>29</th>\n",
       "      <td>Sector 22</td>\n",
       "      <td>Won</td>\n",
       "      <td>54</td>\n",
       "    </tr>\n",
       "    <tr>\n",
       "      <th>30</th>\n",
       "      <td>Sector 23</td>\n",
       "      <td>Lost</td>\n",
       "      <td>1640</td>\n",
       "    </tr>\n",
       "    <tr>\n",
       "      <th>31</th>\n",
       "      <td>Sector 23</td>\n",
       "      <td>Won</td>\n",
       "      <td>1053</td>\n",
       "    </tr>\n",
       "    <tr>\n",
       "      <th>32</th>\n",
       "      <td>Sector 24</td>\n",
       "      <td>Lost</td>\n",
       "      <td>360</td>\n",
       "    </tr>\n",
       "    <tr>\n",
       "      <th>33</th>\n",
       "      <td>Sector 24</td>\n",
       "      <td>Won</td>\n",
       "      <td>218</td>\n",
       "    </tr>\n",
       "    <tr>\n",
       "      <th>34</th>\n",
       "      <td>Sector 25</td>\n",
       "      <td>Lost</td>\n",
       "      <td>178</td>\n",
       "    </tr>\n",
       "    <tr>\n",
       "      <th>35</th>\n",
       "      <td>Sector 25</td>\n",
       "      <td>Won</td>\n",
       "      <td>95</td>\n",
       "    </tr>\n",
       "    <tr>\n",
       "      <th>36</th>\n",
       "      <td>Sector 3</td>\n",
       "      <td>Lost</td>\n",
       "      <td>90</td>\n",
       "    </tr>\n",
       "    <tr>\n",
       "      <th>37</th>\n",
       "      <td>Sector 3</td>\n",
       "      <td>Won</td>\n",
       "      <td>45</td>\n",
       "    </tr>\n",
       "    <tr>\n",
       "      <th>38</th>\n",
       "      <td>Sector 4</td>\n",
       "      <td>Lost</td>\n",
       "      <td>88</td>\n",
       "    </tr>\n",
       "    <tr>\n",
       "      <th>39</th>\n",
       "      <td>Sector 4</td>\n",
       "      <td>Won</td>\n",
       "      <td>40</td>\n",
       "    </tr>\n",
       "    <tr>\n",
       "      <th>40</th>\n",
       "      <td>Sector 5</td>\n",
       "      <td>Lost</td>\n",
       "      <td>52</td>\n",
       "    </tr>\n",
       "    <tr>\n",
       "      <th>41</th>\n",
       "      <td>Sector 5</td>\n",
       "      <td>Won</td>\n",
       "      <td>12</td>\n",
       "    </tr>\n",
       "    <tr>\n",
       "      <th>42</th>\n",
       "      <td>Sector 6</td>\n",
       "      <td>Lost</td>\n",
       "      <td>62</td>\n",
       "    </tr>\n",
       "    <tr>\n",
       "      <th>43</th>\n",
       "      <td>Sector 6</td>\n",
       "      <td>Won</td>\n",
       "      <td>34</td>\n",
       "    </tr>\n",
       "    <tr>\n",
       "      <th>44</th>\n",
       "      <td>Sector 7</td>\n",
       "      <td>Lost</td>\n",
       "      <td>6</td>\n",
       "    </tr>\n",
       "    <tr>\n",
       "      <th>45</th>\n",
       "      <td>Sector 7</td>\n",
       "      <td>Won</td>\n",
       "      <td>8</td>\n",
       "    </tr>\n",
       "    <tr>\n",
       "      <th>46</th>\n",
       "      <td>Sector 8</td>\n",
       "      <td>Lost</td>\n",
       "      <td>30</td>\n",
       "    </tr>\n",
       "    <tr>\n",
       "      <th>47</th>\n",
       "      <td>Sector 8</td>\n",
       "      <td>Won</td>\n",
       "      <td>9</td>\n",
       "    </tr>\n",
       "    <tr>\n",
       "      <th>48</th>\n",
       "      <td>Sector 9</td>\n",
       "      <td>Lost</td>\n",
       "      <td>202</td>\n",
       "    </tr>\n",
       "    <tr>\n",
       "      <th>49</th>\n",
       "      <td>Sector 9</td>\n",
       "      <td>Won</td>\n",
       "      <td>167</td>\n",
       "    </tr>\n",
       "  </tbody>\n",
       "</table>\n",
       "</div>"
      ],
      "text/plain": [
       "       Sector Deal Status Code  Solution Type Count\n",
       "0    Sector 1             Lost                  158\n",
       "1    Sector 1              Won                   73\n",
       "2   Sector 10             Lost                    2\n",
       "3   Sector 10              Won                    1\n",
       "4   Sector 11             Lost                   86\n",
       "5   Sector 11              Won                   28\n",
       "6   Sector 12             Lost                  406\n",
       "7   Sector 12              Won                  201\n",
       "8   Sector 13             Lost                  148\n",
       "9   Sector 13              Won                   37\n",
       "10  Sector 14             Lost                   82\n",
       "11  Sector 14              Won                   27\n",
       "12  Sector 15             Lost                  234\n",
       "13  Sector 15              Won                  153\n",
       "14  Sector 16             Lost                  316\n",
       "15  Sector 16              Won                  158\n",
       "16  Sector 17             Lost                  274\n",
       "17  Sector 17              Won                  200\n",
       "18  Sector 18             Lost                  172\n",
       "19  Sector 18              Won                   79\n",
       "20  Sector 19             Lost                   84\n",
       "21  Sector 19              Won                   58\n",
       "22   Sector 2             Lost                 1152\n",
       "23   Sector 2              Won                  596\n",
       "24  Sector 20             Lost                  384\n",
       "25  Sector 20              Won                  389\n",
       "26  Sector 21             Lost                   10\n",
       "27  Sector 21              Won                   20\n",
       "28  Sector 22             Lost                   90\n",
       "29  Sector 22              Won                   54\n",
       "30  Sector 23             Lost                 1640\n",
       "31  Sector 23              Won                 1053\n",
       "32  Sector 24             Lost                  360\n",
       "33  Sector 24              Won                  218\n",
       "34  Sector 25             Lost                  178\n",
       "35  Sector 25              Won                   95\n",
       "36   Sector 3             Lost                   90\n",
       "37   Sector 3              Won                   45\n",
       "38   Sector 4             Lost                   88\n",
       "39   Sector 4              Won                   40\n",
       "40   Sector 5             Lost                   52\n",
       "41   Sector 5              Won                   12\n",
       "42   Sector 6             Lost                   62\n",
       "43   Sector 6              Won                   34\n",
       "44   Sector 7             Lost                    6\n",
       "45   Sector 7              Won                    8\n",
       "46   Sector 8             Lost                   30\n",
       "47   Sector 8              Won                    9\n",
       "48   Sector 9             Lost                  202\n",
       "49   Sector 9              Won                  167"
      ]
     },
     "execution_count": 50,
     "metadata": {},
     "output_type": "execute_result"
    }
   ],
   "source": [
    "rel_sector"
   ]
  },
  {
   "cell_type": "code",
   "execution_count": 51,
   "id": "aa19c00f",
   "metadata": {},
   "outputs": [],
   "source": [
    "#Relation b/w Location and Deal Status Code\n",
    "rel_location = df[['Location',\n",
    "                     'Deal Status Code']].groupby(['Location',\n",
    "                                                   'Deal Status Code']).size().reset_index().rename(columns={0:'Solution Type Count'})"
   ]
  },
  {
   "cell_type": "code",
   "execution_count": 52,
   "id": "1d68f9c1",
   "metadata": {},
   "outputs": [
    {
     "data": {
      "text/html": [
       "<div>\n",
       "<style scoped>\n",
       "    .dataframe tbody tr th:only-of-type {\n",
       "        vertical-align: middle;\n",
       "    }\n",
       "\n",
       "    .dataframe tbody tr th {\n",
       "        vertical-align: top;\n",
       "    }\n",
       "\n",
       "    .dataframe thead th {\n",
       "        text-align: right;\n",
       "    }\n",
       "</style>\n",
       "<table border=\"1\" class=\"dataframe\">\n",
       "  <thead>\n",
       "    <tr style=\"text-align: right;\">\n",
       "      <th></th>\n",
       "      <th>Location</th>\n",
       "      <th>Deal Status Code</th>\n",
       "      <th>Solution Type Count</th>\n",
       "    </tr>\n",
       "  </thead>\n",
       "  <tbody>\n",
       "    <tr>\n",
       "      <th>0</th>\n",
       "      <td>L1</td>\n",
       "      <td>Lost</td>\n",
       "      <td>912</td>\n",
       "    </tr>\n",
       "    <tr>\n",
       "      <th>1</th>\n",
       "      <td>L1</td>\n",
       "      <td>Won</td>\n",
       "      <td>660</td>\n",
       "    </tr>\n",
       "    <tr>\n",
       "      <th>2</th>\n",
       "      <td>L10</td>\n",
       "      <td>Lost</td>\n",
       "      <td>2230</td>\n",
       "    </tr>\n",
       "    <tr>\n",
       "      <th>3</th>\n",
       "      <td>L10</td>\n",
       "      <td>Won</td>\n",
       "      <td>1130</td>\n",
       "    </tr>\n",
       "    <tr>\n",
       "      <th>4</th>\n",
       "      <td>L11</td>\n",
       "      <td>Lost</td>\n",
       "      <td>232</td>\n",
       "    </tr>\n",
       "    <tr>\n",
       "      <th>5</th>\n",
       "      <td>L11</td>\n",
       "      <td>Won</td>\n",
       "      <td>135</td>\n",
       "    </tr>\n",
       "    <tr>\n",
       "      <th>6</th>\n",
       "      <td>L12</td>\n",
       "      <td>Lost</td>\n",
       "      <td>178</td>\n",
       "    </tr>\n",
       "    <tr>\n",
       "      <th>7</th>\n",
       "      <td>L12</td>\n",
       "      <td>Won</td>\n",
       "      <td>98</td>\n",
       "    </tr>\n",
       "    <tr>\n",
       "      <th>8</th>\n",
       "      <td>L2</td>\n",
       "      <td>Lost</td>\n",
       "      <td>6</td>\n",
       "    </tr>\n",
       "    <tr>\n",
       "      <th>9</th>\n",
       "      <td>L2</td>\n",
       "      <td>Won</td>\n",
       "      <td>2</td>\n",
       "    </tr>\n",
       "    <tr>\n",
       "      <th>10</th>\n",
       "      <td>L3</td>\n",
       "      <td>Lost</td>\n",
       "      <td>356</td>\n",
       "    </tr>\n",
       "    <tr>\n",
       "      <th>11</th>\n",
       "      <td>L3</td>\n",
       "      <td>Won</td>\n",
       "      <td>200</td>\n",
       "    </tr>\n",
       "    <tr>\n",
       "      <th>12</th>\n",
       "      <td>L4</td>\n",
       "      <td>Lost</td>\n",
       "      <td>126</td>\n",
       "    </tr>\n",
       "    <tr>\n",
       "      <th>13</th>\n",
       "      <td>L4</td>\n",
       "      <td>Won</td>\n",
       "      <td>62</td>\n",
       "    </tr>\n",
       "    <tr>\n",
       "      <th>14</th>\n",
       "      <td>L5</td>\n",
       "      <td>Lost</td>\n",
       "      <td>1392</td>\n",
       "    </tr>\n",
       "    <tr>\n",
       "      <th>15</th>\n",
       "      <td>L5</td>\n",
       "      <td>Won</td>\n",
       "      <td>936</td>\n",
       "    </tr>\n",
       "    <tr>\n",
       "      <th>16</th>\n",
       "      <td>L6</td>\n",
       "      <td>Lost</td>\n",
       "      <td>70</td>\n",
       "    </tr>\n",
       "    <tr>\n",
       "      <th>17</th>\n",
       "      <td>L6</td>\n",
       "      <td>Won</td>\n",
       "      <td>30</td>\n",
       "    </tr>\n",
       "    <tr>\n",
       "      <th>18</th>\n",
       "      <td>L7</td>\n",
       "      <td>Lost</td>\n",
       "      <td>174</td>\n",
       "    </tr>\n",
       "    <tr>\n",
       "      <th>19</th>\n",
       "      <td>L7</td>\n",
       "      <td>Won</td>\n",
       "      <td>64</td>\n",
       "    </tr>\n",
       "    <tr>\n",
       "      <th>20</th>\n",
       "      <td>L8</td>\n",
       "      <td>Lost</td>\n",
       "      <td>10</td>\n",
       "    </tr>\n",
       "    <tr>\n",
       "      <th>21</th>\n",
       "      <td>L8</td>\n",
       "      <td>Won</td>\n",
       "      <td>1</td>\n",
       "    </tr>\n",
       "    <tr>\n",
       "      <th>22</th>\n",
       "      <td>L9</td>\n",
       "      <td>Lost</td>\n",
       "      <td>194</td>\n",
       "    </tr>\n",
       "    <tr>\n",
       "      <th>23</th>\n",
       "      <td>L9</td>\n",
       "      <td>Won</td>\n",
       "      <td>46</td>\n",
       "    </tr>\n",
       "    <tr>\n",
       "      <th>24</th>\n",
       "      <td>Others</td>\n",
       "      <td>Lost</td>\n",
       "      <td>426</td>\n",
       "    </tr>\n",
       "    <tr>\n",
       "      <th>25</th>\n",
       "      <td>Others</td>\n",
       "      <td>Won</td>\n",
       "      <td>391</td>\n",
       "    </tr>\n",
       "  </tbody>\n",
       "</table>\n",
       "</div>"
      ],
      "text/plain": [
       "   Location Deal Status Code  Solution Type Count\n",
       "0        L1             Lost                  912\n",
       "1        L1              Won                  660\n",
       "2       L10             Lost                 2230\n",
       "3       L10              Won                 1130\n",
       "4       L11             Lost                  232\n",
       "5       L11              Won                  135\n",
       "6       L12             Lost                  178\n",
       "7       L12              Won                   98\n",
       "8        L2             Lost                    6\n",
       "9        L2              Won                    2\n",
       "10       L3             Lost                  356\n",
       "11       L3              Won                  200\n",
       "12       L4             Lost                  126\n",
       "13       L4              Won                   62\n",
       "14       L5             Lost                 1392\n",
       "15       L5              Won                  936\n",
       "16       L6             Lost                   70\n",
       "17       L6              Won                   30\n",
       "18       L7             Lost                  174\n",
       "19       L7              Won                   64\n",
       "20       L8             Lost                   10\n",
       "21       L8              Won                    1\n",
       "22       L9             Lost                  194\n",
       "23       L9              Won                   46\n",
       "24   Others             Lost                  426\n",
       "25   Others              Won                  391"
      ]
     },
     "execution_count": 52,
     "metadata": {},
     "output_type": "execute_result"
    }
   ],
   "source": [
    "rel_location"
   ]
  },
  {
   "cell_type": "code",
   "execution_count": 53,
   "id": "4ad1490f",
   "metadata": {},
   "outputs": [],
   "source": [
    "#Relation b/w VP Name and Deal Status Code\n",
    "rel_vp = df[['VP Name',\n",
    "                     'Deal Status Code']].groupby(['VP Name',\n",
    "                                                   'Deal Status Code']).size().reset_index().rename(columns={0:'Solution Type Count'})"
   ]
  },
  {
   "cell_type": "code",
   "execution_count": 54,
   "id": "64bfed0d",
   "metadata": {},
   "outputs": [
    {
     "data": {
      "text/html": [
       "<div>\n",
       "<style scoped>\n",
       "    .dataframe tbody tr th:only-of-type {\n",
       "        vertical-align: middle;\n",
       "    }\n",
       "\n",
       "    .dataframe tbody tr th {\n",
       "        vertical-align: top;\n",
       "    }\n",
       "\n",
       "    .dataframe thead th {\n",
       "        text-align: right;\n",
       "    }\n",
       "</style>\n",
       "<table border=\"1\" class=\"dataframe\">\n",
       "  <thead>\n",
       "    <tr style=\"text-align: right;\">\n",
       "      <th></th>\n",
       "      <th>VP Name</th>\n",
       "      <th>Deal Status Code</th>\n",
       "      <th>Solution Type Count</th>\n",
       "    </tr>\n",
       "  </thead>\n",
       "  <tbody>\n",
       "    <tr>\n",
       "      <th>0</th>\n",
       "      <td>Alam Syed</td>\n",
       "      <td>Lost</td>\n",
       "      <td>62</td>\n",
       "    </tr>\n",
       "    <tr>\n",
       "      <th>1</th>\n",
       "      <td>Alam Syed</td>\n",
       "      <td>Won</td>\n",
       "      <td>64</td>\n",
       "    </tr>\n",
       "    <tr>\n",
       "      <th>2</th>\n",
       "      <td>Ankita Aggarwal</td>\n",
       "      <td>Lost</td>\n",
       "      <td>866</td>\n",
       "    </tr>\n",
       "    <tr>\n",
       "      <th>3</th>\n",
       "      <td>Ankita Aggarwal</td>\n",
       "      <td>Won</td>\n",
       "      <td>277</td>\n",
       "    </tr>\n",
       "    <tr>\n",
       "      <th>4</th>\n",
       "      <td>Brendon Wycoff</td>\n",
       "      <td>Lost</td>\n",
       "      <td>132</td>\n",
       "    </tr>\n",
       "    <tr>\n",
       "      <th>...</th>\n",
       "      <td>...</td>\n",
       "      <td>...</td>\n",
       "      <td>...</td>\n",
       "    </tr>\n",
       "    <tr>\n",
       "      <th>77</th>\n",
       "      <td>md. afsar</td>\n",
       "      <td>Lost</td>\n",
       "      <td>2</td>\n",
       "    </tr>\n",
       "    <tr>\n",
       "      <th>78</th>\n",
       "      <td>neeraj kumar</td>\n",
       "      <td>Lost</td>\n",
       "      <td>254</td>\n",
       "    </tr>\n",
       "    <tr>\n",
       "      <th>79</th>\n",
       "      <td>neeraj kumar</td>\n",
       "      <td>Won</td>\n",
       "      <td>217</td>\n",
       "    </tr>\n",
       "    <tr>\n",
       "      <th>80</th>\n",
       "      <td>som dutt</td>\n",
       "      <td>Lost</td>\n",
       "      <td>138</td>\n",
       "    </tr>\n",
       "    <tr>\n",
       "      <th>81</th>\n",
       "      <td>som dutt</td>\n",
       "      <td>Won</td>\n",
       "      <td>82</td>\n",
       "    </tr>\n",
       "  </tbody>\n",
       "</table>\n",
       "<p>82 rows × 3 columns</p>\n",
       "</div>"
      ],
      "text/plain": [
       "            VP Name Deal Status Code  Solution Type Count\n",
       "0         Alam Syed             Lost                   62\n",
       "1         Alam Syed              Won                   64\n",
       "2   Ankita Aggarwal             Lost                  866\n",
       "3   Ankita Aggarwal              Won                  277\n",
       "4    Brendon Wycoff             Lost                  132\n",
       "..              ...              ...                  ...\n",
       "77        md. afsar             Lost                    2\n",
       "78     neeraj kumar             Lost                  254\n",
       "79     neeraj kumar              Won                  217\n",
       "80         som dutt             Lost                  138\n",
       "81         som dutt              Won                   82\n",
       "\n",
       "[82 rows x 3 columns]"
      ]
     },
     "execution_count": 54,
     "metadata": {},
     "output_type": "execute_result"
    }
   ],
   "source": [
    "rel_vp "
   ]
  },
  {
   "cell_type": "code",
   "execution_count": 55,
   "id": "14ecdb89",
   "metadata": {},
   "outputs": [],
   "source": [
    "#Relation b/w Manager Name and Deal Status Code\n",
    "rel_manager = df[['Manager Name',\n",
    "                     'Deal Status Code']].groupby(['Manager Name',\n",
    "                                                   'Deal Status Code']).size().reset_index().rename(columns={0:'Solution Type Count'})"
   ]
  },
  {
   "cell_type": "code",
   "execution_count": 56,
   "id": "e7c93d8e",
   "metadata": {},
   "outputs": [
    {
     "data": {
      "text/html": [
       "<div>\n",
       "<style scoped>\n",
       "    .dataframe tbody tr th:only-of-type {\n",
       "        vertical-align: middle;\n",
       "    }\n",
       "\n",
       "    .dataframe tbody tr th {\n",
       "        vertical-align: top;\n",
       "    }\n",
       "\n",
       "    .dataframe thead th {\n",
       "        text-align: right;\n",
       "    }\n",
       "</style>\n",
       "<table border=\"1\" class=\"dataframe\">\n",
       "  <thead>\n",
       "    <tr style=\"text-align: right;\">\n",
       "      <th></th>\n",
       "      <th>Manager Name</th>\n",
       "      <th>Deal Status Code</th>\n",
       "      <th>Solution Type Count</th>\n",
       "    </tr>\n",
       "  </thead>\n",
       "  <tbody>\n",
       "    <tr>\n",
       "      <th>0</th>\n",
       "      <td>Aastha Gandhi</td>\n",
       "      <td>Won</td>\n",
       "      <td>1</td>\n",
       "    </tr>\n",
       "    <tr>\n",
       "      <th>1</th>\n",
       "      <td>Abhinav Warrier</td>\n",
       "      <td>Lost</td>\n",
       "      <td>80</td>\n",
       "    </tr>\n",
       "    <tr>\n",
       "      <th>2</th>\n",
       "      <td>Abhinav Warrier</td>\n",
       "      <td>Won</td>\n",
       "      <td>15</td>\n",
       "    </tr>\n",
       "    <tr>\n",
       "      <th>3</th>\n",
       "      <td>Abhishek Singhal</td>\n",
       "      <td>Lost</td>\n",
       "      <td>44</td>\n",
       "    </tr>\n",
       "    <tr>\n",
       "      <th>4</th>\n",
       "      <td>Abhishek Singhal</td>\n",
       "      <td>Won</td>\n",
       "      <td>23</td>\n",
       "    </tr>\n",
       "    <tr>\n",
       "      <th>...</th>\n",
       "      <td>...</td>\n",
       "      <td>...</td>\n",
       "      <td>...</td>\n",
       "    </tr>\n",
       "    <tr>\n",
       "      <th>470</th>\n",
       "      <td>sunder paal</td>\n",
       "      <td>Won</td>\n",
       "      <td>6</td>\n",
       "    </tr>\n",
       "    <tr>\n",
       "      <th>471</th>\n",
       "      <td>vansu dev</td>\n",
       "      <td>Lost</td>\n",
       "      <td>78</td>\n",
       "    </tr>\n",
       "    <tr>\n",
       "      <th>472</th>\n",
       "      <td>vansu dev</td>\n",
       "      <td>Won</td>\n",
       "      <td>54</td>\n",
       "    </tr>\n",
       "    <tr>\n",
       "      <th>473</th>\n",
       "      <td>vinit katariya</td>\n",
       "      <td>Lost</td>\n",
       "      <td>14</td>\n",
       "    </tr>\n",
       "    <tr>\n",
       "      <th>474</th>\n",
       "      <td>vinit katariya</td>\n",
       "      <td>Won</td>\n",
       "      <td>2</td>\n",
       "    </tr>\n",
       "  </tbody>\n",
       "</table>\n",
       "<p>475 rows × 3 columns</p>\n",
       "</div>"
      ],
      "text/plain": [
       "         Manager Name Deal Status Code  Solution Type Count\n",
       "0       Aastha Gandhi              Won                    1\n",
       "1     Abhinav Warrier             Lost                   80\n",
       "2     Abhinav Warrier              Won                   15\n",
       "3    Abhishek Singhal             Lost                   44\n",
       "4    Abhishek Singhal              Won                   23\n",
       "..                ...              ...                  ...\n",
       "470       sunder paal              Won                    6\n",
       "471         vansu dev             Lost                   78\n",
       "472         vansu dev              Won                   54\n",
       "473    vinit katariya             Lost                   14\n",
       "474    vinit katariya              Won                    2\n",
       "\n",
       "[475 rows x 3 columns]"
      ]
     },
     "execution_count": 56,
     "metadata": {},
     "output_type": "execute_result"
    }
   ],
   "source": [
    "rel_manager"
   ]
  },
  {
   "cell_type": "code",
   "execution_count": 57,
   "id": "cb8e36b7",
   "metadata": {},
   "outputs": [
    {
     "name": "stdout",
     "output_type": "stream",
     "text": [
      "Client Category        Airpline    Automobiles    Consulting  Consumer Good  \\\n",
      "Deal Status Code                                                              \n",
      "Lost              482887.701818  706355.042679  6.088462e+05  629885.954898   \n",
      "Won               549411.768000  537281.641061  1.528884e+06  859452.332644   \n",
      "\n",
      "Client Category   Domestic Bank  Domestic Private Bank  Domestic Public Bank  \\\n",
      "Deal Status Code                                                               \n",
      "Lost               1.495498e+06          881407.086023          1.070093e+06   \n",
      "Won                1.919716e+06          688611.491860          5.993003e+05   \n",
      "\n",
      "Client Category     Electronics        Energy        Energy   ...  \\\n",
      "Deal Status Code                                              ...   \n",
      "Lost              553812.637407  1.557206e+06  694726.890714  ...   \n",
      "Won               596633.987407  6.761059e+05  926633.987778  ...   \n",
      "\n",
      "Client Category      Power ind    Real Estate  Research Development  \\\n",
      "Deal Status Code                                                      \n",
      "Lost              9.021130e+05  471428.572857         313631.713478   \n",
      "Won               1.236523e+06  291764.706000         343373.701765   \n",
      "\n",
      "Client Category   Retail_market  Services_based  Share_market  Tax_audit  \\\n",
      "Deal Status Code                                                           \n",
      "Lost              567291.898302   537604.830680    154411.765  421568.63   \n",
      "Won               425058.824000   565286.188578     94558.823  397058.82   \n",
      "\n",
      "Client Category            Tech       Telecom     e-commerce  \n",
      "Deal Status Code                                              \n",
      "Lost              656327.451533  1.299476e+06  378970.589000  \n",
      "Won               518243.751629  1.343050e+06  636151.960833  \n",
      "\n",
      "[2 rows x 41 columns]\n"
     ]
    }
   ],
   "source": [
    "#Relationship b/w Client Category and Deal Status Code\n",
    "print(pd.pivot_table(df, index = 'Deal Status Code', columns = 'Client Category', values ='Deal Cost'))"
   ]
  },
  {
   "cell_type": "code",
   "execution_count": 58,
   "id": "6d2b8cf4",
   "metadata": {},
   "outputs": [
    {
     "name": "stdout",
     "output_type": "stream",
     "text": [
      "VP Name              Alam Syed  Ankita Aggarwal  Brendon Wycoff  \\\n",
      "Deal Status Code                                                  \n",
      "Lost              1.087144e+06     654206.63000    1.096894e+06   \n",
      "Won               1.172937e+06     503528.35065    1.909288e+06   \n",
      "\n",
      "VP Name            Clinton Mani    Dennis Faux  Earline Langton   Ekta Zutshi  \\\n",
      "Deal Status Code                                                                \n",
      "Lost              776755.218548  554656.861667     1.189219e+06  7.912821e+05   \n",
      "Won               600857.843500  315294.120000     6.034314e+05  1.021396e+06   \n",
      "\n",
      "VP Name           Gaurav Sameria  Gayle Molter  Gopa Trilochana  ...  \\\n",
      "Deal Status Code                                                 ...   \n",
      "Lost               554590.017879  7.291971e+05     1.464321e+06  ...   \n",
      "Won                586433.823958  1.282863e+06     8.195701e+05  ...   \n",
      "\n",
      "VP Name           Saurabh Singh  Son Mcconnaughy  Varsha Arora    Vidur Hukle  \\\n",
      "Deal Status Code                                                                \n",
      "Lost              761066.176429     1.517227e+06  7.272255e+05  615517.241724   \n",
      "Won               962863.052187     5.470632e+05  3.454505e+06  540581.233095   \n",
      "\n",
      "VP Name           Vikram Rawat  Visvajeet Das  Waylon Mulder   md. afsar  \\\n",
      "Deal Status Code                                                           \n",
      "Lost              1.681103e+06     1176470.59      235294.12  3235294.12   \n",
      "Won               5.161111e+05     5588235.29       88235.29         NaN   \n",
      "\n",
      "VP Name            neeraj kumar       som dutt  \n",
      "Deal Status Code                                \n",
      "Lost              478943.956142  554650.469710  \n",
      "Won               693700.190092  562977.044756  \n",
      "\n",
      "[2 rows x 43 columns]\n"
     ]
    }
   ],
   "source": [
    "#Relationship b/w VP Name and Deal Status Code\n",
    "print(pd.pivot_table(df, index = 'Deal Status Code', columns = 'VP Name', values ='Deal Cost'))"
   ]
  },
  {
   "cell_type": "code",
   "execution_count": 59,
   "id": "f9b01e91",
   "metadata": {},
   "outputs": [
    {
     "name": "stdout",
     "output_type": "stream",
     "text": [
      "Manager Name      Aastha Gandhi  Abhinav Warrier  Abhishek Singhal  \\\n",
      "Deal Status Code                                                     \n",
      "Lost                        NaN    588808.824000     772860.963182   \n",
      "Won                   242647.06    302235.296667     476956.522609   \n",
      "\n",
      "Manager Name      Abhiskek Kumar   Abhiskhek  D    Abram Fines  Aditya Kumar  \\\n",
      "Deal Status Code                                                               \n",
      "Lost               949894.957857  440767.973889  501764.706000     792647.06   \n",
      "Won                587507.740789  375658.823600  714127.789655     250367.65   \n",
      "\n",
      "Manager Name      Aditya Tondon   Ahdarsha Jha  Ahswini Saini  ...  \\\n",
      "Deal Status Code                                               ...   \n",
      "Lost                 1058823.53  924866.311818     1029411.77  ...   \n",
      "Won                         NaN  351102.940000      601470.59  ...   \n",
      "\n",
      "Manager Name          shafibul  sharat chandran   sheak shakir  shiv kumar  \\\n",
      "Deal Status Code                                                             \n",
      "Lost              2.867647e+06       441176.470  882352.940000   219019.61   \n",
      "Won                        NaN       989411.765  461127.451667         NaN   \n",
      "\n",
      "Manager Name      shiv shakti singh    shyam kumar   som dutt  sunder paal  \\\n",
      "Deal Status Code                                                             \n",
      "Lost                     1470588.24  715250.000000        NaN   882352.940   \n",
      "Won                             NaN  307769.608333  198627.45   371960.785   \n",
      "\n",
      "Manager Name         vansu dev  vinit katariya  \n",
      "Deal Status Code                                \n",
      "Lost              9.687406e+05    1.098739e+06  \n",
      "Won               1.253295e+06    3.917206e+06  \n",
      "\n",
      "[2 rows x 278 columns]\n"
     ]
    }
   ],
   "source": [
    "#Relationship b/w Manager and Deal Status Code\n",
    "print(pd.pivot_table(df, index = 'Deal Status Code', columns = 'Manager Name', values ='Deal Cost'))"
   ]
  },
  {
   "cell_type": "code",
   "execution_count": 60,
   "id": "3e39b748",
   "metadata": {},
   "outputs": [
    {
     "name": "stdout",
     "output_type": "stream",
     "text": [
      "Solution Type     Solution 1    Solution 10   Solution 11    Solution 12  \\\n",
      "Deal Status Code                                                           \n",
      "Lost               224117.65  676461.210986  1.543663e+06  825068.800058   \n",
      "Won                150196.08  594538.975828  3.059717e+06  897737.095714   \n",
      "\n",
      "Solution Type       Solution 13   Solution 14    Solution 15    Solution 16  \\\n",
      "Deal Status Code                                                              \n",
      "Lost              826709.730748  1.018263e+06  889215.686667  608529.412222   \n",
      "Won               702220.889286  5.171639e+05  347794.115000  650735.295000   \n",
      "\n",
      "Solution Type      Solution 17  Solution 18  ...   Solution 61  Solution 62  \\\n",
      "Deal Status Code                             ...                              \n",
      "Lost              1.029412e+06          NaN  ...  2.458824e+06  2794117.650   \n",
      "Won               6.669118e+05     225000.0  ...  1.279816e+06  3708970.585   \n",
      "\n",
      "Solution Type     Solution 63  Solution 64  Solution 65  Solution 66  \\\n",
      "Deal Status Code                                                       \n",
      "Lost               2205882.35          NaN  1647058.820          NaN   \n",
      "Won                       NaN    640588.24   913411.767    185294.12   \n",
      "\n",
      "Solution Type       Solution 67    Solution 7    Solution 8     Solution 9  \n",
      "Deal Status Code                                                            \n",
      "Lost              837821.511176  1.000188e+06  7.546873e+05  659805.270314  \n",
      "Won               648808.489830  5.597296e+05  1.095985e+06  602606.618200  \n",
      "\n",
      "[2 rows x 67 columns]\n"
     ]
    }
   ],
   "source": [
    "#Relationship b/w Solution Type and Deal Status Code\n",
    "print(pd.pivot_table(df, index = 'Deal Status Code', columns = 'Solution Type', values ='Deal Cost'))"
   ]
  },
  {
   "cell_type": "code",
   "execution_count": 61,
   "id": "6000e810",
   "metadata": {},
   "outputs": [
    {
     "data": {
      "text/html": [
       "<div>\n",
       "<style scoped>\n",
       "    .dataframe tbody tr th:only-of-type {\n",
       "        vertical-align: middle;\n",
       "    }\n",
       "\n",
       "    .dataframe tbody tr th {\n",
       "        vertical-align: top;\n",
       "    }\n",
       "\n",
       "    .dataframe thead th {\n",
       "        text-align: right;\n",
       "    }\n",
       "</style>\n",
       "<table border=\"1\" class=\"dataframe\">\n",
       "  <thead>\n",
       "    <tr style=\"text-align: right;\">\n",
       "      <th></th>\n",
       "      <th>Client Category</th>\n",
       "      <th>Solution Type</th>\n",
       "      <th>Deal Date</th>\n",
       "      <th>Sector</th>\n",
       "      <th>Location</th>\n",
       "      <th>VP Name</th>\n",
       "      <th>Manager Name</th>\n",
       "      <th>Deal Cost</th>\n",
       "      <th>Deal Status Code</th>\n",
       "      <th>Deal_Date_year</th>\n",
       "    </tr>\n",
       "  </thead>\n",
       "  <tbody>\n",
       "    <tr>\n",
       "      <th>0</th>\n",
       "      <td>Telecom</td>\n",
       "      <td>Solution 7</td>\n",
       "      <td>2012-03-27</td>\n",
       "      <td>Sector 24</td>\n",
       "      <td>L5</td>\n",
       "      <td>Ekta Zutshi</td>\n",
       "      <td>Gopa Trilochana</td>\n",
       "      <td>150000.00</td>\n",
       "      <td>Won</td>\n",
       "      <td>2012</td>\n",
       "    </tr>\n",
       "    <tr>\n",
       "      <th>1</th>\n",
       "      <td>Telecom</td>\n",
       "      <td>Solution 7</td>\n",
       "      <td>2012-09-25</td>\n",
       "      <td>Sector 24</td>\n",
       "      <td>L5</td>\n",
       "      <td>Ekta Zutshi</td>\n",
       "      <td>Gopa Trilochana</td>\n",
       "      <td>744705.88</td>\n",
       "      <td>Won</td>\n",
       "      <td>2012</td>\n",
       "    </tr>\n",
       "    <tr>\n",
       "      <th>2</th>\n",
       "      <td>Internal</td>\n",
       "      <td>Solution 59</td>\n",
       "      <td>2011-08-01</td>\n",
       "      <td>Sector 20</td>\n",
       "      <td>Others</td>\n",
       "      <td>Ekta Zutshi</td>\n",
       "      <td>Russell Dahlen</td>\n",
       "      <td>60000.00</td>\n",
       "      <td>Lost</td>\n",
       "      <td>2011</td>\n",
       "    </tr>\n",
       "    <tr>\n",
       "      <th>3</th>\n",
       "      <td>Internal</td>\n",
       "      <td>Solution 59</td>\n",
       "      <td>2011-04-28</td>\n",
       "      <td>Sector 20</td>\n",
       "      <td>Others</td>\n",
       "      <td>Ekta Zutshi</td>\n",
       "      <td>Russell Dahlen</td>\n",
       "      <td>60000.00</td>\n",
       "      <td>Lost</td>\n",
       "      <td>2011</td>\n",
       "    </tr>\n",
       "    <tr>\n",
       "      <th>4</th>\n",
       "      <td>Internal</td>\n",
       "      <td>Solution 32</td>\n",
       "      <td>2011-06-03</td>\n",
       "      <td>Sector 20</td>\n",
       "      <td>Others</td>\n",
       "      <td>Ekta Zutshi</td>\n",
       "      <td>Russell Dahlen</td>\n",
       "      <td>80882.35</td>\n",
       "      <td>Lost</td>\n",
       "      <td>2011</td>\n",
       "    </tr>\n",
       "    <tr>\n",
       "      <th>...</th>\n",
       "      <td>...</td>\n",
       "      <td>...</td>\n",
       "      <td>...</td>\n",
       "      <td>...</td>\n",
       "      <td>...</td>\n",
       "      <td>...</td>\n",
       "      <td>...</td>\n",
       "      <td>...</td>\n",
       "      <td>...</td>\n",
       "      <td>...</td>\n",
       "    </tr>\n",
       "    <tr>\n",
       "      <th>10056</th>\n",
       "      <td>Power ind</td>\n",
       "      <td>Solution 9</td>\n",
       "      <td>2019-03-18</td>\n",
       "      <td>Sector 9</td>\n",
       "      <td>L5</td>\n",
       "      <td>Rudraksh Sharma</td>\n",
       "      <td>Rudraksh Sharma</td>\n",
       "      <td>588235.29</td>\n",
       "      <td>Lost</td>\n",
       "      <td>2019</td>\n",
       "    </tr>\n",
       "    <tr>\n",
       "      <th>10057</th>\n",
       "      <td>Internal</td>\n",
       "      <td>Solution 6</td>\n",
       "      <td>2019-03-04</td>\n",
       "      <td>Sector 20</td>\n",
       "      <td>Others</td>\n",
       "      <td>Rudraksh Sharma</td>\n",
       "      <td>Sharavan Singh</td>\n",
       "      <td>777058.82</td>\n",
       "      <td>Won</td>\n",
       "      <td>2019</td>\n",
       "    </tr>\n",
       "    <tr>\n",
       "      <th>10058</th>\n",
       "      <td>Power ind</td>\n",
       "      <td>Solution 9</td>\n",
       "      <td>2019-02-28</td>\n",
       "      <td>Sector 9</td>\n",
       "      <td>L5</td>\n",
       "      <td>Rudraksh Sharma</td>\n",
       "      <td>Rudraksh Sharma</td>\n",
       "      <td>588235.29</td>\n",
       "      <td>Lost</td>\n",
       "      <td>2019</td>\n",
       "    </tr>\n",
       "    <tr>\n",
       "      <th>10059</th>\n",
       "      <td>Power ind</td>\n",
       "      <td>Solution 62</td>\n",
       "      <td>2019-01-27</td>\n",
       "      <td>Sector 9</td>\n",
       "      <td>L5</td>\n",
       "      <td>Man Suddeth</td>\n",
       "      <td>Cleotilde Biron</td>\n",
       "      <td>3042058.82</td>\n",
       "      <td>Won</td>\n",
       "      <td>2019</td>\n",
       "    </tr>\n",
       "    <tr>\n",
       "      <th>10060</th>\n",
       "      <td>Others</td>\n",
       "      <td>Solution 9</td>\n",
       "      <td>2019-05-30</td>\n",
       "      <td>Sector 12</td>\n",
       "      <td>L10</td>\n",
       "      <td>Son Mcconnaughy</td>\n",
       "      <td>Tarun Garg</td>\n",
       "      <td>147058.82</td>\n",
       "      <td>Lost</td>\n",
       "      <td>2019</td>\n",
       "    </tr>\n",
       "  </tbody>\n",
       "</table>\n",
       "<p>10061 rows × 10 columns</p>\n",
       "</div>"
      ],
      "text/plain": [
       "      Client Category Solution Type  Deal Date     Sector Location  \\\n",
       "0             Telecom    Solution 7 2012-03-27  Sector 24       L5   \n",
       "1             Telecom    Solution 7 2012-09-25  Sector 24       L5   \n",
       "2            Internal   Solution 59 2011-08-01  Sector 20   Others   \n",
       "3            Internal   Solution 59 2011-04-28  Sector 20   Others   \n",
       "4            Internal   Solution 32 2011-06-03  Sector 20   Others   \n",
       "...               ...           ...        ...        ...      ...   \n",
       "10056       Power ind    Solution 9 2019-03-18   Sector 9       L5   \n",
       "10057        Internal    Solution 6 2019-03-04  Sector 20   Others   \n",
       "10058       Power ind    Solution 9 2019-02-28   Sector 9       L5   \n",
       "10059       Power ind   Solution 62 2019-01-27   Sector 9       L5   \n",
       "10060          Others    Solution 9 2019-05-30  Sector 12      L10   \n",
       "\n",
       "               VP Name     Manager Name   Deal Cost Deal Status Code  \\\n",
       "0          Ekta Zutshi  Gopa Trilochana   150000.00              Won   \n",
       "1          Ekta Zutshi  Gopa Trilochana   744705.88              Won   \n",
       "2          Ekta Zutshi   Russell Dahlen    60000.00             Lost   \n",
       "3          Ekta Zutshi   Russell Dahlen    60000.00             Lost   \n",
       "4          Ekta Zutshi   Russell Dahlen    80882.35             Lost   \n",
       "...                ...              ...         ...              ...   \n",
       "10056  Rudraksh Sharma  Rudraksh Sharma   588235.29             Lost   \n",
       "10057  Rudraksh Sharma   Sharavan Singh   777058.82              Won   \n",
       "10058  Rudraksh Sharma  Rudraksh Sharma   588235.29             Lost   \n",
       "10059      Man Suddeth  Cleotilde Biron  3042058.82              Won   \n",
       "10060  Son Mcconnaughy       Tarun Garg   147058.82             Lost   \n",
       "\n",
       "       Deal_Date_year  \n",
       "0                2012  \n",
       "1                2012  \n",
       "2                2011  \n",
       "3                2011  \n",
       "4                2011  \n",
       "...               ...  \n",
       "10056            2019  \n",
       "10057            2019  \n",
       "10058            2019  \n",
       "10059            2019  \n",
       "10060            2019  \n",
       "\n",
       "[10061 rows x 10 columns]"
      ]
     },
     "execution_count": 61,
     "metadata": {},
     "output_type": "execute_result"
    }
   ],
   "source": [
    "#Introducing Year of the deal in the dataset\n",
    "df['Deal_Date_year'] = df['Deal Date'].dt.year\n",
    "df"
   ]
  },
  {
   "cell_type": "code",
   "execution_count": 62,
   "id": "9e82b3cc",
   "metadata": {},
   "outputs": [
    {
     "data": {
      "image/png": "[encoded data removed]",
      "text/plain": [
       "<Figure size 432x288 with 1 Axes>"
      ]
     },
     "metadata": {
      "needs_background": "light"
     },
     "output_type": "display_data"
    }
   ],
   "source": [
    "#Histogram for the year\n",
    "sns.histplot(df.Deal_Date_year, bins = 8)\n",
    "plt.show()"
   ]
  },
  {
   "cell_type": "code",
   "execution_count": 63,
   "id": "4f49a337",
   "metadata": {},
   "outputs": [
    {
     "data": {
      "text/html": [
       "<div>\n",
       "<style scoped>\n",
       "    .dataframe tbody tr th:only-of-type {\n",
       "        vertical-align: middle;\n",
       "    }\n",
       "\n",
       "    .dataframe tbody tr th {\n",
       "        vertical-align: top;\n",
       "    }\n",
       "\n",
       "    .dataframe thead th {\n",
       "        text-align: right;\n",
       "    }\n",
       "</style>\n",
       "<table border=\"1\" class=\"dataframe\">\n",
       "  <thead>\n",
       "    <tr style=\"text-align: right;\">\n",
       "      <th></th>\n",
       "      <th>Client Category</th>\n",
       "      <th>Solution Type</th>\n",
       "      <th>Deal Date</th>\n",
       "      <th>Sector</th>\n",
       "      <th>Location</th>\n",
       "      <th>VP Name</th>\n",
       "      <th>Manager Name</th>\n",
       "      <th>Deal Cost</th>\n",
       "      <th>Deal Status Code</th>\n",
       "      <th>Deal_Date_year</th>\n",
       "      <th>Deal_Date_month</th>\n",
       "    </tr>\n",
       "  </thead>\n",
       "  <tbody>\n",
       "    <tr>\n",
       "      <th>0</th>\n",
       "      <td>Telecom</td>\n",
       "      <td>Solution 7</td>\n",
       "      <td>2012-03-27</td>\n",
       "      <td>Sector 24</td>\n",
       "      <td>L5</td>\n",
       "      <td>Ekta Zutshi</td>\n",
       "      <td>Gopa Trilochana</td>\n",
       "      <td>150000.00</td>\n",
       "      <td>Won</td>\n",
       "      <td>2012</td>\n",
       "      <td>3</td>\n",
       "    </tr>\n",
       "    <tr>\n",
       "      <th>1</th>\n",
       "      <td>Telecom</td>\n",
       "      <td>Solution 7</td>\n",
       "      <td>2012-09-25</td>\n",
       "      <td>Sector 24</td>\n",
       "      <td>L5</td>\n",
       "      <td>Ekta Zutshi</td>\n",
       "      <td>Gopa Trilochana</td>\n",
       "      <td>744705.88</td>\n",
       "      <td>Won</td>\n",
       "      <td>2012</td>\n",
       "      <td>9</td>\n",
       "    </tr>\n",
       "    <tr>\n",
       "      <th>2</th>\n",
       "      <td>Internal</td>\n",
       "      <td>Solution 59</td>\n",
       "      <td>2011-08-01</td>\n",
       "      <td>Sector 20</td>\n",
       "      <td>Others</td>\n",
       "      <td>Ekta Zutshi</td>\n",
       "      <td>Russell Dahlen</td>\n",
       "      <td>60000.00</td>\n",
       "      <td>Lost</td>\n",
       "      <td>2011</td>\n",
       "      <td>8</td>\n",
       "    </tr>\n",
       "    <tr>\n",
       "      <th>3</th>\n",
       "      <td>Internal</td>\n",
       "      <td>Solution 59</td>\n",
       "      <td>2011-04-28</td>\n",
       "      <td>Sector 20</td>\n",
       "      <td>Others</td>\n",
       "      <td>Ekta Zutshi</td>\n",
       "      <td>Russell Dahlen</td>\n",
       "      <td>60000.00</td>\n",
       "      <td>Lost</td>\n",
       "      <td>2011</td>\n",
       "      <td>4</td>\n",
       "    </tr>\n",
       "    <tr>\n",
       "      <th>4</th>\n",
       "      <td>Internal</td>\n",
       "      <td>Solution 32</td>\n",
       "      <td>2011-06-03</td>\n",
       "      <td>Sector 20</td>\n",
       "      <td>Others</td>\n",
       "      <td>Ekta Zutshi</td>\n",
       "      <td>Russell Dahlen</td>\n",
       "      <td>80882.35</td>\n",
       "      <td>Lost</td>\n",
       "      <td>2011</td>\n",
       "      <td>6</td>\n",
       "    </tr>\n",
       "  </tbody>\n",
       "</table>\n",
       "</div>"
      ],
      "text/plain": [
       "  Client Category Solution Type  Deal Date     Sector Location      VP Name  \\\n",
       "0         Telecom    Solution 7 2012-03-27  Sector 24       L5  Ekta Zutshi   \n",
       "1         Telecom    Solution 7 2012-09-25  Sector 24       L5  Ekta Zutshi   \n",
       "2        Internal   Solution 59 2011-08-01  Sector 20   Others  Ekta Zutshi   \n",
       "3        Internal   Solution 59 2011-04-28  Sector 20   Others  Ekta Zutshi   \n",
       "4        Internal   Solution 32 2011-06-03  Sector 20   Others  Ekta Zutshi   \n",
       "\n",
       "      Manager Name  Deal Cost Deal Status Code  Deal_Date_year  \\\n",
       "0  Gopa Trilochana  150000.00              Won            2012   \n",
       "1  Gopa Trilochana  744705.88              Won            2012   \n",
       "2   Russell Dahlen   60000.00             Lost            2011   \n",
       "3   Russell Dahlen   60000.00             Lost            2011   \n",
       "4   Russell Dahlen   80882.35             Lost            2011   \n",
       "\n",
       "   Deal_Date_month  \n",
       "0                3  \n",
       "1                9  \n",
       "2                8  \n",
       "3                4  \n",
       "4                6  "
      ]
     },
     "execution_count": 63,
     "metadata": {},
     "output_type": "execute_result"
    }
   ],
   "source": [
    "df['Deal_Date_month'] = df['Deal Date'].dt.month\n",
    "df.head()"
   ]
  },
  {
   "cell_type": "code",
   "execution_count": 64,
   "id": "083ff434",
   "metadata": {},
   "outputs": [
    {
     "data": {
      "image/png": "[encoded data removed]",
      "text/plain": [
       "<Figure size 432x288 with 1 Axes>"
      ]
     },
     "metadata": {
      "needs_background": "light"
     },
     "output_type": "display_data"
    }
   ],
   "source": [
    "#Histogram for the month\n",
    "sns.histplot(df.Deal_Date_month, bins = 12)\n",
    "plt.show()"
   ]
  },
  {
   "cell_type": "code",
   "execution_count": 65,
   "id": "38790564",
   "metadata": {},
   "outputs": [
    {
     "data": {
      "text/html": [
       "<div>\n",
       "<style scoped>\n",
       "    .dataframe tbody tr th:only-of-type {\n",
       "        vertical-align: middle;\n",
       "    }\n",
       "\n",
       "    .dataframe tbody tr th {\n",
       "        vertical-align: top;\n",
       "    }\n",
       "\n",
       "    .dataframe thead th {\n",
       "        text-align: right;\n",
       "    }\n",
       "</style>\n",
       "<table border=\"1\" class=\"dataframe\">\n",
       "  <thead>\n",
       "    <tr style=\"text-align: right;\">\n",
       "      <th></th>\n",
       "      <th>Client Category</th>\n",
       "      <th>Solution Type</th>\n",
       "      <th>Deal Date</th>\n",
       "      <th>Sector</th>\n",
       "      <th>Location</th>\n",
       "      <th>VP Name</th>\n",
       "      <th>Manager Name</th>\n",
       "      <th>Deal Cost</th>\n",
       "      <th>Deal Status Code</th>\n",
       "      <th>Deal_Date_year</th>\n",
       "      <th>Deal_Date_month</th>\n",
       "      <th>Deal_Date_quarter</th>\n",
       "    </tr>\n",
       "  </thead>\n",
       "  <tbody>\n",
       "    <tr>\n",
       "      <th>0</th>\n",
       "      <td>Telecom</td>\n",
       "      <td>Solution 7</td>\n",
       "      <td>2012-03-27</td>\n",
       "      <td>Sector 24</td>\n",
       "      <td>L5</td>\n",
       "      <td>Ekta Zutshi</td>\n",
       "      <td>Gopa Trilochana</td>\n",
       "      <td>150000.00</td>\n",
       "      <td>Won</td>\n",
       "      <td>2012</td>\n",
       "      <td>3</td>\n",
       "      <td>1</td>\n",
       "    </tr>\n",
       "    <tr>\n",
       "      <th>1</th>\n",
       "      <td>Telecom</td>\n",
       "      <td>Solution 7</td>\n",
       "      <td>2012-09-25</td>\n",
       "      <td>Sector 24</td>\n",
       "      <td>L5</td>\n",
       "      <td>Ekta Zutshi</td>\n",
       "      <td>Gopa Trilochana</td>\n",
       "      <td>744705.88</td>\n",
       "      <td>Won</td>\n",
       "      <td>2012</td>\n",
       "      <td>9</td>\n",
       "      <td>3</td>\n",
       "    </tr>\n",
       "    <tr>\n",
       "      <th>2</th>\n",
       "      <td>Internal</td>\n",
       "      <td>Solution 59</td>\n",
       "      <td>2011-08-01</td>\n",
       "      <td>Sector 20</td>\n",
       "      <td>Others</td>\n",
       "      <td>Ekta Zutshi</td>\n",
       "      <td>Russell Dahlen</td>\n",
       "      <td>60000.00</td>\n",
       "      <td>Lost</td>\n",
       "      <td>2011</td>\n",
       "      <td>8</td>\n",
       "      <td>3</td>\n",
       "    </tr>\n",
       "    <tr>\n",
       "      <th>3</th>\n",
       "      <td>Internal</td>\n",
       "      <td>Solution 59</td>\n",
       "      <td>2011-04-28</td>\n",
       "      <td>Sector 20</td>\n",
       "      <td>Others</td>\n",
       "      <td>Ekta Zutshi</td>\n",
       "      <td>Russell Dahlen</td>\n",
       "      <td>60000.00</td>\n",
       "      <td>Lost</td>\n",
       "      <td>2011</td>\n",
       "      <td>4</td>\n",
       "      <td>2</td>\n",
       "    </tr>\n",
       "    <tr>\n",
       "      <th>4</th>\n",
       "      <td>Internal</td>\n",
       "      <td>Solution 32</td>\n",
       "      <td>2011-06-03</td>\n",
       "      <td>Sector 20</td>\n",
       "      <td>Others</td>\n",
       "      <td>Ekta Zutshi</td>\n",
       "      <td>Russell Dahlen</td>\n",
       "      <td>80882.35</td>\n",
       "      <td>Lost</td>\n",
       "      <td>2011</td>\n",
       "      <td>6</td>\n",
       "      <td>2</td>\n",
       "    </tr>\n",
       "  </tbody>\n",
       "</table>\n",
       "</div>"
      ],
      "text/plain": [
       "  Client Category Solution Type  Deal Date     Sector Location      VP Name  \\\n",
       "0         Telecom    Solution 7 2012-03-27  Sector 24       L5  Ekta Zutshi   \n",
       "1         Telecom    Solution 7 2012-09-25  Sector 24       L5  Ekta Zutshi   \n",
       "2        Internal   Solution 59 2011-08-01  Sector 20   Others  Ekta Zutshi   \n",
       "3        Internal   Solution 59 2011-04-28  Sector 20   Others  Ekta Zutshi   \n",
       "4        Internal   Solution 32 2011-06-03  Sector 20   Others  Ekta Zutshi   \n",
       "\n",
       "      Manager Name  Deal Cost Deal Status Code  Deal_Date_year  \\\n",
       "0  Gopa Trilochana  150000.00              Won            2012   \n",
       "1  Gopa Trilochana  744705.88              Won            2012   \n",
       "2   Russell Dahlen   60000.00             Lost            2011   \n",
       "3   Russell Dahlen   60000.00             Lost            2011   \n",
       "4   Russell Dahlen   80882.35             Lost            2011   \n",
       "\n",
       "   Deal_Date_month  Deal_Date_quarter  \n",
       "0                3                  1  \n",
       "1                9                  3  \n",
       "2                8                  3  \n",
       "3                4                  2  \n",
       "4                6                  2  "
      ]
     },
     "execution_count": 65,
     "metadata": {},
     "output_type": "execute_result"
    }
   ],
   "source": [
    "df['Deal_Date_quarter'] = df['Deal Date'].dt.quarter\n",
    "df.head()"
   ]
  },
  {
   "cell_type": "code",
   "execution_count": 66,
   "id": "a87f50b9",
   "metadata": {},
   "outputs": [
    {
     "data": {
      "image/png": "[encoded data removed]",
      "text/plain": [
       "<Figure size 432x288 with 1 Axes>"
      ]
     },
     "metadata": {
      "needs_background": "light"
     },
     "output_type": "display_data"
    }
   ],
   "source": [
    "#Histogram for the quarter\n",
    "sns.histplot(df.Deal_Date_quarter, bins = 4)\n",
    "plt.show()"
   ]
  },
  {
   "cell_type": "code",
   "execution_count": 67,
   "id": "31d80a47",
   "metadata": {},
   "outputs": [],
   "source": [
    "#Dropping the date column since other dates are separated\n",
    "df = df.drop(['Deal Date'],axis = 1 )"
   ]
  },
  {
   "cell_type": "code",
   "execution_count": 68,
   "id": "de9035b5",
   "metadata": {},
   "outputs": [
    {
     "data": {
      "text/html": [
       "<div>\n",
       "<style scoped>\n",
       "    .dataframe tbody tr th:only-of-type {\n",
       "        vertical-align: middle;\n",
       "    }\n",
       "\n",
       "    .dataframe tbody tr th {\n",
       "        vertical-align: top;\n",
       "    }\n",
       "\n",
       "    .dataframe thead th {\n",
       "        text-align: right;\n",
       "    }\n",
       "</style>\n",
       "<table border=\"1\" class=\"dataframe\">\n",
       "  <thead>\n",
       "    <tr style=\"text-align: right;\">\n",
       "      <th></th>\n",
       "      <th>Client Category</th>\n",
       "      <th>Solution Type</th>\n",
       "      <th>Sector</th>\n",
       "      <th>Location</th>\n",
       "      <th>VP Name</th>\n",
       "      <th>Manager Name</th>\n",
       "      <th>Deal Cost</th>\n",
       "      <th>Deal Status Code</th>\n",
       "      <th>Deal_Date_year</th>\n",
       "      <th>Deal_Date_month</th>\n",
       "      <th>Deal_Date_quarter</th>\n",
       "    </tr>\n",
       "  </thead>\n",
       "  <tbody>\n",
       "    <tr>\n",
       "      <th>0</th>\n",
       "      <td>Telecom</td>\n",
       "      <td>Solution 7</td>\n",
       "      <td>Sector 24</td>\n",
       "      <td>L5</td>\n",
       "      <td>Ekta Zutshi</td>\n",
       "      <td>Gopa Trilochana</td>\n",
       "      <td>150000.00</td>\n",
       "      <td>Won</td>\n",
       "      <td>2012</td>\n",
       "      <td>3</td>\n",
       "      <td>1</td>\n",
       "    </tr>\n",
       "    <tr>\n",
       "      <th>1</th>\n",
       "      <td>Telecom</td>\n",
       "      <td>Solution 7</td>\n",
       "      <td>Sector 24</td>\n",
       "      <td>L5</td>\n",
       "      <td>Ekta Zutshi</td>\n",
       "      <td>Gopa Trilochana</td>\n",
       "      <td>744705.88</td>\n",
       "      <td>Won</td>\n",
       "      <td>2012</td>\n",
       "      <td>9</td>\n",
       "      <td>3</td>\n",
       "    </tr>\n",
       "    <tr>\n",
       "      <th>2</th>\n",
       "      <td>Internal</td>\n",
       "      <td>Solution 59</td>\n",
       "      <td>Sector 20</td>\n",
       "      <td>Others</td>\n",
       "      <td>Ekta Zutshi</td>\n",
       "      <td>Russell Dahlen</td>\n",
       "      <td>60000.00</td>\n",
       "      <td>Lost</td>\n",
       "      <td>2011</td>\n",
       "      <td>8</td>\n",
       "      <td>3</td>\n",
       "    </tr>\n",
       "    <tr>\n",
       "      <th>3</th>\n",
       "      <td>Internal</td>\n",
       "      <td>Solution 59</td>\n",
       "      <td>Sector 20</td>\n",
       "      <td>Others</td>\n",
       "      <td>Ekta Zutshi</td>\n",
       "      <td>Russell Dahlen</td>\n",
       "      <td>60000.00</td>\n",
       "      <td>Lost</td>\n",
       "      <td>2011</td>\n",
       "      <td>4</td>\n",
       "      <td>2</td>\n",
       "    </tr>\n",
       "    <tr>\n",
       "      <th>4</th>\n",
       "      <td>Internal</td>\n",
       "      <td>Solution 32</td>\n",
       "      <td>Sector 20</td>\n",
       "      <td>Others</td>\n",
       "      <td>Ekta Zutshi</td>\n",
       "      <td>Russell Dahlen</td>\n",
       "      <td>80882.35</td>\n",
       "      <td>Lost</td>\n",
       "      <td>2011</td>\n",
       "      <td>6</td>\n",
       "      <td>2</td>\n",
       "    </tr>\n",
       "  </tbody>\n",
       "</table>\n",
       "</div>"
      ],
      "text/plain": [
       "  Client Category Solution Type     Sector Location      VP Name  \\\n",
       "0         Telecom    Solution 7  Sector 24       L5  Ekta Zutshi   \n",
       "1         Telecom    Solution 7  Sector 24       L5  Ekta Zutshi   \n",
       "2        Internal   Solution 59  Sector 20   Others  Ekta Zutshi   \n",
       "3        Internal   Solution 59  Sector 20   Others  Ekta Zutshi   \n",
       "4        Internal   Solution 32  Sector 20   Others  Ekta Zutshi   \n",
       "\n",
       "      Manager Name  Deal Cost Deal Status Code  Deal_Date_year  \\\n",
       "0  Gopa Trilochana  150000.00              Won            2012   \n",
       "1  Gopa Trilochana  744705.88              Won            2012   \n",
       "2   Russell Dahlen   60000.00             Lost            2011   \n",
       "3   Russell Dahlen   60000.00             Lost            2011   \n",
       "4   Russell Dahlen   80882.35             Lost            2011   \n",
       "\n",
       "   Deal_Date_month  Deal_Date_quarter  \n",
       "0                3                  1  \n",
       "1                9                  3  \n",
       "2                8                  3  \n",
       "3                4                  2  \n",
       "4                6                  2  "
      ]
     },
     "execution_count": 68,
     "metadata": {},
     "output_type": "execute_result"
    }
   ],
   "source": [
    "df.head()"
   ]
  },
  {
   "cell_type": "code",
   "execution_count": 69,
   "id": "561341d9",
   "metadata": {},
   "outputs": [],
   "source": [
    "#The next step is encoding. We have to convert everything to a number to use it in a model\n",
    "df['Client Category'] = df['Client Category'].astype('category')\n",
    "df['Client Category'] = df['Client Category'].cat.codes\n",
    "\n",
    "df['Solution Type'] = df['Solution Type'].astype('category')\n",
    "df['Solution Type'] = df['Solution Type'].cat.codes\n",
    "\n",
    "df['Sector'] = df['Sector'].astype('category')\n",
    "df['Sector'] = df['Sector'].cat.codes\n",
    "\n",
    "df['Location'] = df['Location'].astype('category')\n",
    "df['Location'] = df['Location'].cat.codes\n",
    "\n",
    "df['VP Name'] = df['VP Name'].astype('category')\n",
    "df['VP Name'] = df['VP Name'].cat.codes\n",
    "\n",
    "df['Manager Name'] = df['Manager Name'].astype('category')\n",
    "df['Manager Name'] = df['Manager Name'].cat.codes\n",
    "\n",
    "df['Deal Status Code'] = df['Deal Status Code'].astype('category')\n",
    "df['Deal Status Code'] = df['Deal Status Code'].cat.codes"
   ]
  },
  {
   "cell_type": "code",
   "execution_count": 70,
   "id": "2e821499",
   "metadata": {},
   "outputs": [
    {
     "data": {
      "text/html": [
       "<div>\n",
       "<style scoped>\n",
       "    .dataframe tbody tr th:only-of-type {\n",
       "        vertical-align: middle;\n",
       "    }\n",
       "\n",
       "    .dataframe tbody tr th {\n",
       "        vertical-align: top;\n",
       "    }\n",
       "\n",
       "    .dataframe thead th {\n",
       "        text-align: right;\n",
       "    }\n",
       "</style>\n",
       "<table border=\"1\" class=\"dataframe\">\n",
       "  <thead>\n",
       "    <tr style=\"text-align: right;\">\n",
       "      <th></th>\n",
       "      <th>Client Category</th>\n",
       "      <th>Solution Type</th>\n",
       "      <th>Sector</th>\n",
       "      <th>Location</th>\n",
       "      <th>VP Name</th>\n",
       "      <th>Manager Name</th>\n",
       "      <th>Deal Cost</th>\n",
       "      <th>Deal Status Code</th>\n",
       "      <th>Deal_Date_year</th>\n",
       "      <th>Deal_Date_month</th>\n",
       "      <th>Deal_Date_quarter</th>\n",
       "    </tr>\n",
       "  </thead>\n",
       "  <tbody>\n",
       "    <tr>\n",
       "      <th>0</th>\n",
       "      <td>39</td>\n",
       "      <td>64</td>\n",
       "      <td>16</td>\n",
       "      <td>7</td>\n",
       "      <td>6</td>\n",
       "      <td>82</td>\n",
       "      <td>150000.00</td>\n",
       "      <td>1</td>\n",
       "      <td>2012</td>\n",
       "      <td>3</td>\n",
       "      <td>1</td>\n",
       "    </tr>\n",
       "    <tr>\n",
       "      <th>1</th>\n",
       "      <td>39</td>\n",
       "      <td>64</td>\n",
       "      <td>16</td>\n",
       "      <td>7</td>\n",
       "      <td>6</td>\n",
       "      <td>82</td>\n",
       "      <td>744705.88</td>\n",
       "      <td>1</td>\n",
       "      <td>2012</td>\n",
       "      <td>9</td>\n",
       "      <td>3</td>\n",
       "    </tr>\n",
       "    <tr>\n",
       "      <th>2</th>\n",
       "      <td>19</td>\n",
       "      <td>54</td>\n",
       "      <td>12</td>\n",
       "      <td>12</td>\n",
       "      <td>6</td>\n",
       "      <td>183</td>\n",
       "      <td>60000.00</td>\n",
       "      <td>0</td>\n",
       "      <td>2011</td>\n",
       "      <td>8</td>\n",
       "      <td>3</td>\n",
       "    </tr>\n",
       "    <tr>\n",
       "      <th>3</th>\n",
       "      <td>19</td>\n",
       "      <td>54</td>\n",
       "      <td>12</td>\n",
       "      <td>12</td>\n",
       "      <td>6</td>\n",
       "      <td>183</td>\n",
       "      <td>60000.00</td>\n",
       "      <td>0</td>\n",
       "      <td>2011</td>\n",
       "      <td>4</td>\n",
       "      <td>2</td>\n",
       "    </tr>\n",
       "    <tr>\n",
       "      <th>4</th>\n",
       "      <td>19</td>\n",
       "      <td>25</td>\n",
       "      <td>12</td>\n",
       "      <td>12</td>\n",
       "      <td>6</td>\n",
       "      <td>183</td>\n",
       "      <td>80882.35</td>\n",
       "      <td>0</td>\n",
       "      <td>2011</td>\n",
       "      <td>6</td>\n",
       "      <td>2</td>\n",
       "    </tr>\n",
       "  </tbody>\n",
       "</table>\n",
       "</div>"
      ],
      "text/plain": [
       "   Client Category  Solution Type  Sector  Location  VP Name  Manager Name  \\\n",
       "0               39             64      16         7        6            82   \n",
       "1               39             64      16         7        6            82   \n",
       "2               19             54      12        12        6           183   \n",
       "3               19             54      12        12        6           183   \n",
       "4               19             25      12        12        6           183   \n",
       "\n",
       "   Deal Cost  Deal Status Code  Deal_Date_year  Deal_Date_month  \\\n",
       "0  150000.00                 1            2012                3   \n",
       "1  744705.88                 1            2012                9   \n",
       "2   60000.00                 0            2011                8   \n",
       "3   60000.00                 0            2011                4   \n",
       "4   80882.35                 0            2011                6   \n",
       "\n",
       "   Deal_Date_quarter  \n",
       "0                  1  \n",
       "1                  3  \n",
       "2                  3  \n",
       "3                  2  \n",
       "4                  2  "
      ]
     },
     "execution_count": 70,
     "metadata": {},
     "output_type": "execute_result"
    }
   ],
   "source": [
    "df.head()"
   ]
  },
  {
   "cell_type": "code",
   "execution_count": 71,
   "id": "b8f219f1",
   "metadata": {},
   "outputs": [],
   "source": [
    "#Splitting into Independent and dependent \n",
    "x = df.drop(['Deal Status Code'],axis=1)\n",
    "y = df['Deal Status Code']"
   ]
  },
  {
   "cell_type": "code",
   "execution_count": 72,
   "id": "17783d03",
   "metadata": {},
   "outputs": [
    {
     "data": {
      "text/html": [
       "<div>\n",
       "<style scoped>\n",
       "    .dataframe tbody tr th:only-of-type {\n",
       "        vertical-align: middle;\n",
       "    }\n",
       "\n",
       "    .dataframe tbody tr th {\n",
       "        vertical-align: top;\n",
       "    }\n",
       "\n",
       "    .dataframe thead th {\n",
       "        text-align: right;\n",
       "    }\n",
       "</style>\n",
       "<table border=\"1\" class=\"dataframe\">\n",
       "  <thead>\n",
       "    <tr style=\"text-align: right;\">\n",
       "      <th></th>\n",
       "      <th>Client Category</th>\n",
       "      <th>Solution Type</th>\n",
       "      <th>Sector</th>\n",
       "      <th>Location</th>\n",
       "      <th>VP Name</th>\n",
       "      <th>Manager Name</th>\n",
       "      <th>Deal Cost</th>\n",
       "      <th>Deal_Date_year</th>\n",
       "      <th>Deal_Date_month</th>\n",
       "      <th>Deal_Date_quarter</th>\n",
       "    </tr>\n",
       "  </thead>\n",
       "  <tbody>\n",
       "    <tr>\n",
       "      <th>0</th>\n",
       "      <td>39</td>\n",
       "      <td>64</td>\n",
       "      <td>16</td>\n",
       "      <td>7</td>\n",
       "      <td>6</td>\n",
       "      <td>82</td>\n",
       "      <td>150000.00</td>\n",
       "      <td>2012</td>\n",
       "      <td>3</td>\n",
       "      <td>1</td>\n",
       "    </tr>\n",
       "    <tr>\n",
       "      <th>1</th>\n",
       "      <td>39</td>\n",
       "      <td>64</td>\n",
       "      <td>16</td>\n",
       "      <td>7</td>\n",
       "      <td>6</td>\n",
       "      <td>82</td>\n",
       "      <td>744705.88</td>\n",
       "      <td>2012</td>\n",
       "      <td>9</td>\n",
       "      <td>3</td>\n",
       "    </tr>\n",
       "    <tr>\n",
       "      <th>2</th>\n",
       "      <td>19</td>\n",
       "      <td>54</td>\n",
       "      <td>12</td>\n",
       "      <td>12</td>\n",
       "      <td>6</td>\n",
       "      <td>183</td>\n",
       "      <td>60000.00</td>\n",
       "      <td>2011</td>\n",
       "      <td>8</td>\n",
       "      <td>3</td>\n",
       "    </tr>\n",
       "    <tr>\n",
       "      <th>3</th>\n",
       "      <td>19</td>\n",
       "      <td>54</td>\n",
       "      <td>12</td>\n",
       "      <td>12</td>\n",
       "      <td>6</td>\n",
       "      <td>183</td>\n",
       "      <td>60000.00</td>\n",
       "      <td>2011</td>\n",
       "      <td>4</td>\n",
       "      <td>2</td>\n",
       "    </tr>\n",
       "    <tr>\n",
       "      <th>4</th>\n",
       "      <td>19</td>\n",
       "      <td>25</td>\n",
       "      <td>12</td>\n",
       "      <td>12</td>\n",
       "      <td>6</td>\n",
       "      <td>183</td>\n",
       "      <td>80882.35</td>\n",
       "      <td>2011</td>\n",
       "      <td>6</td>\n",
       "      <td>2</td>\n",
       "    </tr>\n",
       "  </tbody>\n",
       "</table>\n",
       "</div>"
      ],
      "text/plain": [
       "   Client Category  Solution Type  Sector  Location  VP Name  Manager Name  \\\n",
       "0               39             64      16         7        6            82   \n",
       "1               39             64      16         7        6            82   \n",
       "2               19             54      12        12        6           183   \n",
       "3               19             54      12        12        6           183   \n",
       "4               19             25      12        12        6           183   \n",
       "\n",
       "   Deal Cost  Deal_Date_year  Deal_Date_month  Deal_Date_quarter  \n",
       "0  150000.00            2012                3                  1  \n",
       "1  744705.88            2012                9                  3  \n",
       "2   60000.00            2011                8                  3  \n",
       "3   60000.00            2011                4                  2  \n",
       "4   80882.35            2011                6                  2  "
      ]
     },
     "execution_count": 72,
     "metadata": {},
     "output_type": "execute_result"
    }
   ],
   "source": [
    "x.head()"
   ]
  },
  {
   "cell_type": "code",
   "execution_count": 73,
   "id": "10640c78",
   "metadata": {},
   "outputs": [
    {
     "data": {
      "text/plain": [
       "0    1\n",
       "1    1\n",
       "2    0\n",
       "3    0\n",
       "4    0\n",
       "Name: Deal Status Code, dtype: int8"
      ]
     },
     "execution_count": 73,
     "metadata": {},
     "output_type": "execute_result"
    }
   ],
   "source": [
    "y.head()"
   ]
  },
  {
   "cell_type": "code",
   "execution_count": 74,
   "id": "31e811ef",
   "metadata": {},
   "outputs": [],
   "source": [
    "#Since we're not doing a Time Series Analysis, we are dropping the Date columns\n",
    "x = x.iloc[:,0:7]"
   ]
  },
  {
   "cell_type": "code",
   "execution_count": 75,
   "id": "2e9b6f7a",
   "metadata": {},
   "outputs": [
    {
     "data": {
      "text/html": [
       "<div>\n",
       "<style scoped>\n",
       "    .dataframe tbody tr th:only-of-type {\n",
       "        vertical-align: middle;\n",
       "    }\n",
       "\n",
       "    .dataframe tbody tr th {\n",
       "        vertical-align: top;\n",
       "    }\n",
       "\n",
       "    .dataframe thead th {\n",
       "        text-align: right;\n",
       "    }\n",
       "</style>\n",
       "<table border=\"1\" class=\"dataframe\">\n",
       "  <thead>\n",
       "    <tr style=\"text-align: right;\">\n",
       "      <th></th>\n",
       "      <th>Client Category</th>\n",
       "      <th>Solution Type</th>\n",
       "      <th>Sector</th>\n",
       "      <th>Location</th>\n",
       "      <th>VP Name</th>\n",
       "      <th>Manager Name</th>\n",
       "      <th>Deal Cost</th>\n",
       "    </tr>\n",
       "  </thead>\n",
       "  <tbody>\n",
       "    <tr>\n",
       "      <th>0</th>\n",
       "      <td>39</td>\n",
       "      <td>64</td>\n",
       "      <td>16</td>\n",
       "      <td>7</td>\n",
       "      <td>6</td>\n",
       "      <td>82</td>\n",
       "      <td>150000.00</td>\n",
       "    </tr>\n",
       "    <tr>\n",
       "      <th>1</th>\n",
       "      <td>39</td>\n",
       "      <td>64</td>\n",
       "      <td>16</td>\n",
       "      <td>7</td>\n",
       "      <td>6</td>\n",
       "      <td>82</td>\n",
       "      <td>744705.88</td>\n",
       "    </tr>\n",
       "    <tr>\n",
       "      <th>2</th>\n",
       "      <td>19</td>\n",
       "      <td>54</td>\n",
       "      <td>12</td>\n",
       "      <td>12</td>\n",
       "      <td>6</td>\n",
       "      <td>183</td>\n",
       "      <td>60000.00</td>\n",
       "    </tr>\n",
       "    <tr>\n",
       "      <th>3</th>\n",
       "      <td>19</td>\n",
       "      <td>54</td>\n",
       "      <td>12</td>\n",
       "      <td>12</td>\n",
       "      <td>6</td>\n",
       "      <td>183</td>\n",
       "      <td>60000.00</td>\n",
       "    </tr>\n",
       "    <tr>\n",
       "      <th>4</th>\n",
       "      <td>19</td>\n",
       "      <td>25</td>\n",
       "      <td>12</td>\n",
       "      <td>12</td>\n",
       "      <td>6</td>\n",
       "      <td>183</td>\n",
       "      <td>80882.35</td>\n",
       "    </tr>\n",
       "  </tbody>\n",
       "</table>\n",
       "</div>"
      ],
      "text/plain": [
       "   Client Category  Solution Type  Sector  Location  VP Name  Manager Name  \\\n",
       "0               39             64      16         7        6            82   \n",
       "1               39             64      16         7        6            82   \n",
       "2               19             54      12        12        6           183   \n",
       "3               19             54      12        12        6           183   \n",
       "4               19             25      12        12        6           183   \n",
       "\n",
       "   Deal Cost  \n",
       "0  150000.00  \n",
       "1  744705.88  \n",
       "2   60000.00  \n",
       "3   60000.00  \n",
       "4   80882.35  "
      ]
     },
     "execution_count": 75,
     "metadata": {},
     "output_type": "execute_result"
    }
   ],
   "source": [
    "x.head()"
   ]
  },
  {
   "cell_type": "code",
   "execution_count": 76,
   "id": "31cadf2d",
   "metadata": {},
   "outputs": [],
   "source": [
    "#Standardizing the data - Deal Cost\n",
    "from sklearn.preprocessing import StandardScaler\n",
    "sc = StandardScaler()\n",
    "x1 = sc.fit_transform(x)"
   ]
  },
  {
   "cell_type": "code",
   "execution_count": 77,
   "id": "842186f8",
   "metadata": {},
   "outputs": [
    {
     "data": {
      "text/plain": [
       "array([[ 1.40299487,  1.29765094,  0.78535088, ..., -1.11119992,\n",
       "        -0.71544412, -0.38084443],\n",
       "       [ 1.40299487,  1.29765094,  0.78535088, ..., -1.11119992,\n",
       "        -0.71544412, -0.01369972],\n",
       "       [-0.33339304,  0.86106354,  0.01663725, ..., -1.11119992,\n",
       "         0.60004268, -0.43640639],\n",
       "       ...,\n",
       "       [ 0.70843971,  1.38496843,  2.32277814, ...,  0.79154462,\n",
       "         0.58701806, -0.11029764],\n",
       "       [ 0.70843971,  1.0356985 ,  2.32277814, ..., -0.03573561,\n",
       "        -1.13223202,  1.40458284],\n",
       "       [ 0.44798152,  1.38496843, -1.71296842, ...,  1.20518474,\n",
       "         1.0298552 , -0.38266018]])"
      ]
     },
     "execution_count": 77,
     "metadata": {},
     "output_type": "execute_result"
    }
   ],
   "source": [
    "x1"
   ]
  },
  {
   "cell_type": "code",
   "execution_count": 78,
   "id": "746d7e22",
   "metadata": {},
   "outputs": [],
   "source": [
    "#Splitting into training & testing data (75% Train & 25% Test)\n",
    "from sklearn.model_selection import train_test_split\n",
    "x_train, x_test, y_train, y_test = train_test_split(x1, y, train_size=0.75 , random_state=101)"
   ]
  },
  {
   "cell_type": "code",
   "execution_count": null,
   "id": "99fff0b0",
   "metadata": {},
   "outputs": [],
   "source": []
  },
  {
   "cell_type": "code",
   "execution_count": 79,
   "id": "05ce6f28",
   "metadata": {},
   "outputs": [],
   "source": [
    "# 1. Logestic Regression"
   ]
  },
  {
   "cell_type": "code",
   "execution_count": 80,
   "id": "9a83a85b",
   "metadata": {},
   "outputs": [
    {
     "data": {
      "text/plain": [
       "LogisticRegression()"
      ]
     },
     "execution_count": 80,
     "metadata": {},
     "output_type": "execute_result"
    }
   ],
   "source": [
    "from sklearn.linear_model import LogisticRegression\n",
    "logit = LogisticRegression()\n",
    "logit.fit(x_train , y_train)"
   ]
  },
  {
   "cell_type": "code",
   "execution_count": 81,
   "id": "b4e32aac",
   "metadata": {},
   "outputs": [],
   "source": [
    "y_pred_log_test = logit.predict(x_test)\n",
    "y_pred_log_train = logit.predict(x_train)"
   ]
  },
  {
   "cell_type": "code",
   "execution_count": 82,
   "id": "b9c4ade1",
   "metadata": {},
   "outputs": [],
   "source": [
    "from sklearn.metrics import confusion_matrix, classification_report, accuracy_score"
   ]
  },
  {
   "cell_type": "code",
   "execution_count": 83,
   "id": "632a7ac2",
   "metadata": {},
   "outputs": [
    {
     "name": "stdout",
     "output_type": "stream",
     "text": [
      " Test Confusion matrix\n",
      "\n",
      " [[1627    4]\n",
      " [ 883    2]]\n",
      "\n",
      "True Positives(TP) =  1627\n",
      "\n",
      "True Negatives(TN) =  2\n",
      "\n",
      "False Positives(FP) =  4\n"
     ]
    }
   ],
   "source": [
    "cm = confusion_matrix(y_test, y_pred_log_test)\n",
    "\n",
    "print(' Test Confusion matrix\\n\\n', cm)\n",
    "\n",
    "print('\\nTrue Positives(TP) = ', cm[0,0])\n",
    "\n",
    "print('\\nTrue Negatives(TN) = ', cm[1,1])\n",
    "\n",
    "print('\\nFalse Positives(FP) = ', cm[0,1])"
   ]
  },
  {
   "cell_type": "code",
   "execution_count": 84,
   "id": "299ad7af",
   "metadata": {},
   "outputs": [
    {
     "name": "stdout",
     "output_type": "stream",
     "text": [
      "Test Model accuracy score: 0.6475\n"
     ]
    }
   ],
   "source": [
    "from sklearn.metrics import accuracy_score\n",
    "\n",
    "print('Test Model accuracy score: {0:0.4f}'. format(accuracy_score(y_test, y_pred_log_test)))"
   ]
  },
  {
   "cell_type": "code",
   "execution_count": 85,
   "id": "99b248dc",
   "metadata": {},
   "outputs": [
    {
     "name": "stdout",
     "output_type": "stream",
     "text": [
      "Training-set accuracy score: 0.6196\n"
     ]
    }
   ],
   "source": [
    "print('Training-set accuracy score: {0:0.4f}'. format(accuracy_score(y_train, y_pred_log_train)))"
   ]
  },
  {
   "cell_type": "code",
   "execution_count": 86,
   "id": "376c8881",
   "metadata": {},
   "outputs": [
    {
     "data": {
      "text/plain": [
       "<AxesSubplot:>"
      ]
     },
     "execution_count": 86,
     "metadata": {},
     "output_type": "execute_result"
    },
    {
     "data": {
      "image/png": "[encoded data removed]",
      "text/plain": [
       "<Figure size 432x288 with 2 Axes>"
      ]
     },
     "metadata": {
      "needs_background": "light"
     },
     "output_type": "display_data"
    }
   ],
   "source": [
    "# visualize confusion matrix with seaborn heatmap\n",
    "\n",
    "cm_matrix = pd.DataFrame(data=cm, columns=['Actual Positive:1', 'Actual Negative:0'], \n",
    "                                 index=['Predict Positive:1', 'Predict Negative:0'])\n",
    "\n",
    "sns.heatmap(cm_matrix, annot=True, fmt='d', cmap='YlGnBu')"
   ]
  },
  {
   "cell_type": "code",
   "execution_count": 87,
   "id": "21a9b77f",
   "metadata": {},
   "outputs": [
    {
     "name": "stdout",
     "output_type": "stream",
     "text": [
      "              precision    recall  f1-score   support\n",
      "\n",
      "           0       0.62      1.00      0.76      4675\n",
      "           1       0.50      0.00      0.01      2870\n",
      "\n",
      "    accuracy                           0.62      7545\n",
      "   macro avg       0.56      0.50      0.39      7545\n",
      "weighted avg       0.57      0.62      0.48      7545\n",
      "\n"
     ]
    }
   ],
   "source": [
    "print(classification_report(y_train,y_pred_log_train))"
   ]
  },
  {
   "cell_type": "code",
   "execution_count": 88,
   "id": "04807df2",
   "metadata": {},
   "outputs": [
    {
     "name": "stdout",
     "output_type": "stream",
     "text": [
      "              precision    recall  f1-score   support\n",
      "\n",
      "           0       0.65      1.00      0.79      1631\n",
      "           1       0.33      0.00      0.00       885\n",
      "\n",
      "    accuracy                           0.65      2516\n",
      "   macro avg       0.49      0.50      0.40      2516\n",
      "weighted avg       0.54      0.65      0.51      2516\n",
      "\n"
     ]
    }
   ],
   "source": [
    "print(classification_report(y_test,y_pred_log_test))"
   ]
  },
  {
   "cell_type": "code",
   "execution_count": 89,
   "id": "91d3a83a",
   "metadata": {},
   "outputs": [],
   "source": [
    "#Classification Accuracy\n",
    "TP = cm[0,0]\n",
    "TN = cm[1,1]\n",
    "FP = cm[0,1]\n",
    "FN = cm[1,0]"
   ]
  },
  {
   "cell_type": "code",
   "execution_count": 90,
   "id": "62582881",
   "metadata": {},
   "outputs": [
    {
     "name": "stdout",
     "output_type": "stream",
     "text": [
      "Classification accuracy : 0.6475\n"
     ]
    }
   ],
   "source": [
    "# print classification accuracy\n",
    "\n",
    "classification_accuracy = (TP + TN) / float(TP + TN + FP + FN)\n",
    "\n",
    "print('Classification accuracy : {0:0.4f}'.format(classification_accuracy))"
   ]
  },
  {
   "cell_type": "code",
   "execution_count": 91,
   "id": "147211f2",
   "metadata": {},
   "outputs": [
    {
     "name": "stdout",
     "output_type": "stream",
     "text": [
      "Classification error : 0.3525\n"
     ]
    }
   ],
   "source": [
    "# Classification error\n",
    "\n",
    "classification_error = (FP + FN) / float(TP + TN + FP + FN)\n",
    "\n",
    "print('Classification error : {0:0.4f}'.format(classification_error))"
   ]
  },
  {
   "cell_type": "code",
   "execution_count": 92,
   "id": "bab8f329",
   "metadata": {},
   "outputs": [
    {
     "name": "stdout",
     "output_type": "stream",
     "text": [
      "Precision : 0.9975\n"
     ]
    }
   ],
   "source": [
    "# print precision score\n",
    "\n",
    "precision = TP / float(TP + FP)\n",
    "\n",
    "\n",
    "print('Precision : {0:0.4f}'.format(precision))"
   ]
  },
  {
   "cell_type": "code",
   "execution_count": 93,
   "id": "9fd6811b",
   "metadata": {},
   "outputs": [
    {
     "name": "stdout",
     "output_type": "stream",
     "text": [
      "Recall or Sensitivity : 0.6482\n"
     ]
    }
   ],
   "source": [
    "recall = TP / float(TP + FN)\n",
    "\n",
    "print('Recall or Sensitivity : {0:0.4f}'.format(recall))"
   ]
  },
  {
   "cell_type": "code",
   "execution_count": 94,
   "id": "e3a0fd11",
   "metadata": {},
   "outputs": [
    {
     "name": "stdout",
     "output_type": "stream",
     "text": [
      "True Positive Rate : 0.6482\n"
     ]
    }
   ],
   "source": [
    "true_positive_rate = TP / float(TP + FN)\n",
    "\n",
    "\n",
    "print('True Positive Rate : {0:0.4f}'.format(true_positive_rate))"
   ]
  },
  {
   "cell_type": "code",
   "execution_count": 95,
   "id": "7cd49184",
   "metadata": {},
   "outputs": [
    {
     "name": "stdout",
     "output_type": "stream",
     "text": [
      "False Positive Rate : 0.6667\n"
     ]
    }
   ],
   "source": [
    "false_positive_rate = FP / float(FP + TN)\n",
    "\n",
    "\n",
    "print('False Positive Rate : {0:0.4f}'.format(false_positive_rate))"
   ]
  },
  {
   "cell_type": "code",
   "execution_count": 96,
   "id": "5c68ff26",
   "metadata": {},
   "outputs": [
    {
     "data": {
      "image/png": "[encoded data removed]",
      "text/plain": [
       "<Figure size 432x288 with 1 Axes>"
      ]
     },
     "metadata": {
      "needs_background": "light"
     },
     "output_type": "display_data"
    }
   ],
   "source": [
    "#Generate AUC-ROC curve\n",
    "from sklearn.metrics import roc_auc_score\n",
    "from sklearn.metrics import roc_curve\n",
    "logit_roc_auc = roc_auc_score(y_test, logit.predict(x_test))\n",
    "fpr, tpr, thresholds = roc_curve(y_test, logit.predict_proba(x_test)[:,1])\n",
    "plt.figure()\n",
    "plt.plot(fpr, tpr, label='Logistic Regression (area = %0.2f)' % logit_roc_auc)\n",
    "plt.plot([0, 1], [0, 1],'r--')\n",
    "plt.xlim([0.0, 1.0])\n",
    "plt.ylim([0.0, 1.05])\n",
    "plt.xlabel('False Positive Rate')\n",
    "plt.ylabel('True Positive Rate')\n",
    "plt.title('Receiver Operating Characteristic')\n",
    "plt.legend(loc=\"lower right\")\n",
    "plt.savefig('Log_ROC')\n",
    "plt.show()"
   ]
  },
  {
   "cell_type": "code",
   "execution_count": 97,
   "id": "22209e62",
   "metadata": {},
   "outputs": [
    {
     "name": "stdout",
     "output_type": "stream",
     "text": [
      "ROC AUC : 0.4999\n"
     ]
    }
   ],
   "source": [
    "# compute ROC AUC\n",
    "\n",
    "from sklearn.metrics import roc_auc_score\n",
    "\n",
    "ROC_AUC = roc_auc_score(y_test, y_pred_log_test)\n",
    "print('ROC AUC : {:.4f}'.format(ROC_AUC))"
   ]
  },
  {
   "cell_type": "code",
   "execution_count": 98,
   "id": "ee9f7229",
   "metadata": {},
   "outputs": [],
   "source": [
    "#Cross Validation for Logistic Regression"
   ]
  },
  {
   "cell_type": "code",
   "execution_count": 99,
   "id": "14393d68",
   "metadata": {},
   "outputs": [],
   "source": [
    "from sklearn.model_selection import cross_val_score\n",
    "accuracy_train = cross_val_score(logit,x_train,y_train, cv = 15)\n",
    "accuracy_test = cross_val_score(logit,x_test,y_test,cv = 15)"
   ]
  },
  {
   "cell_type": "code",
   "execution_count": 100,
   "id": "6e8aaf43",
   "metadata": {},
   "outputs": [
    {
     "name": "stdout",
     "output_type": "stream",
     "text": [
      "[0.62027833 0.62027833 0.61829026 0.6222664  0.61829026 0.62027833\n",
      " 0.61630219 0.62027833 0.62027833 0.62425447 0.62027833 0.61829026\n",
      " 0.62027833 0.61829026 0.61431412]\n"
     ]
    }
   ],
   "source": [
    "#Training Data\n",
    "print(accuracy_train)"
   ]
  },
  {
   "cell_type": "code",
   "execution_count": 101,
   "id": "c2f7636a",
   "metadata": {},
   "outputs": [
    {
     "name": "stdout",
     "output_type": "stream",
     "text": [
      "Average cross-validation score: 0.6195\n"
     ]
    }
   ],
   "source": [
    "print('Average cross-validation score: {:.4f}'.format(accuracy_train.mean()))"
   ]
  },
  {
   "cell_type": "code",
   "execution_count": null,
   "id": "eae9e7bb",
   "metadata": {},
   "outputs": [],
   "source": []
  },
  {
   "cell_type": "code",
   "execution_count": 102,
   "id": "377f440b",
   "metadata": {},
   "outputs": [],
   "source": [
    "#RANDOM FOREST MODEL"
   ]
  },
  {
   "cell_type": "code",
   "execution_count": 103,
   "id": "a628bdeb",
   "metadata": {},
   "outputs": [
    {
     "data": {
      "text/plain": [
       "RandomForestClassifier()"
      ]
     },
     "execution_count": 103,
     "metadata": {},
     "output_type": "execute_result"
    }
   ],
   "source": [
    "from sklearn.ensemble import RandomForestClassifier\n",
    "rf = RandomForestClassifier()\n",
    "rf.fit(x_train,y_train)"
   ]
  },
  {
   "cell_type": "code",
   "execution_count": 104,
   "id": "0db18a28",
   "metadata": {},
   "outputs": [],
   "source": [
    "y_pred_rf_train = rf.predict(x_train)\n",
    "y_pred_rf_test = rf.predict(x_test)"
   ]
  },
  {
   "cell_type": "code",
   "execution_count": 105,
   "id": "3492579c",
   "metadata": {},
   "outputs": [],
   "source": [
    "from sklearn.metrics import confusion_matrix, classification_report, accuracy_score"
   ]
  },
  {
   "cell_type": "code",
   "execution_count": 106,
   "id": "be1dbd4e",
   "metadata": {},
   "outputs": [
    {
     "name": "stdout",
     "output_type": "stream",
     "text": [
      "Training-set accuracy score: 0.9966\n"
     ]
    }
   ],
   "source": [
    "print('Training-set accuracy score: {0:0.4f}'. format(accuracy_score(y_train, y_pred_rf_train)))"
   ]
  },
  {
   "cell_type": "code",
   "execution_count": 107,
   "id": "27d67ab7",
   "metadata": {},
   "outputs": [
    {
     "name": "stdout",
     "output_type": "stream",
     "text": [
      "Training-set accuracy score: 0.8287\n"
     ]
    }
   ],
   "source": [
    "print('Training-set accuracy score: {0:0.4f}'. format(accuracy_score(y_test, y_pred_rf_test)))"
   ]
  },
  {
   "cell_type": "code",
   "execution_count": 108,
   "id": "fffaeafb",
   "metadata": {},
   "outputs": [
    {
     "data": {
      "text/plain": [
       "0    1631\n",
       "1     885\n",
       "Name: Deal Status Code, dtype: int64"
      ]
     },
     "execution_count": 108,
     "metadata": {},
     "output_type": "execute_result"
    }
   ],
   "source": [
    "# check class distribution in test set\n",
    "\n",
    "y_test.value_counts()"
   ]
  },
  {
   "cell_type": "code",
   "execution_count": 109,
   "id": "081efc80",
   "metadata": {},
   "outputs": [
    {
     "name": "stdout",
     "output_type": "stream",
     "text": [
      "Confusion matrix\n",
      "\n",
      " [[1540   91]\n",
      " [ 340  545]]\n",
      "\n",
      "True Positives(TP) =  1540\n",
      "\n",
      "True Negatives(TN) =  545\n",
      "\n",
      "False Positives(FP) =  91\n"
     ]
    }
   ],
   "source": [
    "cm = confusion_matrix(y_test, y_pred_rf_test)\n",
    "\n",
    "print('Confusion matrix\\n\\n', cm)\n",
    "\n",
    "print('\\nTrue Positives(TP) = ', cm[0,0])\n",
    "\n",
    "print('\\nTrue Negatives(TN) = ', cm[1,1])\n",
    "\n",
    "print('\\nFalse Positives(FP) = ', cm[0,1])"
   ]
  },
  {
   "cell_type": "code",
   "execution_count": 110,
   "id": "a494e0b0",
   "metadata": {},
   "outputs": [
    {
     "data": {
      "text/plain": [
       "<AxesSubplot:>"
      ]
     },
     "execution_count": 110,
     "metadata": {},
     "output_type": "execute_result"
    },
    {
     "data": {
      "image/png": "[encoded data removed]",
      "text/plain": [
       "<Figure size 432x288 with 2 Axes>"
      ]
     },
     "metadata": {
      "needs_background": "light"
     },
     "output_type": "display_data"
    }
   ],
   "source": [
    "# visualize confusion matrix with seaborn heatmap\n",
    "\n",
    "cm_matrix = pd.DataFrame(data=cm, columns=['Actual Positive:1', 'Actual Negative:0'], \n",
    "                                 index=['Predict Positive:1', 'Predict Negative:0'])\n",
    "\n",
    "sns.heatmap(cm_matrix, annot=True, fmt='d', cmap='YlGnBu')"
   ]
  },
  {
   "cell_type": "code",
   "execution_count": 111,
   "id": "e92a79a6",
   "metadata": {},
   "outputs": [
    {
     "name": "stdout",
     "output_type": "stream",
     "text": [
      "              precision    recall  f1-score   support\n",
      "\n",
      "           0       0.82      0.94      0.88      1631\n",
      "           1       0.86      0.62      0.72       885\n",
      "\n",
      "    accuracy                           0.83      2516\n",
      "   macro avg       0.84      0.78      0.80      2516\n",
      "weighted avg       0.83      0.83      0.82      2516\n",
      "\n"
     ]
    }
   ],
   "source": [
    "from sklearn.metrics import classification_report\n",
    "\n",
    "print(classification_report(y_test, y_pred_rf_test))"
   ]
  },
  {
   "cell_type": "code",
   "execution_count": 112,
   "id": "3f3c6a6d",
   "metadata": {},
   "outputs": [],
   "source": [
    "#Classification Accuracy\n",
    "TP = cm[0,0]\n",
    "TN = cm[1,1]\n",
    "FP = cm[0,1]\n",
    "FN = cm[1,0]"
   ]
  },
  {
   "cell_type": "code",
   "execution_count": 113,
   "id": "27ffb2f8",
   "metadata": {},
   "outputs": [
    {
     "name": "stdout",
     "output_type": "stream",
     "text": [
      "Classification accuracy : 0.8287\n"
     ]
    }
   ],
   "source": [
    "# print classification accuracy\n",
    "\n",
    "classification_accuracy = (TP + TN) / float(TP + TN + FP + FN)\n",
    "\n",
    "print('Classification accuracy : {0:0.4f}'.format(classification_accuracy))"
   ]
  },
  {
   "cell_type": "code",
   "execution_count": 114,
   "id": "af42531c",
   "metadata": {},
   "outputs": [
    {
     "name": "stdout",
     "output_type": "stream",
     "text": [
      "Classification error : 0.1713\n"
     ]
    }
   ],
   "source": [
    "# Classification error\n",
    "\n",
    "classification_error = (FP + FN) / float(TP + TN + FP + FN)\n",
    "\n",
    "print('Classification error : {0:0.4f}'.format(classification_error))"
   ]
  },
  {
   "cell_type": "code",
   "execution_count": 115,
   "id": "ecc7696d",
   "metadata": {},
   "outputs": [
    {
     "name": "stdout",
     "output_type": "stream",
     "text": [
      "Precision : 0.9442\n"
     ]
    }
   ],
   "source": [
    "# print precision score\n",
    "\n",
    "precision = TP / float(TP + FP)\n",
    "\n",
    "\n",
    "print('Precision : {0:0.4f}'.format(precision))"
   ]
  },
  {
   "cell_type": "code",
   "execution_count": 116,
   "id": "94a148e9",
   "metadata": {},
   "outputs": [
    {
     "name": "stdout",
     "output_type": "stream",
     "text": [
      "Recall or Sensitivity : 0.8191\n"
     ]
    }
   ],
   "source": [
    "recall = TP / float(TP + FN)\n",
    "\n",
    "print('Recall or Sensitivity : {0:0.4f}'.format(recall))"
   ]
  },
  {
   "cell_type": "code",
   "execution_count": 117,
   "id": "502000c7",
   "metadata": {},
   "outputs": [
    {
     "name": "stdout",
     "output_type": "stream",
     "text": [
      "Specificity : 0.8569\n"
     ]
    }
   ],
   "source": [
    "specificity = TN / (TN + FP)\n",
    "\n",
    "print('Specificity : {0:0.4f}'.format(specificity))"
   ]
  },
  {
   "cell_type": "code",
   "execution_count": 118,
   "id": "75429350",
   "metadata": {},
   "outputs": [
    {
     "data": {
      "image/png": "[encoded data removed]",
      "text/plain": [
       "<Figure size 432x288 with 1 Axes>"
      ]
     },
     "metadata": {
      "needs_background": "light"
     },
     "output_type": "display_data"
    }
   ],
   "source": [
    "#Generating ROC AND AUC Score\n",
    "#Generate AUC-ROC curve\n",
    "from sklearn.metrics import roc_auc_score\n",
    "from sklearn.metrics import roc_curve\n",
    "rf_roc_auc = roc_auc_score(y_test, rf.predict(x_test))\n",
    "fpr, tpr, thresholds = roc_curve(y_test, rf.predict_proba(x_test)[:,1])\n",
    "plt.figure()\n",
    "plt.plot(fpr, tpr, label='Random Forest (area = %0.2f)' % logit_roc_auc)\n",
    "plt.plot([0, 1], [0, 1],'r--')\n",
    "plt.xlim([0.0, 1.0])\n",
    "plt.ylim([0.0, 1.05])\n",
    "plt.xlabel('False Positive Rate')\n",
    "plt.ylabel('True Positive Rate')\n",
    "plt.title('Receiver Operating Characteristic')\n",
    "plt.legend(loc=\"lower right\")\n",
    "plt.savefig('rf_ROC')\n",
    "plt.show()"
   ]
  },
  {
   "cell_type": "code",
   "execution_count": 119,
   "id": "d6040a70",
   "metadata": {},
   "outputs": [
    {
     "name": "stdout",
     "output_type": "stream",
     "text": [
      "ROC AUC : 0.7800\n"
     ]
    }
   ],
   "source": [
    "# compute ROC AUC\n",
    "\n",
    "from sklearn.metrics import roc_auc_score\n",
    "\n",
    "ROC_AUC = roc_auc_score(y_test, y_pred_rf_test)\n",
    "print('ROC AUC : {:.4f}'.format(ROC_AUC))"
   ]
  },
  {
   "cell_type": "code",
   "execution_count": 120,
   "id": "bd9a21e0",
   "metadata": {},
   "outputs": [
    {
     "name": "stdout",
     "output_type": "stream",
     "text": [
      "[0.66666667 0.65079365 0.72222222 0.71428571 0.69047619 0.73015873\n",
      " 0.72222222 0.66666667 0.76984127 0.73809524 0.79365079 0.73015873\n",
      " 0.77777778 0.70634921 0.68253968 0.74603175 0.728      0.744\n",
      " 0.76       0.808     ]\n"
     ]
    }
   ],
   "source": [
    "#Cross Validation Method\n",
    "from sklearn.model_selection import cross_val_score\n",
    "\n",
    "accuracy_test_rf = cross_val_score(rf,x_test,y_test,cv = 20)\n",
    "\n",
    "print(accuracy_test_rf)"
   ]
  },
  {
   "cell_type": "code",
   "execution_count": 121,
   "id": "7061ac65",
   "metadata": {},
   "outputs": [
    {
     "name": "stdout",
     "output_type": "stream",
     "text": [
      "Average cross-validation score: 0.7274\n"
     ]
    }
   ],
   "source": [
    "print('Average cross-validation score: {:.4f}'.format(accuracy_test_rf.mean()))"
   ]
  },
  {
   "cell_type": "code",
   "execution_count": null,
   "id": "85744304",
   "metadata": {},
   "outputs": [],
   "source": []
  },
  {
   "cell_type": "code",
   "execution_count": 122,
   "id": "13604e91",
   "metadata": {},
   "outputs": [],
   "source": [
    "#Navies Bayes Model"
   ]
  },
  {
   "cell_type": "code",
   "execution_count": 123,
   "id": "611f327a",
   "metadata": {},
   "outputs": [
    {
     "data": {
      "text/plain": [
       "GaussianNB()"
      ]
     },
     "execution_count": 123,
     "metadata": {},
     "output_type": "execute_result"
    }
   ],
   "source": [
    "from sklearn.naive_bayes import GaussianNB\n",
    "\n",
    "\n",
    "# instantiate the model\n",
    "gnb = GaussianNB()\n",
    "\n",
    "\n",
    "# fit the model\n",
    "gnb.fit(x_train, y_train)"
   ]
  },
  {
   "cell_type": "code",
   "execution_count": 124,
   "id": "62778210",
   "metadata": {},
   "outputs": [
    {
     "data": {
      "text/plain": [
       "array([0, 0, 0, ..., 0, 0, 0], dtype=int8)"
      ]
     },
     "execution_count": 124,
     "metadata": {},
     "output_type": "execute_result"
    }
   ],
   "source": [
    "#Predicting the results\n",
    "y_pred_test_gnb = gnb.predict(x_test)\n",
    "\n",
    "y_pred_test_gnb"
   ]
  },
  {
   "cell_type": "code",
   "execution_count": 125,
   "id": "bb024e60",
   "metadata": {},
   "outputs": [
    {
     "name": "stdout",
     "output_type": "stream",
     "text": [
      "Test Model accuracy score: 0.6494\n"
     ]
    }
   ],
   "source": [
    "from sklearn.metrics import accuracy_score\n",
    "\n",
    "print('Test Model accuracy score: {0:0.4f}'. format(accuracy_score(y_test, y_pred_test_gnb)))"
   ]
  },
  {
   "cell_type": "code",
   "execution_count": 126,
   "id": "c2303e0b",
   "metadata": {},
   "outputs": [
    {
     "data": {
      "text/plain": [
       "array([0, 0, 0, ..., 0, 0, 0], dtype=int8)"
      ]
     },
     "execution_count": 126,
     "metadata": {},
     "output_type": "execute_result"
    }
   ],
   "source": [
    "y_pred_train_gnb = gnb.predict(x_train)\n",
    "\n",
    "y_pred_train_gnb"
   ]
  },
  {
   "cell_type": "code",
   "execution_count": 127,
   "id": "ed9141dd",
   "metadata": {},
   "outputs": [
    {
     "name": "stdout",
     "output_type": "stream",
     "text": [
      "Training-set accuracy score: 0.6186\n"
     ]
    }
   ],
   "source": [
    "print('Training-set accuracy score: {0:0.4f}'. format(accuracy_score(y_train, y_pred_train_gnb)))"
   ]
  },
  {
   "cell_type": "code",
   "execution_count": 128,
   "id": "4940e297",
   "metadata": {},
   "outputs": [
    {
     "name": "stdout",
     "output_type": "stream",
     "text": [
      "Training set accuracy score: 0.6186\n",
      "Test set accuracy score: 0.6494\n"
     ]
    }
   ],
   "source": [
    "# print the scores on training and test set\n",
    "# Checking for Overfitting & Underfitting\n",
    "\n",
    "print('Training set accuracy score: {:.4f}'.format(gnb.score(x_train, y_train)))\n",
    "\n",
    "print('Test set accuracy score: {:.4f}'.format(gnb.score(x_test, y_test)))"
   ]
  },
  {
   "cell_type": "code",
   "execution_count": 129,
   "id": "f3193023",
   "metadata": {},
   "outputs": [
    {
     "name": "stdout",
     "output_type": "stream",
     "text": [
      "0.6482511923688394\n"
     ]
    }
   ],
   "source": [
    "#We can see that the occurences of most frequent class is 1631. \n",
    "#So, we can calculate null accuracy by dividing 885 by total number of occurences.\n",
    "null_accuracy = (1631/(1631+885))\n",
    "\n",
    "print(null_accuracy)"
   ]
  },
  {
   "cell_type": "code",
   "execution_count": 130,
   "id": "d361b703",
   "metadata": {},
   "outputs": [],
   "source": [
    "#We can see that our model accuracy score is 0.6494 but null accuracy score is 0.6482.\n",
    "#So, we can conclude that our Gaussian Naive Bayes Classification model is doing a very good job in predicting the \n",
    "#class labels."
   ]
  },
  {
   "cell_type": "code",
   "execution_count": 131,
   "id": "a5b2b391",
   "metadata": {},
   "outputs": [
    {
     "name": "stdout",
     "output_type": "stream",
     "text": [
      "Confusion matrix\n",
      "\n",
      " [[1603   28]\n",
      " [ 854   31]]\n",
      "\n",
      "True Positives(TP) =  1603\n",
      "\n",
      "True Negatives(TN) =  31\n",
      "\n",
      "False Positives(FP) =  28\n"
     ]
    }
   ],
   "source": [
    "from sklearn.metrics import confusion_matrix\n",
    "\n",
    "cm = confusion_matrix(y_test, y_pred_test_gnb)\n",
    "\n",
    "print('Confusion matrix\\n\\n', cm)\n",
    "\n",
    "print('\\nTrue Positives(TP) = ', cm[0,0])\n",
    "\n",
    "print('\\nTrue Negatives(TN) = ', cm[1,1])\n",
    "\n",
    "print('\\nFalse Positives(FP) = ', cm[0,1])"
   ]
  },
  {
   "cell_type": "code",
   "execution_count": 132,
   "id": "4388552f",
   "metadata": {},
   "outputs": [
    {
     "data": {
      "text/plain": [
       "<AxesSubplot:>"
      ]
     },
     "execution_count": 132,
     "metadata": {},
     "output_type": "execute_result"
    },
    {
     "data": {
      "image/png": "[encoded data removed]",
      "text/plain": [
       "<Figure size 432x288 with 2 Axes>"
      ]
     },
     "metadata": {
      "needs_background": "light"
     },
     "output_type": "display_data"
    }
   ],
   "source": [
    "# visualize confusion matrix with seaborn heatmap\n",
    "\n",
    "cm_matrix = pd.DataFrame(data=cm, columns=['Actual Positive:1', 'Actual Negative:0'], \n",
    "                                 index=['Predict Positive:1', 'Predict Negative:0'])\n",
    "\n",
    "sns.heatmap(cm_matrix, annot=True, fmt='d', cmap='YlGnBu')"
   ]
  },
  {
   "cell_type": "code",
   "execution_count": 133,
   "id": "7adfde8e",
   "metadata": {},
   "outputs": [
    {
     "name": "stdout",
     "output_type": "stream",
     "text": [
      "              precision    recall  f1-score   support\n",
      "\n",
      "           0       0.65      0.98      0.78      1631\n",
      "           1       0.53      0.04      0.07       885\n",
      "\n",
      "    accuracy                           0.65      2516\n",
      "   macro avg       0.59      0.51      0.42      2516\n",
      "weighted avg       0.61      0.65      0.53      2516\n",
      "\n"
     ]
    }
   ],
   "source": [
    "from sklearn.metrics import classification_report\n",
    "\n",
    "print(classification_report(y_test, y_pred_test_gnb))"
   ]
  },
  {
   "cell_type": "code",
   "execution_count": 134,
   "id": "ba1a4e59",
   "metadata": {},
   "outputs": [],
   "source": [
    "#Classification Accuracy\n",
    "TP = cm[0,0]\n",
    "TN = cm[1,1]\n",
    "FP = cm[0,1]\n",
    "FN = cm[1,0]"
   ]
  },
  {
   "cell_type": "code",
   "execution_count": 135,
   "id": "bf9bed2a",
   "metadata": {},
   "outputs": [
    {
     "name": "stdout",
     "output_type": "stream",
     "text": [
      "Classification accuracy : 0.6494\n"
     ]
    }
   ],
   "source": [
    "# print classification accuracy\n",
    "\n",
    "classification_accuracy = (TP + TN) / float(TP + TN + FP + FN)\n",
    "\n",
    "print('Classification accuracy : {0:0.4f}'.format(classification_accuracy))"
   ]
  },
  {
   "cell_type": "code",
   "execution_count": 136,
   "id": "c87c5661",
   "metadata": {},
   "outputs": [
    {
     "name": "stdout",
     "output_type": "stream",
     "text": [
      "Classification error : 0.3506\n"
     ]
    }
   ],
   "source": [
    "# Classification error\n",
    "\n",
    "classification_error = (FP + FN) / float(TP + TN + FP + FN)\n",
    "\n",
    "print('Classification error : {0:0.4f}'.format(classification_error))"
   ]
  },
  {
   "cell_type": "code",
   "execution_count": 137,
   "id": "1c401f2b",
   "metadata": {},
   "outputs": [
    {
     "name": "stdout",
     "output_type": "stream",
     "text": [
      "Precision : 0.9828\n"
     ]
    }
   ],
   "source": [
    "# print precision score\n",
    "\n",
    "precision = TP / float(TP + FP)\n",
    "\n",
    "\n",
    "print('Precision : {0:0.4f}'.format(precision))"
   ]
  },
  {
   "cell_type": "code",
   "execution_count": 138,
   "id": "2b486880",
   "metadata": {},
   "outputs": [
    {
     "name": "stdout",
     "output_type": "stream",
     "text": [
      "Recall or Sensitivity : 0.6524\n"
     ]
    }
   ],
   "source": [
    "recall = TP / float(TP + FN)\n",
    "\n",
    "print('Recall or Sensitivity : {0:0.4f}'.format(recall))"
   ]
  },
  {
   "cell_type": "code",
   "execution_count": 139,
   "id": "9f4cddf8",
   "metadata": {},
   "outputs": [
    {
     "name": "stdout",
     "output_type": "stream",
     "text": [
      "Specificity : 0.5254\n"
     ]
    }
   ],
   "source": [
    "specificity = TN / (TN + FP)\n",
    "\n",
    "print('Specificity : {0:0.4f}'.format(specificity))"
   ]
  },
  {
   "cell_type": "code",
   "execution_count": 140,
   "id": "14c08c74",
   "metadata": {},
   "outputs": [
    {
     "data": {
      "image/png": "[encoded data removed]",
      "text/plain": [
       "<Figure size 432x288 with 1 Axes>"
      ]
     },
     "metadata": {
      "needs_background": "light"
     },
     "output_type": "display_data"
    }
   ],
   "source": [
    "#Generating ROC AND AUC Score\n",
    "#Generate AUC-ROC curve\n",
    "from sklearn.metrics import roc_auc_score\n",
    "from sklearn.metrics import roc_curve\n",
    "gnb_roc_auc = roc_auc_score(y_test, gnb.predict(x_test))\n",
    "fpr, tpr, thresholds = roc_curve(y_test, gnb.predict_proba(x_test)[:,1])\n",
    "plt.figure()\n",
    "plt.plot(fpr, tpr, label='Navies Bayes (area = %0.2f)' % gnb_roc_auc)\n",
    "plt.plot([0, 1], [0, 1],'r--')\n",
    "plt.xlim([0.0, 1.0])\n",
    "plt.ylim([0.0, 1.05])\n",
    "plt.xlabel('False Positive Rate')\n",
    "plt.ylabel('True Positive Rate')\n",
    "plt.title('Receiver Operating Characteristic')\n",
    "plt.legend(loc=\"lower right\")\n",
    "plt.savefig('gnb_ROC')\n",
    "plt.show()"
   ]
  },
  {
   "cell_type": "code",
   "execution_count": 141,
   "id": "63d7f000",
   "metadata": {},
   "outputs": [
    {
     "name": "stdout",
     "output_type": "stream",
     "text": [
      "ROC AUC : 0.5089\n"
     ]
    }
   ],
   "source": [
    "# compute ROC AUC\n",
    "\n",
    "from sklearn.metrics import roc_auc_score\n",
    "\n",
    "ROC_AUC = roc_auc_score(y_test, y_pred_test_gnb)\n",
    "print('ROC AUC : {:.4f}'.format(ROC_AUC))"
   ]
  },
  {
   "cell_type": "code",
   "execution_count": 142,
   "id": "d4cbd347",
   "metadata": {},
   "outputs": [],
   "source": [
    "#K Fold Cross Validation"
   ]
  },
  {
   "cell_type": "code",
   "execution_count": 143,
   "id": "5aa42a52",
   "metadata": {},
   "outputs": [
    {
     "name": "stdout",
     "output_type": "stream",
     "text": [
      "Cross-validation scores:[0.61986755 0.61324503 0.62119205 0.61589404 0.61986755 0.62068966\n",
      " 0.61538462 0.62334218 0.61671088 0.6193634 ]\n"
     ]
    }
   ],
   "source": [
    "from sklearn.model_selection import cross_val_score\n",
    "\n",
    "scores = cross_val_score(gnb, x_train, y_train, cv = 10, scoring='accuracy')\n",
    "\n",
    "print('Cross-validation scores:{}'.format(scores))"
   ]
  },
  {
   "cell_type": "code",
   "execution_count": 144,
   "id": "4c0acc99",
   "metadata": {},
   "outputs": [
    {
     "name": "stdout",
     "output_type": "stream",
     "text": [
      "Average cross-validation score: 0.6186\n"
     ]
    }
   ],
   "source": [
    "print('Average cross-validation score: {:.4f}'.format(scores.mean()))"
   ]
  },
  {
   "cell_type": "code",
   "execution_count": null,
   "id": "21ae3df6",
   "metadata": {},
   "outputs": [],
   "source": []
  },
  {
   "cell_type": "code",
   "execution_count": 145,
   "id": "db4f7408",
   "metadata": {},
   "outputs": [],
   "source": [
    "#K Nearest Neighbour"
   ]
  },
  {
   "cell_type": "code",
   "execution_count": 146,
   "id": "55a520db",
   "metadata": {},
   "outputs": [],
   "source": [
    "from sklearn.neighbors import KNeighborsClassifier\n",
    "from sklearn.pipeline import make_pipeline\n",
    "from sklearn.model_selection import GridSearchCV"
   ]
  },
  {
   "cell_type": "code",
   "execution_count": 147,
   "id": "1fd9f06f",
   "metadata": {},
   "outputs": [
    {
     "data": {
      "text/plain": [
       "KNeighborsClassifier()"
      ]
     },
     "execution_count": 147,
     "metadata": {},
     "output_type": "execute_result"
    }
   ],
   "source": [
    "# Fit the model\n",
    "knn = KNeighborsClassifier(n_neighbors=5, p=2, weights='uniform', algorithm='auto')\n",
    "knn.fit(x_train, y_train)"
   ]
  },
  {
   "cell_type": "code",
   "execution_count": 148,
   "id": "14edaf1d",
   "metadata": {},
   "outputs": [
    {
     "name": "stdout",
     "output_type": "stream",
     "text": [
      "Training accuracy score: 0.782\n",
      "Test accuracy score: 0.676\n"
     ]
    }
   ],
   "source": [
    "print('Training accuracy score: %.3f' % knn.score(x_train, y_train))\n",
    "print('Test accuracy score: %.3f' % knn.score(x_test, y_test))"
   ]
  },
  {
   "cell_type": "code",
   "execution_count": 149,
   "id": "6d2e90d4",
   "metadata": {},
   "outputs": [],
   "source": [
    "# Create the parameter grid\n",
    "#\n",
    "param_grid = [{\n",
    "    'kneighborsclassifier__n_neighbors': [2, 3, 4, 5, 6, 7, 8, 9, 10],\n",
    "    'kneighborsclassifier__p': [1, 2],\n",
    "    'kneighborsclassifier__weights': ['uniform', 'distance'],\n",
    "    'kneighborsclassifier__algorithm': ['auto', 'ball_tree', 'kd_tree', 'brute'],\n",
    "}]\n",
    "#"
   ]
  },
  {
   "cell_type": "code",
   "execution_count": 150,
   "id": "33cf5b92",
   "metadata": {},
   "outputs": [],
   "source": [
    "from sklearn.preprocessing import StandardScaler\n",
    "from sklearn.pipeline import make_pipeline"
   ]
  },
  {
   "cell_type": "code",
   "execution_count": 151,
   "id": "7a04cb91",
   "metadata": {},
   "outputs": [],
   "source": [
    "# Create a pipeline\n",
    "#\n",
    "pipeline = make_pipeline(StandardScaler(), KNeighborsClassifier())"
   ]
  },
  {
   "cell_type": "code",
   "execution_count": 152,
   "id": "e35d8cde",
   "metadata": {},
   "outputs": [],
   "source": [
    "# Create a grid search instance\n",
    "#\n",
    "gs = GridSearchCV(pipeline, param_grid = param_grid,\n",
    "                  scoring='accuracy',\n",
    "                  refit=True,\n",
    "                  cv=10,\n",
    "                  verbose=1,\n",
    "                  n_jobs=2)"
   ]
  },
  {
   "cell_type": "code",
   "execution_count": 153,
   "id": "a6968637",
   "metadata": {},
   "outputs": [
    {
     "name": "stdout",
     "output_type": "stream",
     "text": [
      "Fitting 10 folds for each of 144 candidates, totalling 1440 fits\n",
      "Best Score: 0.774 \n",
      "Best Parameters:  {'kneighborsclassifier__algorithm': 'auto', 'kneighborsclassifier__n_neighbors': 2, 'kneighborsclassifier__p': 1, 'kneighborsclassifier__weights': 'distance'}\n",
      "Score: 0.816\n"
     ]
    }
   ],
   "source": [
    "# Fit the most optimal model\n",
    "#\n",
    "gs.fit(x_train, y_train)\n",
    "#\n",
    "# Print the best model parameters and scores\n",
    "#\n",
    "print('Best Score: %.3f' % gs.best_score_, '\\nBest Parameters: ', gs.best_params_)\n",
    "#\n",
    "# Print the model score for test data\n",
    "#\n",
    "print('Score: %.3f' % gs.score(x_test, y_test))"
   ]
  },
  {
   "cell_type": "code",
   "execution_count": 170,
   "id": "9963365e",
   "metadata": {},
   "outputs": [],
   "source": [
    "from sklearn.metrics import confusion_matrix, classification_report, accuracy_score"
   ]
  },
  {
   "cell_type": "code",
   "execution_count": 155,
   "id": "9b23bd09",
   "metadata": {},
   "outputs": [
    {
     "data": {
      "text/plain": [
       "array([0, 1, 0, ..., 0, 0, 1], dtype=int8)"
      ]
     },
     "execution_count": 155,
     "metadata": {},
     "output_type": "execute_result"
    }
   ],
   "source": [
    "y_knn_test = knn.predict(x_test)\n",
    "\n",
    "y_knn_test"
   ]
  },
  {
   "cell_type": "code",
   "execution_count": 156,
   "id": "0ae26ddd",
   "metadata": {},
   "outputs": [
    {
     "name": "stdout",
     "output_type": "stream",
     "text": [
      " Test Confusion matrix\n",
      "\n",
      " [[1258  373]\n",
      " [ 443  442]]\n",
      "\n",
      "True Positives(TP) =  1258\n",
      "\n",
      "True Negatives(TN) =  442\n",
      "\n",
      "False Positives(FP) =  373\n"
     ]
    }
   ],
   "source": [
    "cm = confusion_matrix(y_test, y_knn_test)\n",
    "\n",
    "print(' Test Confusion matrix\\n\\n', cm)\n",
    "\n",
    "print('\\nTrue Positives(TP) = ', cm[0,0])\n",
    "\n",
    "print('\\nTrue Negatives(TN) = ', cm[1,1])\n",
    "\n",
    "print('\\nFalse Positives(FP) = ', cm[0,1])"
   ]
  },
  {
   "cell_type": "code",
   "execution_count": 157,
   "id": "fde5caee",
   "metadata": {},
   "outputs": [
    {
     "data": {
      "text/plain": [
       "<AxesSubplot:>"
      ]
     },
     "execution_count": 157,
     "metadata": {},
     "output_type": "execute_result"
    },
    {
     "data": {
      "image/png": "[encoded data removed]",
      "text/plain": [
       "<Figure size 432x288 with 2 Axes>"
      ]
     },
     "metadata": {
      "needs_background": "light"
     },
     "output_type": "display_data"
    }
   ],
   "source": [
    "# visualize confusion matrix with seaborn heatmap\n",
    "\n",
    "cm_matrix = pd.DataFrame(data=cm, columns=['Actual Positive:1', 'Actual Negative:0'], \n",
    "                                 index=['Predict Positive:1', 'Predict Negative:0'])\n",
    "\n",
    "sns.heatmap(cm_matrix, annot=True, fmt='d', cmap='YlGnBu')"
   ]
  },
  {
   "cell_type": "code",
   "execution_count": 158,
   "id": "b278f621",
   "metadata": {},
   "outputs": [
    {
     "name": "stdout",
     "output_type": "stream",
     "text": [
      "              precision    recall  f1-score   support\n",
      "\n",
      "           0       0.74      0.77      0.76      1631\n",
      "           1       0.54      0.50      0.52       885\n",
      "\n",
      "    accuracy                           0.68      2516\n",
      "   macro avg       0.64      0.64      0.64      2516\n",
      "weighted avg       0.67      0.68      0.67      2516\n",
      "\n"
     ]
    }
   ],
   "source": [
    "from sklearn.metrics import classification_report\n",
    "\n",
    "print(classification_report(y_test, y_knn_test))"
   ]
  },
  {
   "cell_type": "code",
   "execution_count": 159,
   "id": "809745c3",
   "metadata": {},
   "outputs": [],
   "source": [
    "#Classification Accuracy\n",
    "TP = cm[0,0]\n",
    "TN = cm[1,1]\n",
    "FP = cm[0,1]\n",
    "FN = cm[1,0]"
   ]
  },
  {
   "cell_type": "code",
   "execution_count": 160,
   "id": "8496bac8",
   "metadata": {},
   "outputs": [
    {
     "name": "stdout",
     "output_type": "stream",
     "text": [
      "Classification accuracy : 0.6757\n"
     ]
    }
   ],
   "source": [
    "# print classification accuracy\n",
    "\n",
    "classification_accuracy = (TP + TN) / float(TP + TN + FP + FN)\n",
    "\n",
    "print('Classification accuracy : {0:0.4f}'.format(classification_accuracy))"
   ]
  },
  {
   "cell_type": "code",
   "execution_count": 161,
   "id": "e613e67e",
   "metadata": {},
   "outputs": [
    {
     "name": "stdout",
     "output_type": "stream",
     "text": [
      "Classification error : 0.3243\n"
     ]
    }
   ],
   "source": [
    "# Classification error\n",
    "\n",
    "classification_error = (FP + FN) / float(TP + TN + FP + FN)\n",
    "\n",
    "print('Classification error : {0:0.4f}'.format(classification_error))"
   ]
  },
  {
   "cell_type": "code",
   "execution_count": 162,
   "id": "6b827a0b",
   "metadata": {},
   "outputs": [
    {
     "name": "stdout",
     "output_type": "stream",
     "text": [
      "Precision : 0.7713\n"
     ]
    }
   ],
   "source": [
    "# print precision score\n",
    "\n",
    "precision = TP / float(TP + FP)\n",
    "\n",
    "\n",
    "print('Precision : {0:0.4f}'.format(precision))"
   ]
  },
  {
   "cell_type": "code",
   "execution_count": 163,
   "id": "8c4b9872",
   "metadata": {},
   "outputs": [
    {
     "name": "stdout",
     "output_type": "stream",
     "text": [
      "Recall or Sensitivity : 0.7396\n"
     ]
    }
   ],
   "source": [
    "recall = TP / float(TP + FN)\n",
    "\n",
    "print('Recall or Sensitivity : {0:0.4f}'.format(recall))"
   ]
  },
  {
   "cell_type": "code",
   "execution_count": 164,
   "id": "2d168bce",
   "metadata": {},
   "outputs": [
    {
     "name": "stdout",
     "output_type": "stream",
     "text": [
      "True Positive Rate : 0.7396\n"
     ]
    }
   ],
   "source": [
    "true_positive_rate = TP / float(TP + FN)\n",
    "\n",
    "\n",
    "print('True Positive Rate : {0:0.4f}'.format(true_positive_rate))"
   ]
  },
  {
   "cell_type": "code",
   "execution_count": 165,
   "id": "18e042b1",
   "metadata": {},
   "outputs": [
    {
     "name": "stdout",
     "output_type": "stream",
     "text": [
      "Specificity : 0.5423\n"
     ]
    }
   ],
   "source": [
    "specificity = TN / (TN + FP)\n",
    "\n",
    "print('Specificity : {0:0.4f}'.format(specificity))"
   ]
  },
  {
   "cell_type": "code",
   "execution_count": 166,
   "id": "6fd71a1e",
   "metadata": {
    "scrolled": false
   },
   "outputs": [
    {
     "data": {
      "image/png": "[encoded data removed]",
      "text/plain": [
       "<Figure size 432x288 with 1 Axes>"
      ]
     },
     "metadata": {
      "needs_background": "light"
     },
     "output_type": "display_data"
    }
   ],
   "source": [
    "#Generating ROC AND AUC Score\n",
    "#Generate AUC-ROC curve\n",
    "from sklearn.metrics import roc_auc_score\n",
    "from sklearn.metrics import roc_curve\n",
    "knn_roc_auc = roc_auc_score(y_test, knn.predict(x_test))\n",
    "fpr, tpr, thresholds = roc_curve(y_test, knn.predict_proba(x_test)[:,1])\n",
    "plt.figure()\n",
    "plt.plot(fpr, tpr, label='K Nearest Neighbour (area = %0.2f)' % knn_roc_auc)\n",
    "plt.plot([0, 1], [0, 1],'r--')\n",
    "plt.xlim([0.0, 1.0])\n",
    "plt.ylim([0.0, 1.05])\n",
    "plt.xlabel('False Positive Rate')\n",
    "plt.ylabel('True Positive Rate')\n",
    "plt.title('Receiver Operating Characteristic')\n",
    "plt.legend(loc=\"lower right\")\n",
    "plt.savefig('Knn_ROC')\n",
    "plt.show()"
   ]
  },
  {
   "cell_type": "code",
   "execution_count": 167,
   "id": "aa7001e3",
   "metadata": {},
   "outputs": [
    {
     "name": "stdout",
     "output_type": "stream",
     "text": [
      "ROC AUC : 0.6354\n"
     ]
    }
   ],
   "source": [
    "# compute ROC AUC\n",
    "\n",
    "from sklearn.metrics import roc_auc_score\n",
    "\n",
    "ROC_AUC = roc_auc_score(y_test, y_knn_test)\n",
    "print('ROC AUC : {:.4f}'.format(ROC_AUC))"
   ]
  },
  {
   "cell_type": "code",
   "execution_count": null,
   "id": "a7133cd8",
   "metadata": {},
   "outputs": [],
   "source": []
  },
  {
   "cell_type": "code",
   "execution_count": 168,
   "id": "fd63811f",
   "metadata": {},
   "outputs": [],
   "source": [
    "#XG BOOST MODEL"
   ]
  },
  {
   "cell_type": "code",
   "execution_count": 174,
   "id": "5b59cdc1",
   "metadata": {},
   "outputs": [],
   "source": [
    "import xgboost as xgb\n",
    "from sklearn.metrics import mean_squared_error\n",
    "from xgboost import XGBClassifier "
   ]
  },
  {
   "cell_type": "code",
   "execution_count": 176,
   "id": "892ed547",
   "metadata": {},
   "outputs": [
    {
     "data": {
      "text/plain": [
       "XGBClassifier(base_score=0.5, booster='gbtree', callbacks=None,\n",
       "              colsample_bylevel=1, colsample_bynode=1, colsample_bytree=1,\n",
       "              early_stopping_rounds=None, enable_categorical=False,\n",
       "              eval_metric=None, feature_types=None, gamma=0, gpu_id=-1,\n",
       "              grow_policy='depthwise', importance_type=None,\n",
       "              interaction_constraints='', learning_rate=0.300000012,\n",
       "              max_bin=256, max_cat_threshold=64, max_cat_to_onehot=4,\n",
       "              max_delta_step=0, max_depth=6, max_leaves=0, min_child_weight=1,\n",
       "              missing=nan, monotone_constraints='()', n_estimators=100,\n",
       "              n_jobs=0, num_parallel_tree=1, predictor='auto', random_state=0, ...)"
      ]
     },
     "execution_count": 176,
     "metadata": {},
     "output_type": "execute_result"
    }
   ],
   "source": [
    " \n",
    "xgb_class = XGBClassifier()\n",
    "xgb_class.fit(x_train,y_train)"
   ]
  },
  {
   "cell_type": "code",
   "execution_count": 177,
   "id": "43af8996",
   "metadata": {},
   "outputs": [],
   "source": [
    "y_pred_xgb_train = xgb_class.predict(x_train)\n",
    "y_pred_xgb_test = xgb_class.predict(x_test)"
   ]
  },
  {
   "cell_type": "code",
   "execution_count": 178,
   "id": "f570426a",
   "metadata": {},
   "outputs": [
    {
     "name": "stdout",
     "output_type": "stream",
     "text": [
      "Training-set accuracy score: 0.9271\n"
     ]
    }
   ],
   "source": [
    "print('Training-set accuracy score: {0:0.4f}'. format(accuracy_score(y_train, y_pred_xgb_train)))"
   ]
  },
  {
   "cell_type": "code",
   "execution_count": 180,
   "id": "009764f1",
   "metadata": {},
   "outputs": [
    {
     "name": "stdout",
     "output_type": "stream",
     "text": [
      "Training-set accuracy score: 0.7949\n"
     ]
    }
   ],
   "source": [
    "print('Training-set accuracy score: {0:0.4f}'. format(accuracy_score(y_test, y_pred_xgb_test)))"
   ]
  },
  {
   "cell_type": "code",
   "execution_count": 181,
   "id": "880e4a35",
   "metadata": {},
   "outputs": [
    {
     "name": "stdout",
     "output_type": "stream",
     "text": [
      "Confusion matrix\n",
      "\n",
      " [[1439  192]\n",
      " [ 324  561]]\n",
      "\n",
      "True Positives(TP) =  1439\n",
      "\n",
      "True Negatives(TN) =  561\n",
      "\n",
      "False Positives(FP) =  192\n"
     ]
    }
   ],
   "source": [
    "from sklearn.metrics import confusion_matrix\n",
    "\n",
    "cm = confusion_matrix(y_test, y_pred_xgb_test)\n",
    "\n",
    "print('Confusion matrix\\n\\n', cm)\n",
    "\n",
    "print('\\nTrue Positives(TP) = ', cm[0,0])\n",
    "\n",
    "print('\\nTrue Negatives(TN) = ', cm[1,1])\n",
    "\n",
    "print('\\nFalse Positives(FP) = ', cm[0,1])"
   ]
  },
  {
   "cell_type": "code",
   "execution_count": 182,
   "id": "2a3d14a8",
   "metadata": {},
   "outputs": [
    {
     "data": {
      "text/plain": [
       "<AxesSubplot:>"
      ]
     },
     "execution_count": 182,
     "metadata": {},
     "output_type": "execute_result"
    },
    {
     "data": {
      "image/png": "[encoded data removed]",
      "text/plain": [
       "<Figure size 432x288 with 2 Axes>"
      ]
     },
     "metadata": {
      "needs_background": "light"
     },
     "output_type": "display_data"
    }
   ],
   "source": [
    "# visualize confusion matrix with seaborn heatmap\n",
    "\n",
    "cm_matrix = pd.DataFrame(data=cm, columns=['Actual Positive:1', 'Actual Negative:0'], \n",
    "                                 index=['Predict Positive:1', 'Predict Negative:0'])\n",
    "\n",
    "sns.heatmap(cm_matrix, annot=True, fmt='d', cmap='YlGnBu')"
   ]
  },
  {
   "cell_type": "code",
   "execution_count": 183,
   "id": "8586b0b3",
   "metadata": {},
   "outputs": [
    {
     "name": "stdout",
     "output_type": "stream",
     "text": [
      "              precision    recall  f1-score   support\n",
      "\n",
      "           0       0.82      0.88      0.85      1631\n",
      "           1       0.75      0.63      0.68       885\n",
      "\n",
      "    accuracy                           0.79      2516\n",
      "   macro avg       0.78      0.76      0.77      2516\n",
      "weighted avg       0.79      0.79      0.79      2516\n",
      "\n"
     ]
    }
   ],
   "source": [
    "from sklearn.metrics import classification_report\n",
    "\n",
    "print(classification_report(y_test, y_pred_xgb_test))"
   ]
  },
  {
   "cell_type": "code",
   "execution_count": 184,
   "id": "31afe8ee",
   "metadata": {},
   "outputs": [],
   "source": [
    "#Classification Accuracy\n",
    "TP = cm[0,0]\n",
    "TN = cm[1,1]\n",
    "FP = cm[0,1]\n",
    "FN = cm[1,0]"
   ]
  },
  {
   "cell_type": "code",
   "execution_count": 185,
   "id": "77c53f13",
   "metadata": {},
   "outputs": [
    {
     "name": "stdout",
     "output_type": "stream",
     "text": [
      "Classification accuracy : 0.7949\n"
     ]
    }
   ],
   "source": [
    "# print classification accuracy\n",
    "\n",
    "classification_accuracy = (TP + TN) / float(TP + TN + FP + FN)\n",
    "\n",
    "print('Classification accuracy : {0:0.4f}'.format(classification_accuracy))"
   ]
  },
  {
   "cell_type": "code",
   "execution_count": 186,
   "id": "6af7efa0",
   "metadata": {},
   "outputs": [
    {
     "name": "stdout",
     "output_type": "stream",
     "text": [
      "Classification error : 0.2051\n"
     ]
    }
   ],
   "source": [
    "# Classification error\n",
    "\n",
    "classification_error = (FP + FN) / float(TP + TN + FP + FN)\n",
    "\n",
    "print('Classification error : {0:0.4f}'.format(classification_error))"
   ]
  },
  {
   "cell_type": "code",
   "execution_count": 187,
   "id": "061c11da",
   "metadata": {},
   "outputs": [
    {
     "name": "stdout",
     "output_type": "stream",
     "text": [
      "Precision : 0.8823\n"
     ]
    }
   ],
   "source": [
    "# print precision score\n",
    "\n",
    "precision = TP / float(TP + FP)\n",
    "\n",
    "\n",
    "print('Precision : {0:0.4f}'.format(precision))"
   ]
  },
  {
   "cell_type": "code",
   "execution_count": 188,
   "id": "a6e39b5f",
   "metadata": {},
   "outputs": [
    {
     "name": "stdout",
     "output_type": "stream",
     "text": [
      "Recall or Sensitivity : 0.8162\n"
     ]
    }
   ],
   "source": [
    "recall = TP / float(TP + FN)\n",
    "\n",
    "print('Recall or Sensitivity : {0:0.4f}'.format(recall))"
   ]
  },
  {
   "cell_type": "code",
   "execution_count": 189,
   "id": "16d89712",
   "metadata": {},
   "outputs": [
    {
     "name": "stdout",
     "output_type": "stream",
     "text": [
      "Specificity : 0.7450\n"
     ]
    }
   ],
   "source": [
    "specificity = TN / (TN + FP)\n",
    "\n",
    "print('Specificity : {0:0.4f}'.format(specificity))"
   ]
  },
  {
   "cell_type": "code",
   "execution_count": 192,
   "id": "ca973ce0",
   "metadata": {},
   "outputs": [
    {
     "data": {
      "image/png": "[encoded data removed]",
      "text/plain": [
       "<Figure size 432x288 with 1 Axes>"
      ]
     },
     "metadata": {
      "needs_background": "light"
     },
     "output_type": "display_data"
    }
   ],
   "source": [
    "#Generating ROC AND AUC Score\n",
    "#Generate AUC-ROC curve\n",
    "from sklearn.metrics import roc_auc_score\n",
    "from sklearn.metrics import roc_curve\n",
    "xgb_roc_auc = roc_auc_score(y_test, xgb_class.predict(x_test))\n",
    "fpr, tpr, thresholds = roc_curve(y_test, xgb_class.predict_proba(x_test)[:,1])\n",
    "plt.figure()\n",
    "plt.plot(fpr, tpr, label='XG Boost (area = %0.2f)' % xgb_roc_auc)\n",
    "plt.plot([0, 1], [0, 1],'r--')\n",
    "plt.xlim([0.0, 1.0])\n",
    "plt.ylim([0.0, 1.05])\n",
    "plt.xlabel('False Positive Rate')\n",
    "plt.ylabel('True Positive Rate')\n",
    "plt.title('Receiver Operating Characteristic')\n",
    "plt.legend(loc=\"lower right\")\n",
    "plt.savefig('xgb_ROC')\n",
    "plt.show()"
   ]
  },
  {
   "cell_type": "code",
   "execution_count": 193,
   "id": "50941217",
   "metadata": {},
   "outputs": [
    {
     "name": "stdout",
     "output_type": "stream",
     "text": [
      "ROC AUC : 0.7581\n"
     ]
    }
   ],
   "source": [
    "# compute ROC AUC\n",
    "\n",
    "from sklearn.metrics import roc_auc_score\n",
    "\n",
    "ROC_AUC = roc_auc_score(y_test, y_pred_xgb_test)\n",
    "print('ROC AUC : {:.4f}'.format(ROC_AUC))"
   ]
  },
  {
   "cell_type": "code",
   "execution_count": 194,
   "id": "237e5925",
   "metadata": {},
   "outputs": [],
   "source": [
    "#K Fold Cross Validation"
   ]
  },
  {
   "cell_type": "code",
   "execution_count": 197,
   "id": "7e0b1ad0",
   "metadata": {},
   "outputs": [
    {
     "name": "stdout",
     "output_type": "stream",
     "text": [
      "[0.70634921 0.65873016 0.77777778 0.70634921 0.71428571 0.76984127\n",
      " 0.6984127  0.69047619 0.77777778 0.71428571 0.83333333 0.73015873\n",
      " 0.79365079 0.6984127  0.6984127  0.73809524 0.696      0.712\n",
      " 0.712      0.768     ]\n"
     ]
    }
   ],
   "source": [
    "#Cross Validation Method\n",
    "from sklearn.model_selection import cross_val_score\n",
    "\n",
    "accuracy_test_rf = cross_val_score(xgb_class,x_test,y_test,cv = 20)\n",
    "\n",
    "print(accuracy_test_rf)"
   ]
  }
 ],
 "metadata": {
  "kernelspec": {
   "display_name": "Python 3 (ipykernel)",
   "language": "python",
   "name": "python3"
  },
  "language_info": {
   "codemirror_mode": {
    "name": "ipython",
    "version": 3
   },
   "file_extension": ".py",
   "mimetype": "text/x-python",
   "name": "python",
   "nbconvert_exporter": "python",
   "pygments_lexer": "ipython3",
   "version": "3.9.12"
  }
 },
 "nbformat": 4,
 "nbformat_minor": 5
}
